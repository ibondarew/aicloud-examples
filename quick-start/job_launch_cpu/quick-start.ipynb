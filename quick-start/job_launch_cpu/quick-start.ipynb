{
 "cells": [
  {
   "cell_type": "markdown",
   "metadata": {
    "tags": []
   },
   "source": [
    "# 1. Подготовка"
   ]
  },
  {
   "cell_type": "markdown",
   "metadata": {},
   "source": [
    "Импортируем библиотеки."
   ]
  },
  {
   "cell_type": "code",
   "execution_count": 3,
   "metadata": {
    "tags": []
   },
   "outputs": [],
   "source": [
    "import requests\n",
    "import pathlib\n",
    "import client_lib # импортируем библиотеку для работы с ML Space"
   ]
  },
  {
   "cell_type": "markdown",
   "metadata": {
    "tags": []
   },
   "source": [
    "Устанавливаем переменные."
   ]
  },
  {
   "cell_type": "code",
   "execution_count": 4,
   "metadata": {
    "tags": []
   },
   "outputs": [
    {
     "name": "stdout",
     "output_type": "stream",
     "text": [
      "Working dir: /home/jovyan/aicloud-examples/quick-start/job_launch_cpu\n"
     ]
    }
   ],
   "source": [
    "BASE_DIR = str(pathlib.Path().absolute())\n",
    "print(f\"Working dir: {BASE_DIR}\")"
   ]
  },
  {
   "cell_type": "markdown",
   "metadata": {
    "tags": []
   },
   "source": [
    "# 2. Запуск задачи обучения"
   ]
  },
  {
   "cell_type": "markdown",
   "metadata": {},
   "source": [
    "Запускать задачу в регионе будем с помощью класса `client_lib.Job()`."
   ]
  },
  {
   "cell_type": "markdown",
   "metadata": {},
   "source": [
    "Обязательные параметры для запуска задачи обучения:\n",
    "- `script` – путь к запускаемому скрипту;\n",
    "- `base_image` – базовый образ, в котором будет исполняться скрипт обучения модели;\n",
    "- `instance_type` – конфигурация вычислительных ресурсов, используемых для решения задач.\n",
    "\n",
    "Подробное описание параметров – в [документации client_lib](https://cloud.ru/ru/docs/aicloud/mlspace/concepts/client-lib__job.html)."
   ]
  },
  {
   "cell_type": "markdown",
   "metadata": {},
   "source": [
    "По умолчанию задачи запускаются в регионе Christofari.V100. Чтобы запустить задачу в другом регионе, необходимо указать его в параметре `region`. \n",
    "\n",
    "См. [Список регионов и их обозначения в client_lib](https://cloud.ru/docs/aicloud/mlspace/concepts/client-lib__job.html#row-body-region).\n",
    "\n",
    "Для примера запустим задачу в регионе Cloud.Region.A100, обозначенном как `SR002-MT`."
   ]
  },
  {
   "cell_type": "markdown",
   "metadata": {},
   "source": [
    "Для масштабирования задачи доступны следующие параметры:\n",
    "\n",
    "- `n_workers` – количество рабочих узлов региона, на котором будет исполняться скрипт;\n",
    "- `instance_type` – конфигурация вычислительных ресурсов, используемых для решения задач.\n",
    "\n",
    "Для выбора значения параметра `instance_type` воспользуемся методом `get_instance_types()`.\n",
    "\n",
    "Выведем значения `instance_type` и посмотрим, какие доступны для региона `SR003`."
   ]
  },
  {
   "cell_type": "code",
   "execution_count": 5,
   "metadata": {
    "tags": []
   },
   "outputs": [
    {
     "data": {
      "text/html": [
       "<div>\n",
       "<style scoped>\n",
       "    .dataframe tbody tr th:only-of-type {\n",
       "        vertical-align: middle;\n",
       "    }\n",
       "\n",
       "    .dataframe tbody tr th {\n",
       "        vertical-align: top;\n",
       "    }\n",
       "\n",
       "    .dataframe thead th {\n",
       "        text-align: right;\n",
       "    }\n",
       "</style>\n",
       "<table border=\"1\" class=\"dataframe\">\n",
       "  <thead>\n",
       "    <tr style=\"text-align: right;\">\n",
       "      <th></th>\n",
       "      <th>region</th>\n",
       "      <th>instance_type</th>\n",
       "      <th>memory</th>\n",
       "      <th>cpu</th>\n",
       "      <th>gpu</th>\n",
       "    </tr>\n",
       "  </thead>\n",
       "  <tbody>\n",
       "    <tr>\n",
       "      <th>39</th>\n",
       "      <td>SR003</td>\n",
       "      <td>free.0gpu</td>\n",
       "      <td>3Gi</td>\n",
       "      <td>0.5</td>\n",
       "      <td>0</td>\n",
       "    </tr>\n",
       "    <tr>\n",
       "      <th>40</th>\n",
       "      <td>SR003</td>\n",
       "      <td>cpu.2C.8G</td>\n",
       "      <td>7Gi</td>\n",
       "      <td>1.5</td>\n",
       "      <td>0</td>\n",
       "    </tr>\n",
       "    <tr>\n",
       "      <th>41</th>\n",
       "      <td>SR003</td>\n",
       "      <td>cpu.8C.32G</td>\n",
       "      <td>31Gi</td>\n",
       "      <td>7.5</td>\n",
       "      <td>0</td>\n",
       "    </tr>\n",
       "    <tr>\n",
       "      <th>42</th>\n",
       "      <td>SR003</td>\n",
       "      <td>cpu.12C.48G</td>\n",
       "      <td>47Gi</td>\n",
       "      <td>11.5</td>\n",
       "      <td>0</td>\n",
       "    </tr>\n",
       "    <tr>\n",
       "      <th>43</th>\n",
       "      <td>SR003</td>\n",
       "      <td>cpu.16C.64G</td>\n",
       "      <td>57Gi</td>\n",
       "      <td>15.5</td>\n",
       "      <td>0</td>\n",
       "    </tr>\n",
       "    <tr>\n",
       "      <th>44</th>\n",
       "      <td>SR003</td>\n",
       "      <td>cpu-ai-2xgiant</td>\n",
       "      <td>128Gi</td>\n",
       "      <td>32.0</td>\n",
       "      <td>0</td>\n",
       "    </tr>\n",
       "    <tr>\n",
       "      <th>45</th>\n",
       "      <td>SR003</td>\n",
       "      <td>cpu-ai-3xgiant</td>\n",
       "      <td>192Gi</td>\n",
       "      <td>48.0</td>\n",
       "      <td>0</td>\n",
       "    </tr>\n",
       "    <tr>\n",
       "      <th>46</th>\n",
       "      <td>SR003</td>\n",
       "      <td>a100plus.1gpu.80vG.12C.96G</td>\n",
       "      <td>96Gi</td>\n",
       "      <td>12.0</td>\n",
       "      <td>1</td>\n",
       "    </tr>\n",
       "    <tr>\n",
       "      <th>47</th>\n",
       "      <td>SR003</td>\n",
       "      <td>a100.1gpu</td>\n",
       "      <td>243Gi</td>\n",
       "      <td>16.0</td>\n",
       "      <td>1</td>\n",
       "    </tr>\n",
       "    <tr>\n",
       "      <th>48</th>\n",
       "      <td>SR003</td>\n",
       "      <td>a100plus.2gpu.80vG.24C.192G</td>\n",
       "      <td>192Gi</td>\n",
       "      <td>24.0</td>\n",
       "      <td>2</td>\n",
       "    </tr>\n",
       "    <tr>\n",
       "      <th>49</th>\n",
       "      <td>SR003</td>\n",
       "      <td>a100.2gpu</td>\n",
       "      <td>486Gi</td>\n",
       "      <td>32.0</td>\n",
       "      <td>2</td>\n",
       "    </tr>\n",
       "    <tr>\n",
       "      <th>50</th>\n",
       "      <td>SR003</td>\n",
       "      <td>a100plus.3gpu.80vG.36C.288G</td>\n",
       "      <td>288Gi</td>\n",
       "      <td>36.0</td>\n",
       "      <td>3</td>\n",
       "    </tr>\n",
       "    <tr>\n",
       "      <th>51</th>\n",
       "      <td>SR003</td>\n",
       "      <td>a100.3gpu</td>\n",
       "      <td>729Gi</td>\n",
       "      <td>48.0</td>\n",
       "      <td>3</td>\n",
       "    </tr>\n",
       "    <tr>\n",
       "      <th>52</th>\n",
       "      <td>SR003</td>\n",
       "      <td>a100plus.4gpu.80vG.48C.384G</td>\n",
       "      <td>384Gi</td>\n",
       "      <td>48.0</td>\n",
       "      <td>4</td>\n",
       "    </tr>\n",
       "    <tr>\n",
       "      <th>53</th>\n",
       "      <td>SR003</td>\n",
       "      <td>a100.4gpu</td>\n",
       "      <td>972Gi</td>\n",
       "      <td>64.0</td>\n",
       "      <td>4</td>\n",
       "    </tr>\n",
       "    <tr>\n",
       "      <th>54</th>\n",
       "      <td>SR003</td>\n",
       "      <td>a100plus.5gpu.80vG.60C.480G</td>\n",
       "      <td>480Gi</td>\n",
       "      <td>60.0</td>\n",
       "      <td>5</td>\n",
       "    </tr>\n",
       "    <tr>\n",
       "      <th>55</th>\n",
       "      <td>SR003</td>\n",
       "      <td>a100.5gpu</td>\n",
       "      <td>1215Gi</td>\n",
       "      <td>80.0</td>\n",
       "      <td>5</td>\n",
       "    </tr>\n",
       "    <tr>\n",
       "      <th>56</th>\n",
       "      <td>SR003</td>\n",
       "      <td>a100plus.6gpu.80vG.72C.576G</td>\n",
       "      <td>576Gi</td>\n",
       "      <td>72.0</td>\n",
       "      <td>6</td>\n",
       "    </tr>\n",
       "    <tr>\n",
       "      <th>57</th>\n",
       "      <td>SR003</td>\n",
       "      <td>a100.6gpu</td>\n",
       "      <td>1458Gi</td>\n",
       "      <td>96.0</td>\n",
       "      <td>6</td>\n",
       "    </tr>\n",
       "    <tr>\n",
       "      <th>58</th>\n",
       "      <td>SR003</td>\n",
       "      <td>a100plus.7gpu.80vG.84C.672G</td>\n",
       "      <td>672Gi</td>\n",
       "      <td>84.0</td>\n",
       "      <td>7</td>\n",
       "    </tr>\n",
       "    <tr>\n",
       "      <th>59</th>\n",
       "      <td>SR003</td>\n",
       "      <td>a100.7gpu</td>\n",
       "      <td>1701Gi</td>\n",
       "      <td>112.0</td>\n",
       "      <td>7</td>\n",
       "    </tr>\n",
       "    <tr>\n",
       "      <th>60</th>\n",
       "      <td>SR003</td>\n",
       "      <td>a100plus.8gpu.80vG.96C.768G</td>\n",
       "      <td>768Gi</td>\n",
       "      <td>96.0</td>\n",
       "      <td>8</td>\n",
       "    </tr>\n",
       "    <tr>\n",
       "      <th>61</th>\n",
       "      <td>SR003</td>\n",
       "      <td>a100.8gpu</td>\n",
       "      <td>1944Gi</td>\n",
       "      <td>128.0</td>\n",
       "      <td>8</td>\n",
       "    </tr>\n",
       "  </tbody>\n",
       "</table>\n",
       "</div>"
      ],
      "text/plain": [
       "   region                instance_type  memory    cpu  gpu\n",
       "39  SR003                    free.0gpu     3Gi    0.5    0\n",
       "40  SR003                    cpu.2C.8G     7Gi    1.5    0\n",
       "41  SR003                   cpu.8C.32G    31Gi    7.5    0\n",
       "42  SR003                  cpu.12C.48G    47Gi   11.5    0\n",
       "43  SR003                  cpu.16C.64G    57Gi   15.5    0\n",
       "44  SR003               cpu-ai-2xgiant   128Gi   32.0    0\n",
       "45  SR003               cpu-ai-3xgiant   192Gi   48.0    0\n",
       "46  SR003   a100plus.1gpu.80vG.12C.96G    96Gi   12.0    1\n",
       "47  SR003                    a100.1gpu   243Gi   16.0    1\n",
       "48  SR003  a100plus.2gpu.80vG.24C.192G   192Gi   24.0    2\n",
       "49  SR003                    a100.2gpu   486Gi   32.0    2\n",
       "50  SR003  a100plus.3gpu.80vG.36C.288G   288Gi   36.0    3\n",
       "51  SR003                    a100.3gpu   729Gi   48.0    3\n",
       "52  SR003  a100plus.4gpu.80vG.48C.384G   384Gi   48.0    4\n",
       "53  SR003                    a100.4gpu   972Gi   64.0    4\n",
       "54  SR003  a100plus.5gpu.80vG.60C.480G   480Gi   60.0    5\n",
       "55  SR003                    a100.5gpu  1215Gi   80.0    5\n",
       "56  SR003  a100plus.6gpu.80vG.72C.576G   576Gi   72.0    6\n",
       "57  SR003                    a100.6gpu  1458Gi   96.0    6\n",
       "58  SR003  a100plus.7gpu.80vG.84C.672G   672Gi   84.0    7\n",
       "59  SR003                    a100.7gpu  1701Gi  112.0    7\n",
       "60  SR003  a100plus.8gpu.80vG.96C.768G   768Gi   96.0    8\n",
       "61  SR003                    a100.8gpu  1944Gi  128.0    8"
      ]
     },
     "execution_count": 5,
     "metadata": {},
     "output_type": "execute_result"
    }
   ],
   "source": [
    "client_lib.get_instance_types(client_lib.ClusterType.MT)"
   ]
  },
  {
   "cell_type": "markdown",
   "metadata": {},
   "source": [
    "Для примера запустим задачу на 1 воркере с 1 GPU.\n",
    "\n",
    "Сохраним в переменные название региона, `instanse_type` и образы."
   ]
  },
  {
   "cell_type": "code",
   "execution_count": 33,
   "metadata": {},
   "outputs": [],
   "source": [
    "REGION = \"SR003\"\n",
    "INSTANCE_TYPE = \"cpu.8C.32G\"\n",
    "N_WORKERS = 1\n",
    "BASE_IMAGE = 'cr.ai.cloud.ru/aicloud-base-images/horovod-cuda10.0-tf1.15.0-pt1.3.0'"
   ]
  },
  {
   "cell_type": "code",
   "execution_count": 34,
   "metadata": {},
   "outputs": [],
   "source": [
    "job = client_lib.Job(\n",
    "    base_image=BASE_IMAGE,\n",
    "    script=f'{BASE_DIR}/xgboost-boston-house-price.py',\n",
    "    region=REGION,\n",
    "    instance_type=INSTANCE_TYPE,\n",
    "    n_workers=N_WORKERS,\n",
    "    type=\"pytorch2\",\n",
    "    processes_per_worker=1,\n",
    "    job_desc=\"pytorch2 | client_lib | use_env=False | CPU-job\",\n",
    ")\n"
   ]
  },
  {
   "cell_type": "markdown",
   "metadata": {},
   "source": [
    "Запустим задачу методом `submit()`."
   ]
  },
  {
   "cell_type": "code",
   "execution_count": 35,
   "metadata": {},
   "outputs": [
    {
     "data": {
      "text/plain": [
       "'Job \"lm-mpi-job-172804b7-72c5-40fd-ba76-29fe96648060\" created.'"
      ]
     },
     "execution_count": 35,
     "metadata": {},
     "output_type": "execute_result"
    }
   ],
   "source": [
    "job.submit()"
   ]
  },
  {
   "cell_type": "markdown",
   "metadata": {},
   "source": [
    "Для получения статуса задачи воспользуемся методом `status()`.\n",
    "\n",
    "См. [Список статусов задачи](https://cloud.ru/docs/aicloud/mlspace/concepts/guides/guides__env__common/environments__model-training__overview-statistics.html)."
   ]
  },
  {
   "cell_type": "code",
   "execution_count": 37,
   "metadata": {},
   "outputs": [
    {
     "data": {
      "text/plain": [
       "'Job status=Running'"
      ]
     },
     "execution_count": 37,
     "metadata": {},
     "output_type": "execute_result"
    }
   ],
   "source": [
    "job.status()"
   ]
  },
  {
   "cell_type": "markdown",
   "metadata": {},
   "source": [
    "Для просмотра логов задачи вызовем метод `logs()`.\n",
    "\n",
    "Логи будут доступны после запуска задачи, то есть ее перехода в статус \"Running\"."
   ]
  },
  {
   "cell_type": "code",
   "execution_count": 38,
   "metadata": {
    "scrolled": true
   },
   "outputs": [
    {
     "name": "stdout",
     "output_type": "stream",
     "text": [
      "2024-05-24T13:30:12.655223156Z Job lm-mpi-job-172804b7-72c5-40fd-ba76-29fe96648060 is starting...\n",
      "2024-05-24T13:30:12.726321310Z 🕒 Waiting for workers to be ready... 🕒\n",
      "2024-05-24T13:30:27.738773286Z Connecting to mpimaster-0 ..... Ready ✓\n",
      "2024-05-24T13:30:27.738798875Z 🚀 All workers are READY 🚀\n",
      "2024-05-24T13:30:28.929731014Z [1,0]<stdout>:Working dir: /home/jovyan\n",
      "2024-05-24T13:30:28.944478031Z [1,0]<stdout>:<class 'pandas.core.frame.DataFrame'>\n",
      "2024-05-24T13:30:28.944509359Z [1,0]<stdout>:RangeIndex: 20640 entries, 0 to 20639\n",
      "2024-05-24T13:30:28.944513341Z [1,0]<stdout>:Data columns (total 9 columns):\n",
      "2024-05-24T13:30:28.944515980Z [1,0]<stdout>: #   Column      Non-Null Count  Dtype  \n",
      "2024-05-24T13:30:28.944518558Z [1,0]<stdout>:---  ------      --------------  -----  \n",
      "2024-05-24T13:30:28.944521264Z [1,0]<stdout>: 0   MedInc      20640 non-null  float64\n",
      "2024-05-24T13:30:28.944523764Z [1,0]<stdout>: 1   HouseAge    20640 non-null  float64\n",
      "2024-05-24T13:30:28.944526440Z [1,0]<stdout>: 2   AveRooms    20640 non-null  float64\n",
      "2024-05-24T13:30:28.944528845Z [1,0]<stdout>: 3   AveBedrms   20640 non-null  float64\n",
      "2024-05-24T13:30:28.944531450Z [1,0]<stdout>: 4   Population  20640 non-null  float64\n",
      "2024-05-24T13:30:28.944533839Z [1,0]<stdout>: 5   AveOccup    20640 non-null  float64\n",
      "2024-05-24T13:30:28.944536208Z [1,0]<stdout>: 6   Latitude    20640 non-null  float64\n",
      "2024-05-24T13:30:28.944538722Z [1,0]<stdout>: 7   Longitude   20640 non-null  float64\n",
      "2024-05-24T13:30:28.944541058Z [1,0]<stdout>: 8   Price       20640 non-null  float64\n",
      "2024-05-24T13:30:28.944544347Z [1,0]<stdout>:dtypes: float64(9)\n",
      "2024-05-24T13:30:28.944546913Z [1,0]<stdout>:memory usage: 1.4 MB\n",
      "2024-05-24T13:30:36.473524330Z [1,0]<stdout>:==================================================\n",
      "2024-05-24T13:30:36.473556457Z [1,0]<stdout>:RMSE: 0.47390177839101205\n"
     ]
    }
   ],
   "source": [
    "job.logs()"
   ]
  },
  {
   "cell_type": "markdown",
   "metadata": {},
   "source": [
    "Задача завершится автоматически после выполнения скрипта. Если необходимо прервать выполнение задачи, используется методом `kill()`."
   ]
  },
  {
   "cell_type": "code",
   "execution_count": 32,
   "metadata": {},
   "outputs": [
    {
     "data": {
      "text/plain": [
       "'Job \"lm-mpi-job-7a81772c-1c88-4437-ad70-119c68f791cb\" deleted'"
      ]
     },
     "execution_count": 32,
     "metadata": {},
     "output_type": "execute_result"
    }
   ],
   "source": [
    "job.kill()"
   ]
  },
  {
   "cell_type": "markdown",
   "metadata": {
    "tags": []
   },
   "source": [
    "# 3. [Опционально] Сохранение промежуточных результатов обучения модели"
   ]
  },
  {
   "cell_type": "markdown",
   "metadata": {},
   "source": [
    "Если в процессе обучения модели вы сохраняете промежуточные результаты, или чекпоинты, обучения, они попадают в папку `./logs`. Их можно скачать через веб-интерфейс Jupyter-ноутбука или скопировать из локально доступной файловой системы в хранилище S3.\n",
    "\n",
    "Внутри кода задачи обучения можно сохранять метрики модели с помощью MLflow. Пример — в коде исполняемого файла `xgboost-boston-house-price.py`."
   ]
  }
 ],
 "metadata": {
  "kernelspec": {
   "display_name": "Python [conda env:root] *",
   "language": "python",
   "name": "conda-root-py"
  },
  "language_info": {
   "codemirror_mode": {
    "name": "ipython",
    "version": 3
   },
   "file_extension": ".py",
   "mimetype": "text/x-python",
   "name": "python",
   "nbconvert_exporter": "python",
   "pygments_lexer": "ipython3",
   "version": "3.9.18"
  }
 },
 "nbformat": 4,
 "nbformat_minor": 4
}
