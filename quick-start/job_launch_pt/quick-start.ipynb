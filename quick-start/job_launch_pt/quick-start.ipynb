{
 "cells": [
  {
   "cell_type": "markdown",
   "metadata": {
    "tags": []
   },
   "source": [
    "# 1. Подготовка"
   ]
  },
  {
   "cell_type": "markdown",
   "metadata": {},
   "source": [
    "### Импортируем библиотеки"
   ]
  },
  {
   "cell_type": "code",
   "execution_count": 1,
   "metadata": {
    "tags": []
   },
   "outputs": [],
   "source": [
    "import requests\n",
    "import pathlib\n",
    "import client_lib # импортируем библиотеку для работы с ML Space"
   ]
  },
  {
   "cell_type": "markdown",
   "metadata": {
    "tags": []
   },
   "source": [
    "### Устанавливаем переменные"
   ]
  },
  {
   "cell_type": "code",
   "execution_count": 2,
   "metadata": {
    "tags": []
   },
   "outputs": [
    {
     "name": "stdout",
     "output_type": "stream",
     "text": [
      "Working dir: /home/jovyan/aicloud-examples/quick-start/job_launch_pt\n"
     ]
    }
   ],
   "source": [
    "BASE_DIR = str(pathlib.Path().absolute())\n",
    "print(f\"Working dir: {BASE_DIR}\")"
   ]
  },
  {
   "cell_type": "markdown",
   "metadata": {
    "tags": []
   },
   "source": [
    "# 2. Запуск задачи обучения"
   ]
  },
  {
   "cell_type": "markdown",
   "metadata": {},
   "source": [
    "Класс client_lib.Job() позволяет запускать распределённые задачи в кластере. "
   ]
  },
  {
   "cell_type": "markdown",
   "metadata": {},
   "source": [
    "Обязательные параметры для запуска задачи обучения:\n",
    "- script – путь к запускаемому скрипту\n",
    "- base_image – базовый образ, в котором будет исполняться скрипт обучения модели\n",
    "- instance_type – конфигурация вычислительных ресурсов, используемых для решения задач\n",
    "\n",
    "Подробное описание параметров можно найти в документации по [ссылке](https://cloud.ru/ru/docs/aicloud/mlspace/concepts/client-lib__job.html)"
   ]
  },
  {
   "cell_type": "markdown",
   "metadata": {},
   "source": [
    "По умолчанию задачи запускаются в регионе Christofari.V100. Для того, чтобы запустить задачу в другом регионе, необходимо указать регион в параметре region.\n",
    "\n",
    "Доступные регионы и их обозначения в client_lib:\n",
    "\n",
    "- Christofari.V100 – DGX2-MT\n",
    "- Christofari.A100 – A100-MT\n",
    "- Cloud.Region.A100 – SR002-MT\n",
    "- Cloud.Region.HP1 – SR003\n",
    "- CL.A100 – SR005\n",
    "- Cloud.Region.HP- DGX2-MT – SR006\n",
    "\n",
    "Для примера запустим задачу в регионе Cloud.Region.A100(обозначение SR002-MT)"
   ]
  },
  {
   "cell_type": "markdown",
   "metadata": {},
   "source": [
    "Для масштабирования задачи доступны следующие параметры:\n",
    "\n",
    "- n_workers – количество рабочих узлов региона, на котором будет исполняться скрипт\n",
    "- instance_type – конфигурация вычислительных ресурсов, используемых для решения задач\n",
    "\n",
    "Для выбора значения параметра instance_type воспользуемся методом get_instance_types().\n",
    "\n",
    "Выведем доступные значения instance_type для региона SR002-MT"
   ]
  },
  {
   "cell_type": "code",
   "execution_count": 3,
   "metadata": {
    "tags": []
   },
   "outputs": [
    {
     "data": {
      "text/html": [
       "<div>\n",
       "<style scoped>\n",
       "    .dataframe tbody tr th:only-of-type {\n",
       "        vertical-align: middle;\n",
       "    }\n",
       "\n",
       "    .dataframe tbody tr th {\n",
       "        vertical-align: top;\n",
       "    }\n",
       "\n",
       "    .dataframe thead th {\n",
       "        text-align: right;\n",
       "    }\n",
       "</style>\n",
       "<table border=\"1\" class=\"dataframe\">\n",
       "  <thead>\n",
       "    <tr style=\"text-align: right;\">\n",
       "      <th></th>\n",
       "      <th>region</th>\n",
       "      <th>instance_type</th>\n",
       "      <th>memory</th>\n",
       "      <th>cpu</th>\n",
       "      <th>gpu</th>\n",
       "    </tr>\n",
       "  </thead>\n",
       "  <tbody>\n",
       "    <tr>\n",
       "      <th>26</th>\n",
       "      <td>SR002-MT</td>\n",
       "      <td>free.0gpu</td>\n",
       "      <td>3Gi</td>\n",
       "      <td>0.5</td>\n",
       "      <td>0</td>\n",
       "    </tr>\n",
       "    <tr>\n",
       "      <th>27</th>\n",
       "      <td>SR002-MT</td>\n",
       "      <td>a100.1gpu.80vG.12C.96G</td>\n",
       "      <td>80Gi</td>\n",
       "      <td>10.0</td>\n",
       "      <td>1</td>\n",
       "    </tr>\n",
       "    <tr>\n",
       "      <th>28</th>\n",
       "      <td>SR002-MT</td>\n",
       "      <td>a100.1gpu.40</td>\n",
       "      <td>230Gi</td>\n",
       "      <td>12.0</td>\n",
       "      <td>1</td>\n",
       "    </tr>\n",
       "    <tr>\n",
       "      <th>29</th>\n",
       "      <td>SR002-MT</td>\n",
       "      <td>a100.2gpu.80vG.24C.192G</td>\n",
       "      <td>160Gi</td>\n",
       "      <td>20.0</td>\n",
       "      <td>2</td>\n",
       "    </tr>\n",
       "    <tr>\n",
       "      <th>30</th>\n",
       "      <td>SR002-MT</td>\n",
       "      <td>a100.2gpu.40</td>\n",
       "      <td>460Gi</td>\n",
       "      <td>24.0</td>\n",
       "      <td>2</td>\n",
       "    </tr>\n",
       "    <tr>\n",
       "      <th>31</th>\n",
       "      <td>SR002-MT</td>\n",
       "      <td>a100.3gpu.80vG.36C.288G</td>\n",
       "      <td>240Gi</td>\n",
       "      <td>30.0</td>\n",
       "      <td>3</td>\n",
       "    </tr>\n",
       "    <tr>\n",
       "      <th>32</th>\n",
       "      <td>SR002-MT</td>\n",
       "      <td>a100.3gpu.40</td>\n",
       "      <td>690Gi</td>\n",
       "      <td>36.0</td>\n",
       "      <td>3</td>\n",
       "    </tr>\n",
       "    <tr>\n",
       "      <th>33</th>\n",
       "      <td>SR002-MT</td>\n",
       "      <td>a100.4gpu.80vG.48C.384G</td>\n",
       "      <td>320Gi</td>\n",
       "      <td>40.0</td>\n",
       "      <td>4</td>\n",
       "    </tr>\n",
       "    <tr>\n",
       "      <th>34</th>\n",
       "      <td>SR002-MT</td>\n",
       "      <td>a100.4gpu.40</td>\n",
       "      <td>920Gi</td>\n",
       "      <td>48.0</td>\n",
       "      <td>4</td>\n",
       "    </tr>\n",
       "    <tr>\n",
       "      <th>35</th>\n",
       "      <td>SR002-MT</td>\n",
       "      <td>a100.5gpu.80vG.60C.480G</td>\n",
       "      <td>400Gi</td>\n",
       "      <td>50.0</td>\n",
       "      <td>5</td>\n",
       "    </tr>\n",
       "    <tr>\n",
       "      <th>36</th>\n",
       "      <td>SR002-MT</td>\n",
       "      <td>a100.6gpu.80vG.72C.576G</td>\n",
       "      <td>480Gi</td>\n",
       "      <td>60.0</td>\n",
       "      <td>6</td>\n",
       "    </tr>\n",
       "    <tr>\n",
       "      <th>37</th>\n",
       "      <td>SR002-MT</td>\n",
       "      <td>a100.7gpu.80vG.84C.672G</td>\n",
       "      <td>560Gi</td>\n",
       "      <td>70.0</td>\n",
       "      <td>7</td>\n",
       "    </tr>\n",
       "    <tr>\n",
       "      <th>38</th>\n",
       "      <td>SR002-MT</td>\n",
       "      <td>a100.8gpu.80vG.96C.768G</td>\n",
       "      <td>640Gi</td>\n",
       "      <td>80.0</td>\n",
       "      <td>8</td>\n",
       "    </tr>\n",
       "  </tbody>\n",
       "</table>\n",
       "</div>"
      ],
      "text/plain": [
       "      region            instance_type memory   cpu  gpu\n",
       "26  SR002-MT                free.0gpu    3Gi   0.5    0\n",
       "27  SR002-MT   a100.1gpu.80vG.12C.96G   80Gi  10.0    1\n",
       "28  SR002-MT             a100.1gpu.40  230Gi  12.0    1\n",
       "29  SR002-MT  a100.2gpu.80vG.24C.192G  160Gi  20.0    2\n",
       "30  SR002-MT             a100.2gpu.40  460Gi  24.0    2\n",
       "31  SR002-MT  a100.3gpu.80vG.36C.288G  240Gi  30.0    3\n",
       "32  SR002-MT             a100.3gpu.40  690Gi  36.0    3\n",
       "33  SR002-MT  a100.4gpu.80vG.48C.384G  320Gi  40.0    4\n",
       "34  SR002-MT             a100.4gpu.40  920Gi  48.0    4\n",
       "35  SR002-MT  a100.5gpu.80vG.60C.480G  400Gi  50.0    5\n",
       "36  SR002-MT  a100.6gpu.80vG.72C.576G  480Gi  60.0    6\n",
       "37  SR002-MT  a100.7gpu.80vG.84C.672G  560Gi  70.0    7\n",
       "38  SR002-MT  a100.8gpu.80vG.96C.768G  640Gi  80.0    8"
      ]
     },
     "execution_count": 3,
     "metadata": {},
     "output_type": "execute_result"
    }
   ],
   "source": [
    "client_lib.get_instance_types(client_lib.ClusterType.MT).query('region == \"SR002-MT\"')"
   ]
  },
  {
   "cell_type": "markdown",
   "metadata": {},
   "source": [
    "Для примера запустим задачу на 1 воркере с 1 ГПУ.\n",
    "\n",
    "Сохраним в переменные название региона, instanse_type и образы"
   ]
  },
  {
   "cell_type": "code",
   "execution_count": 4,
   "metadata": {},
   "outputs": [],
   "source": [
    "REGION = \"SR002-MT\"\n",
    "INSTANCE_TYPE = \"a100.1gpu.40\"\n",
    "N_WORKERS = 1\n",
    "BASE_IMAGE = \"cr.ai.cloud.ru/aicloud-base-images/cuda12.1-torch2-py39:0.0.36\""
   ]
  },
  {
   "cell_type": "code",
   "execution_count": 5,
   "metadata": {},
   "outputs": [],
   "source": [
    "job = client_lib.Job(\n",
    "    base_image=BASE_IMAGE,\n",
    "    script=f\"{BASE_DIR}/train_distributed_example-torch2.py\",\n",
    "    region=REGION,\n",
    "    instance_type=INSTANCE_TYPE,\n",
    "    n_workers=N_WORKERS,\n",
    "    type=\"pytorch2\",\n",
    "    processes_per_worker=1,\n",
    "    job_desc=\"pytorch2 | client_lib | use_env=False | torch2\",\n",
    ")\n"
   ]
  },
  {
   "cell_type": "markdown",
   "metadata": {},
   "source": [
    "Запустим задачу методом submit()"
   ]
  },
  {
   "cell_type": "code",
   "execution_count": 6,
   "metadata": {},
   "outputs": [
    {
     "data": {
      "text/plain": [
       "'Job \"lm-mpi-job-53fda410-5482-48b3-badf-c7f1b21135b0\" created.'"
      ]
     },
     "execution_count": 6,
     "metadata": {},
     "output_type": "execute_result"
    }
   ],
   "source": [
    "job.submit()"
   ]
  },
  {
   "cell_type": "markdown",
   "metadata": {},
   "source": [
    "Для получения статуса задачи воспользуемся методом status()\n",
    "\n",
    "Возможные статусы задачи \n",
    "\n",
    "- «Pending» - Задача находится в очереди на выделение ресурсов, которые нужны для ее исполнения.\n",
    "\n",
    "- «Running» - Задача обучения выполняется.\n",
    "\n",
    "- «Completed» или «Succeeded» – Задача обучения завершилась.\n",
    "\n",
    "- «Completing» – Задача обучения завершается.\n",
    "\n",
    "- «Failed» – Задача обучения завершилась с ошибкой, рекомендуется проверить логи задачи.\n",
    "\n",
    "- «Deleted» или «Terminated» – Задача обучения удалена.\n",
    "\n",
    "- «Stopped» или «Aborted» – Задача обучения остановлена.\n",
    "\n",
    "- «Terminating» – Задача обучения останавливается. Освобождаются ресурсы, задача и поды удаляются.\n",
    "\n",
    "- «Aborting» – Задача обучения останавливается. Освобождаются ресурсы, удаляются только поды."
   ]
  },
  {
   "cell_type": "code",
   "execution_count": 7,
   "metadata": {},
   "outputs": [
    {
     "data": {
      "text/plain": [
       "'Job status=Pending'"
      ]
     },
     "execution_count": 7,
     "metadata": {},
     "output_type": "execute_result"
    }
   ],
   "source": [
    "job.status()"
   ]
  },
  {
   "cell_type": "markdown",
   "metadata": {},
   "source": [
    "Для просмотра логов задачи можно вызвать метод logs()\n",
    "\n",
    "Логи будут доступны после запуска задачи(перехода в статус Running)"
   ]
  },
  {
   "cell_type": "code",
   "execution_count": 8,
   "metadata": {
    "scrolled": true
   },
   "outputs": [
    {
     "name": "stdout",
     "output_type": "stream",
     "text": [
      "\"Job lm-mpi-job-53fda410-5482-48b3-badf-c7f1b21135b0 in queue. Try later\"\n"
     ]
    }
   ],
   "source": [
    "job.logs()"
   ]
  },
  {
   "cell_type": "markdown",
   "metadata": {},
   "source": [
    "Задача завершиться автоматически после выполнения скрипта. Если требуется прервать выполнение задачи, можно воспользоваться методом kill()"
   ]
  },
  {
   "cell_type": "code",
   "execution_count": 9,
   "metadata": {},
   "outputs": [
    {
     "data": {
      "text/plain": [
       "'Job \"lm-mpi-job-53fda410-5482-48b3-badf-c7f1b21135b0\" deleted'"
      ]
     },
     "execution_count": 9,
     "metadata": {},
     "output_type": "execute_result"
    }
   ],
   "source": [
    "job.kill()"
   ]
  },
  {
   "cell_type": "markdown",
   "metadata": {
    "tags": []
   },
   "source": [
    "# 3. [Optional] - Сохранение промежуточных результатов обучения модели"
   ]
  },
  {
   "cell_type": "markdown",
   "metadata": {},
   "source": [
    "Если в процессе обучения модели пользователь сохраняет промежуточные результаты (checkpoints) обучения, они попадают в папку `./logs`. Их можно скачать через веб-интерфейс Jupyter-ноутбука или скопировать из локально доступной файловой системы в хранилище S3."
   ]
  },
  {
   "cell_type": "markdown",
   "metadata": {},
   "source": [
    "## Выгрузка результатов обучения модели с NFS на S3\n",
    "\n",
    "Для переноса файлов между NFS и S3 можно использовать [методы копирования client_lib](https://aicdoc-613-add-in-faq-from--e42921f5.docs.sbercloud.dev/aicloud/mlspace/concepts/client-lib__copy-to-nfs.html#id1) или правила переноса [Data Transfer Service](https://cloud.ru/ru/docs/aicloud/mlspace/concepts/guides/guides__dc/data-catalog__data-processing__create-transfer-rule.html)\n",
    "\n",
    "Рассмотрим копирование файлов из NFS на S3 воркспейса с помощью метода ```copy_from_nfs()```\n",
    "\n"
   ]
  },
  {
   "cell_type": "code",
   "execution_count": 24,
   "metadata": {},
   "outputs": [
    {
     "data": {
      "text/plain": [
       "TransferData(id='a58d680a-e927-4320-9e6a-da988e88f740', created_transfer_data={'cluster_name': 'pd11', 'connector_id': '04930312-40ed-42d1-8d3a-ac510b0393d0', 'created': '2024-05-23T12:51:03.464797', 'description': 'Copy data from NFS. Called from jupyter client_lib', 'destination_connector_id': '0a30997d-b205-459e-9179-89d36a2ed0cf', 'destination_source_category': 's3mlspace', 'execution_date': None, 'modified': '2024-05-23T12:51:03.464797', 'name': 'from_nfs-c299f91f-b732-43dc-84c2-eeace305978c-04930312-40ed-42d1-8d3a-ac510b0393d0', 'query': {'destination': 'quck-start', 'source': ['aicloud-examples/quick-start/job_launch_pt/logs']}, 'source_category': 'nfs', 'strategy': 'write_all', 'system': False, 'transfer_id': 'a58d680a-e927-4320-9e6a-da988e88f740', 'user_id': '4439ac3b-035e-490a-8df6-aba5b32a7695', 'workspace_id': '04930312-40ed-42d1-8d3a-ac510b0393d0'})"
      ]
     },
     "execution_count": 24,
     "metadata": {},
     "output_type": "execute_result"
    }
   ],
   "source": [
    "relative_path = str(pathlib.Path().absolute().relative_to('/home/jovyan'))\n",
    "\n",
    "client_lib.copy_from_nfs(\n",
    "    source_path=f\"{relative_path}/logs/\", # укажем путь к папке logs без /home/jovyam \n",
    "    from_region=client_lib.RegionEnum.SR002_MT, # укажем регион, в нашем случае SR002-MT\n",
    "    destination_path=\"quck-start\" # укажем место назначения переноса\n",
    ")"
   ]
  },
  {
   "cell_type": "markdown",
   "metadata": {},
   "source": [
    "С помошью ID посмотрим логи переноса"
   ]
  },
  {
   "cell_type": "code",
   "execution_count": null,
   "metadata": {},
   "outputs": [],
   "source": [
    "client_lib.get_transfer_data_logs(\"3ebe26ec-1d6f-4797-926e-642f1fcbe12f\") # id переноса берём из вывода предыдущей ячейки"
   ]
  },
  {
   "cell_type": "markdown",
   "metadata": {},
   "source": [
    "В результате мы перенесли папку logs в S3 воркспейса в папку quick-start.\n",
    "\n",
    "Проверить наличие файлов на S3 можно перейдя в раздел \"Data Catalog\" -> \"Объектное Хранилище\" и выбрав бакет воркспейса с доступом \"Public\"."
   ]
  },
  {
   "cell_type": "markdown",
   "metadata": {
    "tags": []
   },
   "source": [
    "# 4. [Optional] - Собираем кастомный образ с нужными библиотеками"
   ]
  },
  {
   "cell_type": "markdown",
   "metadata": {},
   "source": [
    "##### Посмотреть содержимое файла requirements.txt:"
   ]
  },
  {
   "cell_type": "code",
   "execution_count": null,
   "metadata": {},
   "outputs": [],
   "source": [
    "%cat ./requirements.txt"
   ]
  },
  {
   "cell_type": "markdown",
   "metadata": {},
   "source": [
    "##### Запуск сборки кастомного образа с необходимыми библиотеками\n",
    "\n",
    "После выполнения этой задачи собранный образ должен оказаться в docker registry\n",
    "\n",
    "**Важно! Для сборки кастомного образа файл requirements.txt должен быть загружен на NFS региона Christofari.V100**\n",
    "\n",
    "\n",
    "Список базовых образов, которые нужно указать в зависимости от региона в параметре \"from_image\": [Образы для задач обучения](https://cloud.ru/ru/docs/aicloud/mlspace/concepts/environments__basic-images-list__jobs.html)\n",
    "\n",
    "\n"
   ]
  },
  {
   "cell_type": "markdown",
   "metadata": {},
   "source": [
    "Также есть возможность собрать кастомный образ локально с помощью Docker. Инструкция доступна по [ссылке](https://cloud.ru/ru/docs/aicloud/mlspace/concepts/guides/guides__mt/environments__docker-registry__custom__job__image.html)"
   ]
  },
  {
   "cell_type": "code",
   "execution_count": null,
   "metadata": {},
   "outputs": [],
   "source": [
    "job = client_lib.ImageBuildJob(\n",
    "    from_image=BASE_IMAGE,  # базовый образ для задач обучения\n",
    "    requirements_file=f\"{BASE_DIR}/requirements.txt\", # файл с зависимостями для кастомного образа\n",
    ")\n",
    "\n",
    "job.submit()"
   ]
  },
  {
   "cell_type": "code",
   "execution_count": null,
   "metadata": {},
   "outputs": [],
   "source": [
    "job.new_image  # идентификатор кастомного образа"
   ]
  },
  {
   "cell_type": "code",
   "execution_count": null,
   "metadata": {
    "scrolled": true
   },
   "outputs": [],
   "source": [
    "job.logs()  # просмотр логов сборки образа в интерактивном режиме"
   ]
  }
 ],
 "metadata": {
  "kernelspec": {
   "display_name": "Python [conda env:base] *",
   "language": "python",
   "name": "conda-base-py"
  },
  "language_info": {
   "codemirror_mode": {
    "name": "ipython",
    "version": 3
   },
   "file_extension": ".py",
   "mimetype": "text/x-python",
   "name": "python",
   "nbconvert_exporter": "python",
   "pygments_lexer": "ipython3",
   "version": "3.9.19"
  }
 },
 "nbformat": 4,
 "nbformat_minor": 4
}
