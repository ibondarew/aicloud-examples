{
 "cells": [
  {
   "cell_type": "markdown",
   "metadata": {},
   "source": [
    "# Public API V2 <a class=\"anchor\" id=\"notebook-head\"></a>"
   ]
  },
  {
   "cell_type": "markdown",
   "metadata": {},
   "source": [
    "## Введение <a class=\"anchor\" id=\"introduction\"></a>"
   ]
  },
  {
   "attachments": {},
   "cell_type": "markdown",
   "metadata": {},
   "source": [
    "Здравствуйте и добро пожаловать в ноутбук, посвященный функциональности \n",
    "[Public API V2](https://docs.sbercloud.ru/aicloud/mlspace/concepts/api.html) \n",
    "в рамках платформы \n",
    "[ML Space](https://sbercloud.ru/ru/aicloud/mlspace).\n",
    "\n",
    "ML Space предоставляет [REST API](https://en.wikipedia.org/wiki/Representational_state_transfer) \n",
    "для того, чтобы пользователи могли частично или полностью автоматизировать пайплайны.\n",
    "\n",
    "Автоматизация позволяет оптимизировать процесс разработки, избавившись от повторяющихся манипуляций с данными/моделями/etc. с помощью \n",
    "[ML Space UI](https://cloud.ru/ru/docs/aicloud/mlspace/concepts/quickstart.html).\n",
    "\n",
    "Например, у пользователя есть уже заготовленный скрипт, который при незначительных модификациях будет взаимодействовать с ML Space посредством REST API.\n",
    "\n",
    "В данном ноутбуке описаны примеры использования REST API \n",
    "\n",
    "В ноутбуке представлен следующий список операций, которые можно выполнять при помощи REST API:\n",
    "- Авторизация пользователя \n",
    "- Работа с данными\n",
    "    - Выгрузка содержание бакета\n",
    "    - Получение credentials бакета\n",
    "    - Копирование данных из S3 на NFS\n",
    "    - Копирование данных из NFS на S3\n",
    "    - Создание и активация S3 коннектора\n",
    "    - Получение id коннектора\n",
    "    - Создание переноса с помощью коннектора\n",
    "    - Получение логов переноса\n",
    "    - Удаление данных с NFS\n",
    "- Базовые Docker-образы\n",
    "    - Получение списка базовых Docker-образов\n",
    "- Операции с Jupyter Server\n",
    "    - Создание Jupyter Server\n",
    "    - Получение списка Jupyter Server \n",
    "    - Приостановить Jupyter Server\n",
    "    - Удалить Jupyter Server \n",
    "- Задачи на кластере\n",
    "    - Получение списка задач\n",
    "    - Запуск задачи\n",
    "    - Получение статуса задачи\n",
    "    - Выгрузка логов задачи\n",
    "    - Удаление задачи\n",
    "    - Получение инстанс типов\n",
    "    - Получение доступных spark конфигураций\n",
    "- Inference-методы\n",
    "    - Получение списка сервисов\n",
    "    - Получение информации по сервису\n",
    "    - Создание образа для инференс-сервиса\n",
    "    - Просмотр статуса сборки образа для инференс-сервиса\n",
    "    - Просмотр логов сборки образа для инференс-сервиса\n",
    "    - Создание деплоя на основе собранного образа\n",
    "    - Отправление запроса к созданному сервису\n",
    "\n",
    "Прежде чем приступить к рассмотрению примеров, необходимо проверить, соблюдены ли предварительные требования:\n",
    "* <span style=\"color:green;font-weight:bold\">(РЕКОМЕНДУЕТСЯ)</span> Запуск данного ноутбука предпочтительно осуществлять в Jupyter Lab. Это связано с тем, что Jupyter Lab (в отличие от Jupyter Notebook) умеет красиво визуализировать JSON-структуры;\n",
    "\n",
    "* Наличие рядом с самим ноутбуком JSON-файла с необходимыми авторизационными данными от вашего аккаунта (<span style=\"color:red;font-weight:bold\">ВНИМАНИЕ:</span> это необходимо <span style=\"color:red;font-weight:bold\">исключительно</span> для удобства. Вы можете не создавать такой файл, главное - иметь необходимые данные для авторизации);\n",
    "\n",
    "* Наличие ```X-Api-Key``` (более подробно описан [здесь](https://cloud.ru/ru/docs/aicloud/mlspace/concepts/guides/guides__profile/profile__develop-func.html#id1));\n",
    "\n",
    "* Наличие ```X-Workspace-Id``` (используется практически во всех REST-запросах в Public API V2).\n",
    "\n"
   ]
  },
  {
   "cell_type": "markdown",
   "metadata": {},
   "source": [
    "# Содержание <a class=\"anchor\" id=\"toc\"></a>"
   ]
  },
  {
   "cell_type": "markdown",
   "metadata": {
    "heading_collapsed": "true"
   },
   "source": [
    "* [Public API V2](#notebook-head)\n",
    "    * [Введение](#introduction)\n",
    "* [Все необходимые библиотеки](#all-imports-necessary)\n",
    "* [Вспомогательные функции и переменные](#auxiliary-stuff)\n",
    "* [Предварительные требования](#prerequisites)\n",
    "    * [JSON-файл с необходимыми авторизационными данными](#prerequisites-part-1)\n",
    "    * [X-Api-Key](#prerequisites-part-2)\n",
    "    * [X-Workspace-Id](#prerequisites-part-3)\n",
    "* [Авторизация](#authorization)\n",
    "* [Работа с данными](#s3)\n",
    "    * [Выгрузка содержание бакета](#s3-get-bucket-content-structure)\n",
    "    * [Получение credentials бакета](#s3-credentials)\n",
    "    * [Копировать данные из S3 на NFS](#s3-copy-to-nfs)\n",
    "    * [Копировать данные из NFS на S3](#s3-copy-from-s3)\n",
    "    * [Получение sources и paramaters коннектора](#s3-source-params)\n",
    "    * [Создание и активация S3 коннектора](#s3-create-try-connector)\n",
    "    * [Получение id коннектора](#s3-get-id-connector)\n",
    "    * [Создание переноса с помощью коннектора](#s3-create-transfer)\n",
    "    * [Получение логов переноса](#s3-transfer-logs)\n",
    "    * [Удаление данных с NFS](#s3-nfs-delete)\n",
    "* [Базовые Docker-образы](#docker-images)\n",
    "    * [Получить список базовых Docker-образов](#docker-images-get)\n",
    "* [Задачи на кластере](#jobs)\n",
    "    * [Получение списка задач](#jobs-get)\n",
    "    * [Запуск задачи](#jobs-run)\n",
    "    * [Выгрузка логов задачи](#jobs-job-logs)\n",
    "    * [Удаление задачи](#jobs-delete)\n",
    "    * [Получение инстанс типов](#jobs-instance-type)\n",
    "    * [Получение доступных spark конфигураций](#jobs-spark-config)\n",
    "* [Inference-методы](#inference)\n",
    "    * [Получить список сервисов](#inference-get-services-list)\n",
    "    * [Получить информацию по сервису](#inference-get-service-info)\n",
    "    * [Создать образ для инференс-сервиса](#inference-create-an-image)\n",
    "    * [Просмотреть статус сборки образа для инференс-сервиса](#inference-image-creation-status)\n",
    "    * [Просмотреть  логи сборки образа для инференс-сервиса](#inference-image-creation-logs)\n",
    "    * [Создать деплой на основе собранного образа](#inference-create-service)\n",
    "    * [Отправить запрос к созданному сервису](#inference-get-a-response-from-service)"
   ]
  },
  {
   "cell_type": "markdown",
   "metadata": {},
   "source": [
    "# Все необходимые библиотеки ([содержание](#toc))<a class=\"anchor\" id=\"all-imports-necessary\"></a>"
   ]
  },
  {
   "cell_type": "markdown",
   "metadata": {},
   "source": [
    "Импорт необходимых библиотек"
   ]
  },
  {
   "cell_type": "code",
   "execution_count": 21,
   "metadata": {},
   "outputs": [],
   "source": [
    "import os\n",
    "\n",
    "import json\n",
    "\n",
    "import copy\n",
    "\n",
    "import requests\n",
    "\n",
    "from IPython.display import JSON"
   ]
  },
  {
   "cell_type": "markdown",
   "metadata": {},
   "source": [
    "# Вспомогательные функции и переменные ([содержание](#toc))<a class=\"anchor\" id=\"auxiliary-stuff\"></a>"
   ]
  },
  {
   "cell_type": "code",
   "execution_count": 12,
   "metadata": {},
   "outputs": [],
   "source": [
    "# def wipe_out_sensitive_information(func):\n",
    "    \n",
    "#     def recursive_information_deletion(credentials_dict):\n",
    "#         sensitive_info_fields = [\n",
    "#             \"password\", \"id\", \"x-api-key\",\n",
    "#             \"access_key_id\", \"secret_access_key\",\n",
    "#             \"endpoint_url\", \"bucket_name\",\n",
    "#             \"access_token\", \"refresh_token\",\n",
    "#             \"s3_endpoint\", \"aws_access_key_id\",\n",
    "#             \"aws_secret_access_key\"\n",
    "#         ]\n",
    "        \n",
    "#         if isinstance(credentials_dict, dict):\n",
    "#             for k, v in credentials_dict.items():\n",
    "#                 if isinstance(v, dict):\n",
    "#                     new_v = recursive_information_deletion(v)\n",
    "                    \n",
    "#                     credentials_dict[k] = new_v\n",
    "#                 elif isinstance(v, str):\n",
    "#                     if k in sensitive_info_fields:\n",
    "#                         credentials_dict[k] = \"[SENSITIVE INFORMATION, WIPED OUT]\"\n",
    "#                 elif isinstance(v, list):\n",
    "#                     for i, item in enumerate(v):\n",
    "#                         new_v_i = recursive_information_deletion(item)\n",
    "                        \n",
    "#                         v[i] = new_v_i\n",
    "                        \n",
    "#         return credentials_dict\n",
    "\n",
    "#     def wrapper(credentials_dict):\n",
    "#         credentials_dict_copy = copy.deepcopy(credentials_dict)\n",
    "        \n",
    "#         credentials_dict_copy[\"[THIS IS A COPY]\"] = True\n",
    "        \n",
    "#         credentials_dict_copy = recursive_information_deletion(credentials_dict_copy)\n",
    "        \n",
    "#         return_value = func(credentials_dict_copy)\n",
    "        \n",
    "#         return return_value\n",
    "    \n",
    "#     return wrapper"
   ]
  },
  {
   "cell_type": "code",
   "execution_count": 13,
   "metadata": {},
   "outputs": [],
   "source": [
    "# JSON = wipe_out_sensitive_information(JSON)"
   ]
  },
  {
   "cell_type": "code",
   "execution_count": 14,
   "metadata": {},
   "outputs": [],
   "source": [
    "host = \"https://api.aicloud.sbercloud.ru\"\n",
    "\n",
    "rest_call_template = \"{}/public/v2/{}\""
   ]
  },
  {
   "cell_type": "markdown",
   "metadata": {},
   "source": [
    "# Предварительные требования ([содержание](#toc))<a class=\"anchor\" id=\"prerequisites\"></a>"
   ]
  },
  {
   "cell_type": "markdown",
   "metadata": {
    "tags": []
   },
   "source": [
    "## JSON-файл с необходимыми авторизационными данными ([содержание](#toc))<a class=\"anchor\" id=\"prerequisites-part-1\"></a>"
   ]
  },
  {
   "attachments": {},
   "cell_type": "markdown",
   "metadata": {},
   "source": [
    "#### Параметры Client_id и client_secret - long API Keys.\n",
    "см. [Параметры разработчика](https://sbercloud.ru/ru/docs/aicloud/mlspace/concepts/guides/guides__profile/profile__develop-func.html)\n",
    "\n",
    "Если требуется автоматизация использования переменных заполните содержимое файла **credentials_dict.json**.\n",
    "Файл **credentials_dict.json** при выполнении ячеек должен находиться в том же каталоге, что и сам Jupyter Notebook."
   ]
  },
  {
   "cell_type": "code",
   "execution_count": 15,
   "metadata": {},
   "outputs": [],
   "source": [
    "with open(\"credentials_dict.json\", \"r\") as f:\n",
    "    credentials_dict = json.load(f)"
   ]
  },
  {
   "cell_type": "code",
   "execution_count": 16,
   "metadata": {},
   "outputs": [],
   "source": [
    "\n",
    "credentials = {\n",
    "    \"client_id\": credentials_dict[\"client_id\"],\n",
    "    \"client_secret\": credentials_dict[\"client_secret\"]\n",
    "}\n"
   ]
  },
  {
   "cell_type": "markdown",
   "metadata": {},
   "source": [
    "## X-Api-Key ([содержание](#toc))<a class=\"anchor\" id=\"prerequisites-part-2\"></a>"
   ]
  },
  {
   "cell_type": "markdown",
   "metadata": {},
   "source": [
    "```X-Api-Key``` (он же ```GWAPI_KEY```) - это клиентский ключ доступа к API (подробнее по [ссылке](https://sbercloud.ru/ru/docs/aicloud/mlspace/concepts/guides/guides__profile/profile__develop-func.html)).\n",
    "\n",
    "Он индивидуален для каждого [воркспейса](https://docs.sbercloud.ru/aicloud/mlspace/concepts/profile__workspace.html) в рамках аккаунта пользователя.\n",
    "\n",
    "При создании нового Jupyter Server-а в окружении создается переменная ```GWAPI_KEY```, туда записывается значение ```X-Api-Key```.\n",
    "\n",
    "Способы получения X-Api-Key:\n",
    "\n",
    "\n",
    "```python\n",
    "import os\n",
    "print(os.environ[\"GWAPI_KEY\"])\n",
    "```\n",
    "```bash\n",
    "echo $GWAPI_KEY\n",
    "```\n",
    "```bash\n",
    "%%bash\n",
    "\n",
    "echo $GWAPI_KEY\n",
    "```\n",
    "```bash\n",
    "! echo $GWAPI_KEY\n",
    "```\n"
   ]
  },
  {
   "cell_type": "markdown",
   "metadata": {},
   "source": [
    "## X-Workspace-Id ([содержание](#toc))<a class=\"anchor\" id=\"prerequisites-part-3\"></a>"
   ]
  },
  {
   "cell_type": "markdown",
   "metadata": {},
   "source": [
    "```X-Workspace-Id``` - это уникальный идентификатор вашего [воркспейса](https://docs.sbercloud.ru/aicloud/mlspace/concepts/profile__workspace.html), в котором вы работаете.\n",
    "\n",
    "Более подробно вы можете почитать об этом поле в соответствующем разделе [документации](https://docs.sbercloud.ru/aicloud/mlspace/concepts/deployments__send-http-requests-to-service.html?highlight=workspace%20id#http)."
   ]
  },
  {
   "cell_type": "markdown",
   "metadata": {},
   "source": [
    "# Авторизация ([содержание](#toc))<a class=\"anchor\" id=\"authorization\"></a>"
   ]
  },
  {
   "cell_type": "code",
   "execution_count": 17,
   "metadata": {},
   "outputs": [],
   "source": [
    "endpoint = \"service_auth\"\n",
    "\n",
    "json_body = json.dumps(credentials)\n",
    "\n",
    "headers = {\n",
    "    \"X-Api-Key\": credentials_dict[\"workspaces\"][0][\"x-api-key\"],\n",
    "    \"Content-Type\": \"application/json\"\n",
    "}\n",
    "\n"
   ]
  },
  {
   "cell_type": "code",
   "execution_count": 18,
   "metadata": {},
   "outputs": [],
   "source": [
    "url = rest_call_template.format(host, endpoint)\n",
    "url\n",
    "response = requests.request(\n",
    "    \"POST\",\n",
    "    url,\n",
    "    headers=headers,\n",
    "    data=json_body\n",
    ")\n",
    "\n",
    "auth_response_json = json.loads(response.text)"
   ]
  },
  {
   "cell_type": "code",
   "execution_count": 19,
   "metadata": {},
   "outputs": [
    {
     "data": {
      "application/json": {
       "error_code": 1,
       "error_message": "invalid user credentials"
      },
      "text/plain": [
       "<IPython.core.display.JSON object>"
      ]
     },
     "execution_count": 19,
     "metadata": {
      "application/json": {
       "expanded": false,
       "root": "root"
      }
     },
     "output_type": "execute_result"
    }
   ],
   "source": [
    "JSON(auth_response_json)"
   ]
  },
  {
   "cell_type": "markdown",
   "metadata": {},
   "source": [
    "# Работа с данными ([содержание](#toc))<a class=\"anchor\" id=\"s3\"></a>"
   ]
  },
  {
   "cell_type": "markdown",
   "metadata": {},
   "source": [
    "## Получение credentials бакета ([содержание](#toc))<a class=\"anchor\" id=\"s3-credentials\"></a>"
   ]
  },
  {
   "cell_type": "markdown",
   "metadata": {},
   "source": [
    "Подробнее в [документации](https://api.aicloud.sbercloud.ru/public/v2/redoc#tag/s3/operation/get_s3_credentials_public_v2_s3_credentials_get)"
   ]
  },
  {
   "cell_type": "code",
   "execution_count": null,
   "metadata": {},
   "outputs": [],
   "source": [
    "\n",
    "endpoint = \"s3/credentials\"\n",
    "\n",
    "headers = {\n",
    "    \"x-api-key\": credentials_dict[\"workspaces\"][0][\"x-api-key\"],\n",
    "    \"authorization\": auth_response_json[\"token\"][\"access_token\"],\n",
    "    \"x-workspace-id\": credentials_dict[\"workspaces\"][0][\"id\"]\n",
    "}\n",
    "\n",
    "url = rest_call_template.format(host, endpoint)\n",
    "url\n",
    "\n"
   ]
  },
  {
   "cell_type": "code",
   "execution_count": null,
   "metadata": {},
   "outputs": [],
   "source": [
    "response = requests.request(\n",
    "    \"GET\",\n",
    "    url,\n",
    "    headers=headers,\n",
    "    \n",
    ")\n",
    "job_response_json = json.loads(response.text)"
   ]
  },
  {
   "cell_type": "code",
   "execution_count": null,
   "metadata": {},
   "outputs": [],
   "source": [
    "JSON(job_response_json)"
   ]
  },
  {
   "cell_type": "code",
   "execution_count": null,
   "metadata": {},
   "outputs": [],
   "source": [
    "endpoint = 's3/credentials'\n",
    "\n",
    "headers = {\n",
    "    \"x-api-key\": credentials_dict[\"workspaces\"][0][\"x-api-key\"],\n",
    "    \"authorization\": auth_response_json[\"token\"][\"access_token\"],\n",
    "    \"x-workspace-id\": credentials_dict[\"workspaces\"][0][\"id\"]\n",
    "}\n",
    "json_body = {\n",
    "  \"s3_namespace\": \"null\",\n",
    "  \"s3_endpoint\": credentials_dict[\"workspaces\"][0][\"endpoint_url\"],\n",
    "  \"access_key_id\": credentials_dict[\"workspaces\"][0][\"access_key_id\"],\n",
    "  \"security_key\": credentials_dict[\"workspaces\"][0][\"secret_access_key\"]\n",
    "}\n"
   ]
  },
  {
   "cell_type": "code",
   "execution_count": null,
   "metadata": {},
   "outputs": [],
   "source": [
    "url = rest_call_template.format(host, endpoint)\n",
    "url\n",
    "\n",
    "response = requests.request(\n",
    "    \"POST\",\n",
    "    url,\n",
    "    headers=headers,\n",
    "    json=json_body\n",
    ")"
   ]
  },
  {
   "cell_type": "code",
   "execution_count": null,
   "metadata": {},
   "outputs": [],
   "source": [
    "JSON(job_response_json)"
   ]
  },
  {
   "cell_type": "code",
   "execution_count": null,
   "metadata": {},
   "outputs": [],
   "source": []
  },
  {
   "cell_type": "markdown",
   "metadata": {
    "tags": []
   },
   "source": [
    "## Копирование данных из S3 на NFS (<span style=\"color:red;font-weight:bold\">Deprecated</span>)  ([содержание](#toc))<a class=\"anchor\" id=\"s3-copy-to-nfs\"></a>  "
   ]
  },
  {
   "cell_type": "code",
   "execution_count": null,
   "metadata": {},
   "outputs": [],
   "source": [
    "\n",
    "endpoint = \"data_transfer/v1/transfers/s3_to_nfs\"\n",
    "headers = {\n",
    "    \"x-api-key\": credentials_dict[\"workspaces\"][0][\"x-api-key\"],\n",
    "    \"authorization\": auth_response_json[\"token\"][\"access_token\"],\n",
    "    \"x-workspace-id\": credentials_dict[\"workspaces\"][0][\"id\"]\n",
    "}\n",
    "\n",
    "json_body = {\n",
    "    \"source_path\": \"\",\n",
    "    \"destination_path\": \"\",\n",
    "    \"strategy\": \"write_all\",\n",
    "    \"to_region\": \"CCE\",\n",
    "    \"s3_credentials\": {\n",
    "      \"endpoint\": credentials_dict[\"workspaces\"][0][\"endpoint_url\"],\n",
    "      \"bucket\":credentials_dict[\"workspaces\"][0][\"bucket_name\"],\n",
    "      \"access_key_id\": credentials_dict[\"workspaces\"][0][\"access_key_id\"],\n",
    "      \"security_key\": credentials_dict[\"workspaces\"][0][\"secret_access_key\"]\n",
    "  }\n",
    "}\n",
    "\n",
    "\n",
    "url = rest_call_template.format(host, endpoint)\n",
    "url"
   ]
  },
  {
   "cell_type": "code",
   "execution_count": null,
   "metadata": {},
   "outputs": [],
   "source": [
    "response = requests.request(\n",
    "    \"POST\",\n",
    "    url,\n",
    "    headers=headers,\n",
    "    json=json_body\n",
    ")\n",
    "\n",
    "job_response_json = json.loads(response.text)"
   ]
  },
  {
   "cell_type": "code",
   "execution_count": null,
   "metadata": {},
   "outputs": [],
   "source": [
    "JSON(job_response_json)"
   ]
  },
  {
   "cell_type": "markdown",
   "metadata": {},
   "source": [
    "## Копирование данных из NFS на S3 (<span style=\"color:red;font-weight:bold\">Deprecated</span>) ([содержание](#toc))<a class=\"anchor\" id=\"s3-copy-from-s3\"></a>"
   ]
  },
  {
   "cell_type": "code",
   "execution_count": null,
   "metadata": {},
   "outputs": [],
   "source": [
    "endpoint = \"data_transfer/v1/transfers/nfs_to_s3\"\n",
    "headers = {\n",
    "    \"x-api-key\": credentials_dict[\"workspaces\"][0][\"x-api-key\"],\n",
    "    \"authorization\": auth_response_json[\"token\"][\"access_token\"],\n",
    "    \"x-workspace-id\": credentials_dict[\"workspaces\"][0][\"id\"]\n",
    "}\n",
    "\n",
    "json_body = {\n",
    "    \"source_path\": \"model.pkl\",\n",
    "    \"destination_path\": \"\",\n",
    "    \"strategy\": \"write_all\",\n",
    "    \"from_region\": \"CCE\",\n",
    "    \"s3_credentials\": {\n",
    "      \"endpoint\": credentials_dict[\"workspaces\"][0][\"endpoint_url\"],\n",
    "      \"bucket\":credentials_dict[\"workspaces\"][0][\"bucket_name\"],\n",
    "      \"access_key_id\": credentials_dict[\"workspaces\"][0][\"access_key_id\"],\n",
    "      \"security_key\": credentials_dict[\"workspaces\"][0][\"secret_access_key\"]\n",
    "  }\n",
    "}\n",
    "\n",
    "\n",
    "url = rest_call_template.format(host, endpoint)\n",
    "url"
   ]
  },
  {
   "cell_type": "code",
   "execution_count": null,
   "metadata": {},
   "outputs": [],
   "source": [
    "response = requests.request(\n",
    "    \"POST\",\n",
    "    url,\n",
    "    headers=headers,\n",
    "    json=json_body\n",
    ")\n",
    "\n",
    "job_response_json = json.loads(response.text)"
   ]
  },
  {
   "cell_type": "code",
   "execution_count": null,
   "metadata": {},
   "outputs": [],
   "source": [
    "JSON(job_response_json)"
   ]
  },
  {
   "cell_type": "markdown",
   "metadata": {},
   "source": [
    "## Получение source и parameters коннектора ([содержание](#toc))<a class=\"anchor\" id=\"s3-source-params\"></a>"
   ]
  },
  {
   "cell_type": "code",
   "execution_count": null,
   "metadata": {},
   "outputs": [],
   "source": [
    "endpoint = \"data_transfer/v2/connectors/sources\"\n",
    "\n",
    "headers = {\n",
    "    \"x-api-key\": credentials_dict[\"workspaces\"][0][\"x-api-key\"],\n",
    "    \"authorization\": auth_response_json[\"token\"][\"access_token\"],\n",
    "    \"x-workspace-id\": credentials_dict[\"workspaces\"][0][\"id\"]\n",
    "}\n",
    "\n",
    "url = rest_call_template.format(host, endpoint)\n",
    "url\n"
   ]
  },
  {
   "cell_type": "code",
   "execution_count": null,
   "metadata": {},
   "outputs": [],
   "source": [
    "response = requests.request(\n",
    "    \"GET\",\n",
    "    url,\n",
    "    headers=headers\n",
    ")\n",
    "\n",
    "job_response_json = json.loads(response.text)"
   ]
  },
  {
   "cell_type": "code",
   "execution_count": null,
   "metadata": {},
   "outputs": [],
   "source": [
    "JSON(job_response_json)"
   ]
  },
  {
   "cell_type": "markdown",
   "metadata": {},
   "source": [
    "## Создание и активация коннектора ([содержание](#toc))<a class=\"anchor\" id=\"s3-create-try-connector\"></a>"
   ]
  },
  {
   "attachments": {},
   "cell_type": "markdown",
   "metadata": {},
   "source": [
    " [Создание](https://api.aicloud.sbercloud.ru/public/v2/redoc#tag/data-transfer/operation/new_connector_public_v2_data_transfer_v2_connectors_post) и [активация](https://api.aicloud.sbercloud.ru/public/v2/redoc#tag/data-transfer/operation/try_connector_public_v2_data_transfer_v2_connectors__id___try_get) коннектора"
   ]
  },
  {
   "cell_type": "code",
   "execution_count": null,
   "metadata": {},
   "outputs": [],
   "source": [
    "endpoint = \"data_transfer/v2/connectors\"\n",
    "\n",
    "headers = {\n",
    "    \"x-api-key\": credentials_dict[\"workspaces\"][0][\"x-api-key\"],\n",
    "    \"authorization\": auth_response_json[\"token\"][\"access_token\"],\n",
    "    \"x-workspace-id\": credentials_dict[\"workspaces\"][0][\"id\"]\n",
    "}\n",
    "\n",
    "json_body = {\n",
    "    \"name\": \"\",\n",
    "    \"source_type\": \"s3custom\",\n",
    "    \"favorite\" : False,\n",
    "    \"parameters\": {\n",
    "        \"endpoint\":\n",
    "        \"bucket\":\n",
    "        \"access_key_id\"\n",
    "        \"security_key\"\n",
    "    }\n",
    "    }\n",
    "\n",
    "\n",
    "url = rest_call_template.format(host, endpoint)\n",
    "url"
   ]
  },
  {
   "cell_type": "code",
   "execution_count": null,
   "metadata": {},
   "outputs": [],
   "source": [
    "response = requests.request(\n",
    "    \"POST\",\n",
    "    url,\n",
    "    headers=headers,\n",
    "    json=json_body\n",
    ")\n",
    "\n",
    "job_response_json = json.loads(response.text)"
   ]
  },
  {
   "cell_type": "code",
   "execution_count": null,
   "metadata": {},
   "outputs": [],
   "source": [
    "JSON(job_response_json)"
   ]
  },
  {
   "cell_type": "code",
   "execution_count": null,
   "metadata": {},
   "outputs": [],
   "source": [
    "endpoint = \"data_transfer/v2/connectors/{id_}/try\"\n",
    "\n",
    "headers = {\n",
    "    \"x-api-key\": credentials_dict[\"workspaces\"][0][\"x-api-key\"],\n",
    "    \"authorization\": auth_response_json[\"token\"][\"access_token\"],\n",
    "    \"x-workspace-id\": credentials_dict[\"workspaces\"][0][\"id\"]\n",
    "}\n",
    "\n",
    "url = rest_call_template.format(host, endpoint)\n",
    "url"
   ]
  },
  {
   "cell_type": "code",
   "execution_count": null,
   "metadata": {},
   "outputs": [],
   "source": [
    "response = requests.request(\n",
    "    \"GET\",\n",
    "    url,\n",
    "    headers=headers\n",
    ")\n",
    "\n",
    "jobs_response_json = json.loads(response.text)"
   ]
  },
  {
   "cell_type": "code",
   "execution_count": null,
   "metadata": {},
   "outputs": [],
   "source": [
    "JSON(job_response_json)"
   ]
  },
  {
   "cell_type": "code",
   "execution_count": null,
   "metadata": {},
   "outputs": [],
   "source": []
  },
  {
   "cell_type": "markdown",
   "metadata": {},
   "source": [
    "## Получение id коннектора ([содержание](#toc))<a class=\"anchor\" id=\"#s3-get-id-connector\"></a>"
   ]
  },
  {
   "attachments": {},
   "cell_type": "markdown",
   "metadata": {},
   "source": [
    "Подробнее в [документации](https://api.aicloud.sbercloud.ru/public/v2/redoc#tag/data-transfer/operation/connector_parameters_public_v2_data_transfer_v2_connectors__id___get)"
   ]
  },
  {
   "cell_type": "code",
   "execution_count": null,
   "metadata": {},
   "outputs": [],
   "source": [
    "endpoint = \"data_transfer/v2/connectors\"\n",
    "\n",
    "headers = {\n",
    "    \"x-api-key\": credentials_dict[\"workspaces\"][0][\"x-api-key\"],\n",
    "    \"authorization\": auth_response_json[\"token\"][\"access_token\"],\n",
    "    \"x-workspace-id\": credentials_dict[\"workspaces\"][0][\"id\"]\n",
    "}\n",
    "\n",
    "url = rest_call_template.format(host, endpoint)\n",
    "url\n",
    "\n",
    "\n"
   ]
  },
  {
   "cell_type": "code",
   "execution_count": null,
   "metadata": {},
   "outputs": [],
   "source": [
    "response = requests.request(\n",
    "    \"GET\",\n",
    "    url,\n",
    "    headers=headers\n",
    ")\n",
    "\n",
    "job_response_json = json.loads(response.text)"
   ]
  },
  {
   "cell_type": "code",
   "execution_count": null,
   "metadata": {},
   "outputs": [],
   "source": [
    "JSON(job_response_json)"
   ]
  },
  {
   "cell_type": "markdown",
   "metadata": {},
   "source": [
    "## Создание переноса с помощью коннектора ([содержание](#toc))<a class=\"anchor\" id=\"s3-create-transfer\"></a> "
   ]
  },
  {
   "attachments": {},
   "cell_type": "markdown",
   "metadata": {},
   "source": [
    "Подробнее в [документации](https://api.aicloud.sbercloud.ru/public/v2/redoc#tag/data-transfer/operation/create_transfer_public_v2_data_transfer_v2_transfer_post)"
   ]
  },
  {
   "cell_type": "code",
   "execution_count": null,
   "metadata": {},
   "outputs": [],
   "source": [
    "endpoint = \"data_transfer/v2/transfer\"\n",
    "\n",
    "headers = {\n",
    "    \"x-api-key\": credentials_dict[\"workspaces\"][0][\"x-api-key\"],\n",
    "    \"authorization\": auth_response_json[\"token\"][\"access_token\"],\n",
    "    \"x-workspace-id\": credentials_dict[\"workspaces\"][0][\"id\"]\n",
    "}\n",
    "\n",
    "json_body = {\n",
    "    \"cluster_name\": \"pd11\",\n",
    "    \"connector_id\": ,\n",
    "    \"destination_connector_id\": \"\",\n",
    "    \"name\":\"\",\n",
    "    \"strategy\": \"\",\n",
    "    \"favorite\": False,\n",
    "    \"query\": \"\"\n",
    "    }\n",
    "\n",
    "\n",
    "url = rest_call_template.format(host, endpoint)\n",
    "url\n"
   ]
  },
  {
   "cell_type": "code",
   "execution_count": null,
   "metadata": {},
   "outputs": [],
   "source": [
    "response = requests.request(\n",
    "    \"POST\",\n",
    "    url,\n",
    "    headers=headers,\n",
    "    json=json_body\n",
    ")\n",
    "\n",
    "job_response_json = json.loads(response.text)"
   ]
  },
  {
   "cell_type": "code",
   "execution_count": null,
   "metadata": {},
   "outputs": [],
   "source": [
    "JSON(job_response_json)"
   ]
  },
  {
   "cell_type": "code",
   "execution_count": null,
   "metadata": {},
   "outputs": [],
   "source": []
  },
  {
   "cell_type": "markdown",
   "metadata": {},
   "source": [
    "## Получение логов переноса ([содержание](#toc)) <a class=\"anchor\" id=\"s3-transfer-logs\"></a>"
   ]
  },
  {
   "attachments": {},
   "cell_type": "markdown",
   "metadata": {},
   "source": [
    "Подробнее в [документации](https://api.aicloud.sbercloud.ru/public/v2/redoc#tag/data-transfer/operation/transfer_logs_public_v2_data_transfer_v2_transfer_aicloud_logs__transfer_id__get)"
   ]
  },
  {
   "cell_type": "code",
   "execution_count": null,
   "metadata": {},
   "outputs": [],
   "source": [
    "endpoint = \"data_transfer/v2/transfer/aicloud-logs/{transfer_id}\"\n",
    "\n",
    "headers = {\n",
    "    \"x-api-key\": credentials_dict[\"workspaces\"][0][\"x-api-key\"],\n",
    "    \"authorization\": auth_response_json[\"token\"][\"access_token\"],\n",
    "    \"x-workspace-id\": credentials_dict[\"workspaces\"][0][\"id\"]\n",
    "}\n",
    "\n",
    "url = rest_call_template.format(host, endpoint)\n",
    "url\n",
    "\n"
   ]
  },
  {
   "cell_type": "code",
   "execution_count": null,
   "metadata": {},
   "outputs": [],
   "source": [
    "response = requests.request(\n",
    "    \"GET\",\n",
    "    url,\n",
    "    headers=headers\n",
    ")\n",
    "\n",
    "jobs_response_json = json.loads(response.text)"
   ]
  },
  {
   "cell_type": "code",
   "execution_count": null,
   "metadata": {},
   "outputs": [],
   "source": [
    "JSON(job_response_json)"
   ]
  },
  {
   "cell_type": "markdown",
   "metadata": {},
   "source": [
    "## Удаление данных с NFS ([содержание](#toc)) <a class=\"anchor\" id=\"s3-nfs-delete\"></a>"
   ]
  },
  {
   "cell_type": "markdown",
   "metadata": {},
   "source": [
    "Подробнее в [документации](https://api.aicloud.sbercloud.ru/public/v2/redoc#tag/storage/operation/delete_storage_entity_public_v2_service_storage_erase_delete)"
   ]
  },
  {
   "cell_type": "code",
   "execution_count": null,
   "metadata": {},
   "outputs": [],
   "source": [
    "endpoint = \"service/storage/erase\"\n",
    "\n",
    "headers = {\n",
    "    \"Content-Type\": \"application/json\",\n",
    "    \"x-api-key\": credentials_dict[\"workspaces\"][0][\"x-api-key\"],\n",
    "    \"authorization\": auth_response_json[\"token\"][\"access_token\"],\n",
    "    \"x-workspace-id\": credentials_dict[\"workspaces\"][0][\"id\"]\n",
    "}\n",
    "\n",
    "json_body = {\n",
    "    \"path\": \"/home/jovyan/model.pkl\",\n",
    "    \"verbose\": False,\n",
    "    \"region\": \"A100-MT\"\n",
    "    }\n",
    "\n",
    "\n",
    "url = rest_call_template.format(host, endpoint)\n",
    "url"
   ]
  },
  {
   "cell_type": "code",
   "execution_count": null,
   "metadata": {},
   "outputs": [],
   "source": [
    "response = requests.request(\n",
    "    \"DELETE\",\n",
    "    url,\n",
    "    headers=headers,\n",
    "    json=json_body\n",
    ")\n",
    "\n",
    "job_response_json = json.loads(response.text)"
   ]
  },
  {
   "cell_type": "code",
   "execution_count": null,
   "metadata": {},
   "outputs": [],
   "source": [
    "JSON(job_response_json)"
   ]
  },
  {
   "cell_type": "markdown",
   "metadata": {},
   "source": [
    "# Базовые Docker-образы ([содержание](#toc))<a class=\"anchor\" id=\"docker-images\"></a>"
   ]
  },
  {
   "cell_type": "markdown",
   "metadata": {},
   "source": [
    "## Получение списка базовых Docker-образов ([содержание](#toc))<a class=\"anchor\" id=\"docker-images-get\"></a>"
   ]
  },
  {
   "cell_type": "code",
   "execution_count": null,
   "metadata": {},
   "outputs": [],
   "source": [
    "endpoint = \"service/base_mt_images\"\n",
    "\n",
    "url = rest_call_template.format(host, endpoint)\n",
    "url"
   ]
  },
  {
   "cell_type": "code",
   "execution_count": null,
   "metadata": {},
   "outputs": [],
   "source": [
    "response = requests.request(\n",
    "    \"GET\",\n",
    "    url\n",
    ")\n",
    "\n",
    "response_json = json.loads(response.text)"
   ]
  },
  {
   "cell_type": "code",
   "execution_count": null,
   "metadata": {},
   "outputs": [],
   "source": [
    "JSON(response_json)"
   ]
  },
  {
   "cell_type": "code",
   "execution_count": null,
   "metadata": {},
   "outputs": [],
   "source": [
    "#Получить список инстанс типов\n",
    "endpoint = \"configs?cluster_type=MT\"\n",
    "\n",
    "headers = {\n",
    "    \"x-api-key\": credentials_dict[\"workspaces\"][0][\"x-api-key\"],\n",
    "    \"authorization\": auth_response_json[\"token\"][\"access_token\"],\n",
    "    \"x-workspace-id\": credentials_dict[\"workspaces\"][0][\"id\"]\n",
    "}\n",
    "\n",
    "json_body = {\n",
    "    \"cluster_type\":\"MT\"\n",
    "}  \n",
    "\n",
    "\n",
    "url = rest_call_template.format(host, endpoint)\n",
    "url\n"
   ]
  },
  {
   "cell_type": "code",
   "execution_count": null,
   "metadata": {},
   "outputs": [],
   "source": [
    "response = requests.request(\n",
    "    \"GET\",\n",
    "    url,\n",
    "    headers=headers,\n",
    "    json=json_body\n",
    ")\n",
    "\n",
    "job_response_json = json.loads(response.text)"
   ]
  },
  {
   "cell_type": "code",
   "execution_count": null,
   "metadata": {},
   "outputs": [],
   "source": [
    "JSON(job_response_json)"
   ]
  },
  {
   "cell_type": "markdown",
   "metadata": {},
   "source": [
    "# Операции с Jupyter Server ([содержание](#toc))<a class=\"anchor\" id=\"s3-get-bucket-content-structure\"></a>"
   ]
  },
  {
   "cell_type": "markdown",
   "metadata": {},
   "source": [
    "## Создание jupyter notebook ([содержание](#toc))<a class=\"anchor\" id=\"s3-get-bucket-content-structure\"></a>"
   ]
  },
  {
   "cell_type": "code",
   "execution_count": null,
   "metadata": {},
   "outputs": [],
   "source": [
    "\n",
    "\n",
    "endpoint = \"notebooks/v1/{namespace}/notebook\"\n",
    "\n",
    "headers = {\n",
    "    \"x-api-key\": credentials_dict[\"workspaces\"][0][\"x-api-key\"],\n",
    "    \"authorization\": auth_response_json[\"token\"][\"access_token\"],\n",
    "    \"x-workspace-id\": credentials_dict[\"workspaces\"][0][\"id\"]\n",
    "}\n",
    "\n",
    "json_body = {\n",
    "    \"image\": {\n",
    "        \"name\":\"cr.msk.sbercloud.ru/aicloud-base-images/horovod-cuda10.0-tf1.15.0-pt1.3.0\",\n",
    "        \"tag\":\"0.0.32.3\",\n",
    "        \"type\":\"default\"\n",
    "    },\n",
    "    \"name\": \"apijs\",\n",
    "    \"region\": \"CCE-MT\",\n",
    "    \"instance_type\":\"m3.large.8.linux\"\n",
    "    }\n",
    "\n",
    "\n",
    "url = rest_call_template.format(host, endpoint)\n",
    "url"
   ]
  },
  {
   "cell_type": "code",
   "execution_count": null,
   "metadata": {},
   "outputs": [],
   "source": [
    "response = requests.request(\n",
    "    \"POST\",\n",
    "    url,\n",
    "    headers=headers,\n",
    "    json=json_body\n",
    ")\n",
    "\n",
    "job_response_json = json.loads(response.text)"
   ]
  },
  {
   "cell_type": "code",
   "execution_count": null,
   "metadata": {},
   "outputs": [],
   "source": [
    "JSON(job_response_json)"
   ]
  },
  {
   "cell_type": "markdown",
   "metadata": {},
   "source": [
    "# Задачи на кластере ([содержание](#toc))<a class=\"anchor\" id=\"jobs\"></a>"
   ]
  },
  {
   "cell_type": "markdown",
   "metadata": {},
   "source": [
    "## Получение списка задач ([содержание](#toc))<a class=\"anchor\" id=\"jobs-get\"></a>"
   ]
  },
  {
   "cell_type": "code",
   "execution_count": null,
   "metadata": {},
   "outputs": [],
   "source": [
    "endpoint = \"jobs\"\n",
    "\n",
    "headers = {\n",
    "    \"x-api-key\": credentials_dict[\"workspaces\"][0][\"x-api-key\"],\n",
    "    \"authorization\": auth_response_json[\"token\"][\"access_token\"],\n",
    "    \"x-workspace-id\": credentials_dict[\"workspaces\"][0][\"id\"]\n",
    "}\n",
    "\n",
    "url = rest_call_template.format(host, endpoint)\n",
    "url"
   ]
  },
  {
   "cell_type": "code",
   "execution_count": null,
   "metadata": {},
   "outputs": [],
   "source": [
    "response = requests.request(\n",
    "    \"GET\",\n",
    "    url,\n",
    "    headers=headers\n",
    ")\n",
    "\n",
    "jobs_response_json = json.loads(response.text)"
   ]
  },
  {
   "cell_type": "code",
   "execution_count": null,
   "metadata": {},
   "outputs": [],
   "source": [
    "JSON(jobs_response_json)"
   ]
  },
  {
   "cell_type": "markdown",
   "metadata": {},
   "source": [
    "## Запуск задачи ([содержание](#toc))<a class=\"anchor\" id=\"jobs-run\"></a>"
   ]
  },
  {
   "cell_type": "code",
   "execution_count": null,
   "metadata": {},
   "outputs": [],
   "source": [
    "endpoint = \"jobs\"\n",
    "\n",
    "headers = {\n",
    "    \"x-api-key\": credentials_dict[\"workspaces\"][0][\"x-api-key\"],\n",
    "    \"authorization\": auth_response_json[\"token\"][\"access_token\"],\n",
    "    \"x-workspace-id\": credentials_dict[\"workspaces\"][0][\"id\"]\n",
    "}\n",
    "\n",
    "json_body = {\n",
    "    \"base_image\": \"cr.msk.sbercloud.ru/aicloud-base-images/horovod-cuda10.0-tf1.15.0-pt1.3.0:0.0.32.3\",\n",
    "    \"script\": \"/home/jovyan/test.py\",\n",
    "    \"n_gpus\": 1,\n",
    "    \"n_workers\":1,\n",
    "    \"warm_cache\": False,\n",
    "    \"region\":\"SR002-MT\",\n",
    "    \"instance_type\":\"a100.1gpu.80vG.12C.96G\"\n",
    "    }\n",
    "\n",
    "url = rest_call_template.format(host, endpoint)\n",
    "url"
   ]
  },
  {
   "cell_type": "code",
   "execution_count": null,
   "metadata": {},
   "outputs": [],
   "source": [
    "response = requests.request(\n",
    "    \"POST\",\n",
    "    url,\n",
    "    headers=headers,\n",
    "    json=json_body\n",
    ")\n",
    "\n",
    "job_response_json = json.loads(response.text)"
   ]
  },
  {
   "cell_type": "code",
   "execution_count": null,
   "metadata": {},
   "outputs": [],
   "source": [
    "JSON(job_response_json)"
   ]
  },
  {
   "cell_type": "markdown",
   "metadata": {},
   "source": [
    "## Получение статуса задачи ([содержание](#toc))<a class=\"anchor\" id=\"s3-get-bucket-content-structure\"></a>"
   ]
  },
  {
   "cell_type": "markdown",
   "metadata": {},
   "source": [
    "### Для задач обучения существуют следующие статусы:\n",
    "\n",
    "Completed — успешно завершено для обучения на GPU.\n",
    "\n",
    "Deleted — задача удалена.\n",
    "\n",
    "Failed — ошибка в процессе запуска, обучения или в скрипте.\n",
    "\n",
    "Pending — задача обучения находится в очереди на запуск.\n",
    "\n",
    "Running — задача обучения запущена.\n",
    "\n",
    "Stopped — остановлена пользователем.\n",
    "\n",
    "Succeeded — успешно завершено для обучения на CPU.\n",
    "\n",
    "Terminated — задача остановлена.\n",
    "\n",
    "Подробнее в [документации](https://sbercloud.ru/ru/docs/aicloud/mlspace/concepts/client-lib__job.html#client-lib-job-status)"
   ]
  },
  {
   "cell_type": "code",
   "execution_count": null,
   "metadata": {},
   "outputs": [],
   "source": [
    "\n",
    "endpoint = \"jobs/{}\".format(job_response_json[\"job_name\"])\n",
    "\n",
    "headers = {\n",
    "    \"x-api-key\": credentials_dict[\"workspaces\"][0][\"x-api-key\"],\n",
    "    \"authorization\": auth_response_json[\"token\"][\"access_token\"],\n",
    "    \"x-workspace-id\": credentials_dict[\"workspaces\"][0][\"id\"]\n",
    "}\n",
    "\n",
    "url = rest_call_template.format(host, endpoint)\n",
    "url"
   ]
  },
  {
   "cell_type": "code",
   "execution_count": null,
   "metadata": {},
   "outputs": [],
   "source": [
    "response = requests.request(\n",
    "    \"GET\",\n",
    "    url,\n",
    "    headers=headers\n",
    ")\n",
    "\n",
    "print(response.text)"
   ]
  },
  {
   "cell_type": "markdown",
   "metadata": {},
   "source": [
    "## Выгрузка логи задачи ([содержание](#toc))<a class=\"anchor\" id=\"jobs-job-logs\"></a>\n",
    "\n",
    "Доступно после перехода задачи в статус \"Выполняется(Running)\""
   ]
  },
  {
   "cell_type": "code",
   "execution_count": null,
   "metadata": {},
   "outputs": [],
   "source": [
    "endpoint = \"jobs/{}/logs\".format(job_response_json[\"job_name\"])\n",
    "\n",
    "headers = {\n",
    "    \"x-api-key\": credentials_dict[\"workspaces\"][0][\"x-api-key\"],\n",
    "    \"authorization\": auth_response_json[\"token\"][\"access_token\"],\n",
    "    \"x-workspace-id\": credentials_dict[\"workspaces\"][0][\"id\"]\n",
    "}\n",
    "\n",
    "url = rest_call_template.format(host, endpoint)\n",
    "url"
   ]
  },
  {
   "cell_type": "code",
   "execution_count": null,
   "metadata": {},
   "outputs": [],
   "source": [
    "response = requests.request(\n",
    "    \"GET\",\n",
    "    url,\n",
    "    headers=headers\n",
    ")\n",
    "\n",
    "print(response.text)"
   ]
  },
  {
   "cell_type": "code",
   "execution_count": null,
   "metadata": {},
   "outputs": [],
   "source": [
    "JSON(job_response_json)"
   ]
  },
  {
   "cell_type": "markdown",
   "metadata": {},
   "source": [
    "## Удаление задачи ([содержание](#toc))<a class=\"anchor\" id=\"jobs-delete\"></a>"
   ]
  },
  {
   "cell_type": "code",
   "execution_count": null,
   "metadata": {},
   "outputs": [],
   "source": [
    "endpoint = \"jobs/{}\".format(job_response_json[\"job_name\"])\n",
    "\n",
    "headers = {\n",
    "    \"x-api-key\": credentials_dict[\"workspaces\"][0][\"x-api-key\"],\n",
    "    \"authorization\": auth_response_json[\"token\"][\"access_token\"],\n",
    "    \"x-workspace-id\": credentials_dict[\"workspaces\"][0][\"id\"]\n",
    "}\n",
    "\n",
    "url = rest_call_template.format(host, endpoint)\n",
    "url"
   ]
  },
  {
   "cell_type": "code",
   "execution_count": null,
   "metadata": {},
   "outputs": [],
   "source": [
    "response = requests.request(\n",
    "    \"DELETE\",\n",
    "    url,\n",
    "    headers=headers\n",
    ")\n",
    "\n",
    "print(response.text)"
   ]
  },
  {
   "cell_type": "markdown",
   "metadata": {},
   "source": [
    "## Получение инстанс типов ([содержание](#toc))<a class=\"anchor\" id=\"jobs-instance-type\"></a>"
   ]
  },
  {
   "attachments": {},
   "cell_type": "markdown",
   "metadata": {},
   "source": [
    "Подробнее в [документации](https://cloud.ru/ru/docs/aicloud/mlspace/concepts/api.html#instances-types)"
   ]
  },
  {
   "cell_type": "code",
   "execution_count": 41,
   "metadata": {},
   "outputs": [
    {
     "data": {
      "text/plain": [
       "'https://api.aicloud.sbercloud.ru/public/v2/configs?cluster_type=MT'"
      ]
     },
     "execution_count": 41,
     "metadata": {},
     "output_type": "execute_result"
    }
   ],
   "source": [
    "endpoint = \"configs?cluster_type=MT\"     \n",
    "\n",
    "headers = {\n",
    "    \"x-api-key\": credentials_dict[\"workspaces\"][0][\"x-api-key\"],\n",
    "    \"authorization\": auth_response_json[\"token\"][\"access_token\"],\n",
    "    \"x-workspace-id\": credentials_dict[\"workspaces\"][0][\"id\"]\n",
    "}\n",
    "\n",
    "url = rest_call_template.format(host, endpoint)\n",
    "url"
   ]
  },
  {
   "cell_type": "code",
   "execution_count": 47,
   "metadata": {},
   "outputs": [],
   "source": [
    "response = requests.request(\n",
    "    \"GET\",\n",
    "    url,\n",
    "    headers=headers\n",
    ")\n",
    "job_response_json = json.loads(response.text)"
   ]
  },
  {
   "cell_type": "code",
   "execution_count": 48,
   "metadata": {},
   "outputs": [
    {
     "data": {
      "application/json": {
       "regions": [
        {
         "description": "Christofari.A100",
         "instances_types": [
          {
           "images": [
            {
             "description": null,
             "icon_key": null,
             "name": "cr.msk.sbercloud.ru/aicloud-jupyter/jupyter-cuda10.1-tf2.3.0-pt1.6.0-automl",
             "tags": [
              "0.0.80"
             ],
             "title": null,
             "type": "default"
            },
            {
             "description": null,
             "icon_key": null,
             "name": "cr.msk.sbercloud.ru/aicloud-jupyter/jupyter-cuda11.0-tf2.4.0-pt1.7.1-gpu-a100",
             "tags": [
              "0.0.82"
             ],
             "title": null,
             "type": "default"
            },
            {
             "description": null,
             "icon_key": null,
             "name": "cr.msk.sbercloud.ru/aicloud-jupyter/jupyter-cuda10.0-tf1.15.0-pt1.3.0-mlspace",
             "tags": [
              "0.0.80"
             ],
             "title": null,
             "type": "default"
            }
           ],
           "key": "free.0gpu",
           "name": "Free(0 GPU, 0.5 vCPU, 3GB RAM)",
           "resource": {
            "limits": {
             "cpu": "0.5",
             "memory": "3Gi",
             "nvidia.com/gpu": "0"
            },
            "requests": {
             "cpu": "0",
             "memory": "64Mi",
             "nvidia.com/gpu": "0"
            }
           }
          },
          {
           "images": [
            {
             "description": null,
             "icon_key": null,
             "name": "cr.msk.sbercloud.ru/aicloud-jupyter/jupyter-cuda11.0-tf2.4.0-pt1.7.1-gpu-a100",
             "tags": [
              "0.0.82"
             ],
             "title": null,
             "type": "default"
            },
            {
             "description": null,
             "icon_key": null,
             "name": "cr.msk.sbercloud.ru/aicloud-jupyter/jupyter-cuda11.2-tf2.6.0-gpu-a100",
             "tags": [
              "0.0.82"
             ],
             "title": null,
             "type": "default"
            },
            {
             "description": null,
             "icon_key": null,
             "name": "cr.msk.sbercloud.ru/aicloud-jupyter/jupyter-cuda10.1-tf2.3.0-pt1.6.0-automl",
             "tags": [
              "0.0.80"
             ],
             "title": null,
             "type": "default"
            },
            {
             "description": null,
             "icon_key": null,
             "name": "cr.msk.sbercloud.ru/aicloud-jupyter/jupyter-cuda11.2-tf2.5.0-gpu-a100",
             "tags": [
              "0.0.82"
             ],
             "title": null,
             "type": "default"
            },
            {
             "description": null,
             "icon_key": null,
             "name": "cr.msk.sbercloud.ru/aicloud-jupyter/jupyter-cuda10.0-tf1.15.0-pt1.3.0-mlspace",
             "tags": [
              "0.0.80"
             ],
             "title": null,
             "type": "default"
            },
            {
             "description": null,
             "icon_key": null,
             "name": "cr.msk.sbercloud.ru/aicloud-jupyter/jupyter-cuda11.1-pt1.9.1-gpu-a100",
             "tags": [
              "0.0.82-1"
             ],
             "title": null,
             "type": "default"
            },
            {
             "description": null,
             "icon_key": null,
             "name": "cr.msk.sbercloud.ru/aicloud-jupyter/jupyter-cuda11.1-pt1.8.1-gpu-a100",
             "tags": [
              "0.0.82"
             ],
             "title": null,
             "type": "default"
            }
           ],
           "key": "a100.1gpu",
           "name": "1 GPU Tesla A100 80GB, 16 CPU-cores, 243 Gb RAM",
           "resource": {
            "limits": {
             "cpu": "16",
             "memory": "243Gi",
             "nvidia.com/gpu": "1"
            },
            "requests": {
             "cpu": "16",
             "memory": "243Gi",
             "nvidia.com/gpu": "1"
            }
           }
          },
          {
           "images": [
            {
             "description": null,
             "icon_key": null,
             "name": "cr.msk.sbercloud.ru/aicloud-jupyter/jupyter-cuda11.2-tf2.6.0-gpu-a100",
             "tags": [
              "0.0.82"
             ],
             "title": null,
             "type": "default"
            },
            {
             "description": null,
             "icon_key": null,
             "name": "cr.msk.sbercloud.ru/aicloud-jupyter/jupyter-cuda11.2-tf2.5.0-gpu-a100",
             "tags": [
              "0.0.82"
             ],
             "title": null,
             "type": "default"
            },
            {
             "description": null,
             "icon_key": null,
             "name": "cr.msk.sbercloud.ru/aicloud-jupyter/jupyter-cuda10.0-tf1.15.0-pt1.3.0-mlspace",
             "tags": [
              "0.0.80"
             ],
             "title": null,
             "type": "default"
            },
            {
             "description": null,
             "icon_key": null,
             "name": "cr.msk.sbercloud.ru/aicloud-jupyter/jupyter-cuda11.1-pt1.9.1-gpu-a100",
             "tags": [
              "0.0.82-1"
             ],
             "title": null,
             "type": "default"
            },
            {
             "description": null,
             "icon_key": null,
             "name": "cr.msk.sbercloud.ru/aicloud-jupyter/jupyter-cuda11.1-pt1.8.1-gpu-a100",
             "tags": [
              "0.0.82"
             ],
             "title": null,
             "type": "default"
            },
            {
             "description": null,
             "icon_key": null,
             "name": "cr.msk.sbercloud.ru/aicloud-jupyter/jupyter-cuda11.0-tf2.4.0-pt1.7.1-gpu-a100",
             "tags": [
              "0.0.82"
             ],
             "title": null,
             "type": "default"
            },
            {
             "description": null,
             "icon_key": null,
             "name": "cr.msk.sbercloud.ru/aicloud-jupyter/jupyter-cuda10.1-tf2.3.0-pt1.6.0-automl",
             "tags": [
              "0.0.80"
             ],
             "title": null,
             "type": "default"
            }
           ],
           "key": "a100.2gpu",
           "name": "2 GPU Tesla A100 80GB, 32 CPU-cores, 486 Gb RAM",
           "resource": {
            "limits": {
             "cpu": "32",
             "memory": "486Gi",
             "nvidia.com/gpu": "2"
            },
            "requests": {
             "cpu": "32",
             "memory": "486Gi",
             "nvidia.com/gpu": "2"
            }
           }
          },
          {
           "images": [
            {
             "description": null,
             "icon_key": null,
             "name": "cr.msk.sbercloud.ru/aicloud-jupyter/jupyter-cuda10.1-tf2.3.0-pt1.6.0-automl",
             "tags": [
              "0.0.80"
             ],
             "title": null,
             "type": "default"
            },
            {
             "description": null,
             "icon_key": null,
             "name": "cr.msk.sbercloud.ru/aicloud-jupyter/jupyter-cuda11.2-tf2.6.0-gpu-a100",
             "tags": [
              "0.0.82"
             ],
             "title": null,
             "type": "default"
            },
            {
             "description": null,
             "icon_key": null,
             "name": "cr.msk.sbercloud.ru/aicloud-jupyter/jupyter-cuda11.2-tf2.5.0-gpu-a100",
             "tags": [
              "0.0.82"
             ],
             "title": null,
             "type": "default"
            },
            {
             "description": null,
             "icon_key": null,
             "name": "cr.msk.sbercloud.ru/aicloud-jupyter/jupyter-cuda10.0-tf1.15.0-pt1.3.0-mlspace",
             "tags": [
              "0.0.80"
             ],
             "title": null,
             "type": "default"
            },
            {
             "description": null,
             "icon_key": null,
             "name": "cr.msk.sbercloud.ru/aicloud-jupyter/jupyter-cuda11.1-pt1.9.1-gpu-a100",
             "tags": [
              "0.0.82-1"
             ],
             "title": null,
             "type": "default"
            },
            {
             "description": null,
             "icon_key": null,
             "name": "cr.msk.sbercloud.ru/aicloud-jupyter/jupyter-cuda11.1-pt1.8.1-gpu-a100",
             "tags": [
              "0.0.82"
             ],
             "title": null,
             "type": "default"
            },
            {
             "description": null,
             "icon_key": null,
             "name": "cr.msk.sbercloud.ru/aicloud-jupyter/jupyter-cuda11.0-tf2.4.0-pt1.7.1-gpu-a100",
             "tags": [
              "0.0.82"
             ],
             "title": null,
             "type": "default"
            }
           ],
           "key": "a100.3gpu",
           "name": "3 GPU Tesla A100 80GB, 48 CPU-cores, 729 Gb RAM",
           "resource": {
            "limits": {
             "cpu": "48",
             "memory": "729Gi",
             "nvidia.com/gpu": "3"
            },
            "requests": {
             "cpu": "48",
             "memory": "729Gi",
             "nvidia.com/gpu": "3"
            }
           }
          },
          {
           "images": [
            {
             "description": null,
             "icon_key": null,
             "name": "cr.msk.sbercloud.ru/aicloud-jupyter/jupyter-cuda11.2-tf2.6.0-gpu-a100",
             "tags": [
              "0.0.82"
             ],
             "title": null,
             "type": "default"
            },
            {
             "description": null,
             "icon_key": null,
             "name": "cr.msk.sbercloud.ru/aicloud-jupyter/jupyter-cuda10.1-tf2.3.0-pt1.6.0-automl",
             "tags": [
              "0.0.80"
             ],
             "title": null,
             "type": "default"
            },
            {
             "description": null,
             "icon_key": null,
             "name": "cr.msk.sbercloud.ru/aicloud-jupyter/jupyter-cuda11.0-tf2.4.0-pt1.7.1-gpu-a100",
             "tags": [
              "0.0.82"
             ],
             "title": null,
             "type": "default"
            },
            {
             "description": null,
             "icon_key": null,
             "name": "cr.msk.sbercloud.ru/aicloud-jupyter/jupyter-cuda11.1-pt1.8.1-gpu-a100",
             "tags": [
              "0.0.82"
             ],
             "title": null,
             "type": "default"
            },
            {
             "description": null,
             "icon_key": null,
             "name": "cr.msk.sbercloud.ru/aicloud-jupyter/jupyter-cuda11.1-pt1.9.1-gpu-a100",
             "tags": [
              "0.0.82-1"
             ],
             "title": null,
             "type": "default"
            },
            {
             "description": null,
             "icon_key": null,
             "name": "cr.msk.sbercloud.ru/aicloud-jupyter/jupyter-cuda10.0-tf1.15.0-pt1.3.0-mlspace",
             "tags": [
              "0.0.80"
             ],
             "title": null,
             "type": "default"
            },
            {
             "description": null,
             "icon_key": null,
             "name": "cr.msk.sbercloud.ru/aicloud-jupyter/jupyter-cuda11.2-tf2.5.0-gpu-a100",
             "tags": [
              "0.0.82"
             ],
             "title": null,
             "type": "default"
            }
           ],
           "key": "a100.4gpu",
           "name": "4 GPU Tesla A100 80GB, 64 CPU-cores, 972 Gb RAM",
           "resource": {
            "limits": {
             "cpu": "64",
             "memory": "972Gi",
             "nvidia.com/gpu": "4"
            },
            "requests": {
             "cpu": "64",
             "memory": "972Gi",
             "nvidia.com/gpu": "4"
            }
           }
          },
          {
           "images": [
            {
             "description": null,
             "icon_key": null,
             "name": "cr.msk.sbercloud.ru/aicloud-jupyter/jupyter-cuda11.2-tf2.6.0-gpu-a100",
             "tags": [
              "0.0.82"
             ],
             "title": null,
             "type": "default"
            },
            {
             "description": null,
             "icon_key": null,
             "name": "cr.msk.sbercloud.ru/aicloud-jupyter/jupyter-cuda11.2-tf2.5.0-gpu-a100",
             "tags": [
              "0.0.82"
             ],
             "title": null,
             "type": "default"
            },
            {
             "description": null,
             "icon_key": null,
             "name": "cr.msk.sbercloud.ru/aicloud-jupyter/jupyter-cuda10.0-tf1.15.0-pt1.3.0-mlspace",
             "tags": [
              "0.0.80"
             ],
             "title": null,
             "type": "default"
            },
            {
             "description": null,
             "icon_key": null,
             "name": "cr.msk.sbercloud.ru/aicloud-jupyter/jupyter-cuda11.1-pt1.9.1-gpu-a100",
             "tags": [
              "0.0.82-1"
             ],
             "title": null,
             "type": "default"
            },
            {
             "description": null,
             "icon_key": null,
             "name": "cr.msk.sbercloud.ru/aicloud-jupyter/jupyter-cuda11.1-pt1.8.1-gpu-a100",
             "tags": [
              "0.0.82"
             ],
             "title": null,
             "type": "default"
            },
            {
             "description": null,
             "icon_key": null,
             "name": "cr.msk.sbercloud.ru/aicloud-jupyter/jupyter-cuda11.0-tf2.4.0-pt1.7.1-gpu-a100",
             "tags": [
              "0.0.82"
             ],
             "title": null,
             "type": "default"
            },
            {
             "description": null,
             "icon_key": null,
             "name": "cr.msk.sbercloud.ru/aicloud-jupyter/jupyter-cuda10.1-tf2.3.0-pt1.6.0-automl",
             "tags": [
              "0.0.80"
             ],
             "title": null,
             "type": "default"
            }
           ],
           "key": "a100.5gpu",
           "name": "5 GPU Tesla A100 80GB, 80 CPU-cores, 1215 Gb RAM",
           "resource": {
            "limits": {
             "cpu": "80",
             "memory": "1215Gi",
             "nvidia.com/gpu": "5"
            },
            "requests": {
             "cpu": "80",
             "memory": "1215Gi",
             "nvidia.com/gpu": "5"
            }
           }
          },
          {
           "images": [
            {
             "description": null,
             "icon_key": null,
             "name": "cr.msk.sbercloud.ru/aicloud-jupyter/jupyter-cuda11.0-tf2.4.0-pt1.7.1-gpu-a100",
             "tags": [
              "0.0.82"
             ],
             "title": null,
             "type": "default"
            },
            {
             "description": null,
             "icon_key": null,
             "name": "cr.msk.sbercloud.ru/aicloud-jupyter/jupyter-cuda11.1-pt1.8.1-gpu-a100",
             "tags": [
              "0.0.82"
             ],
             "title": null,
             "type": "default"
            },
            {
             "description": null,
             "icon_key": null,
             "name": "cr.msk.sbercloud.ru/aicloud-jupyter/jupyter-cuda11.1-pt1.9.1-gpu-a100",
             "tags": [
              "0.0.82-1"
             ],
             "title": null,
             "type": "default"
            },
            {
             "description": null,
             "icon_key": null,
             "name": "cr.msk.sbercloud.ru/aicloud-jupyter/jupyter-cuda10.0-tf1.15.0-pt1.3.0-mlspace",
             "tags": [
              "0.0.80"
             ],
             "title": null,
             "type": "default"
            },
            {
             "description": null,
             "icon_key": null,
             "name": "cr.msk.sbercloud.ru/aicloud-jupyter/jupyter-cuda11.2-tf2.5.0-gpu-a100",
             "tags": [
              "0.0.82"
             ],
             "title": null,
             "type": "default"
            },
            {
             "description": null,
             "icon_key": null,
             "name": "cr.msk.sbercloud.ru/aicloud-jupyter/jupyter-cuda11.2-tf2.6.0-gpu-a100",
             "tags": [
              "0.0.82"
             ],
             "title": null,
             "type": "default"
            },
            {
             "description": null,
             "icon_key": null,
             "name": "cr.msk.sbercloud.ru/aicloud-jupyter/jupyter-cuda10.1-tf2.3.0-pt1.6.0-automl",
             "tags": [
              "0.0.80"
             ],
             "title": null,
             "type": "default"
            }
           ],
           "key": "a100.6gpu",
           "name": "6 GPU Tesla A100 80GB, 96 CPU-cores, 1458 Gb RAM",
           "resource": {
            "limits": {
             "cpu": "96",
             "memory": "1458Gi",
             "nvidia.com/gpu": "6"
            },
            "requests": {
             "cpu": "96",
             "memory": "1458Gi",
             "nvidia.com/gpu": "6"
            }
           }
          },
          {
           "images": [
            {
             "description": null,
             "icon_key": null,
             "name": "cr.msk.sbercloud.ru/aicloud-jupyter/jupyter-cuda10.1-tf2.3.0-pt1.6.0-automl",
             "tags": [
              "0.0.80"
             ],
             "title": null,
             "type": "default"
            },
            {
             "description": null,
             "icon_key": null,
             "name": "cr.msk.sbercloud.ru/aicloud-jupyter/jupyter-cuda11.0-tf2.4.0-pt1.7.1-gpu-a100",
             "tags": [
              "0.0.82"
             ],
             "title": null,
             "type": "default"
            },
            {
             "description": null,
             "icon_key": null,
             "name": "cr.msk.sbercloud.ru/aicloud-jupyter/jupyter-cuda11.1-pt1.8.1-gpu-a100",
             "tags": [
              "0.0.82"
             ],
             "title": null,
             "type": "default"
            },
            {
             "description": null,
             "icon_key": null,
             "name": "cr.msk.sbercloud.ru/aicloud-jupyter/jupyter-cuda11.1-pt1.9.1-gpu-a100",
             "tags": [
              "0.0.82-1"
             ],
             "title": null,
             "type": "default"
            },
            {
             "description": null,
             "icon_key": null,
             "name": "cr.msk.sbercloud.ru/aicloud-jupyter/jupyter-cuda10.0-tf1.15.0-pt1.3.0-mlspace",
             "tags": [
              "0.0.80"
             ],
             "title": null,
             "type": "default"
            },
            {
             "description": null,
             "icon_key": null,
             "name": "cr.msk.sbercloud.ru/aicloud-jupyter/jupyter-cuda11.2-tf2.5.0-gpu-a100",
             "tags": [
              "0.0.82"
             ],
             "title": null,
             "type": "default"
            },
            {
             "description": null,
             "icon_key": null,
             "name": "cr.msk.sbercloud.ru/aicloud-jupyter/jupyter-cuda11.2-tf2.6.0-gpu-a100",
             "tags": [
              "0.0.82"
             ],
             "title": null,
             "type": "default"
            }
           ],
           "key": "a100.7gpu",
           "name": "7 GPU Tesla A100 80GB, 112 CPU-cores, 1701 Gb RAM",
           "resource": {
            "limits": {
             "cpu": "112",
             "memory": "1701Gi",
             "nvidia.com/gpu": "7"
            },
            "requests": {
             "cpu": "112",
             "memory": "1701Gi",
             "nvidia.com/gpu": "7"
            }
           }
          },
          {
           "images": [
            {
             "description": null,
             "icon_key": null,
             "name": "cr.msk.sbercloud.ru/aicloud-jupyter/jupyter-cuda10.1-tf2.3.0-pt1.6.0-automl",
             "tags": [
              "0.0.80"
             ],
             "title": null,
             "type": "default"
            },
            {
             "description": null,
             "icon_key": null,
             "name": "cr.msk.sbercloud.ru/aicloud-jupyter/jupyter-cuda11.0-tf2.4.0-pt1.7.1-gpu-a100",
             "tags": [
              "0.0.82"
             ],
             "title": null,
             "type": "default"
            },
            {
             "description": null,
             "icon_key": null,
             "name": "cr.msk.sbercloud.ru/aicloud-jupyter/jupyter-cuda11.1-pt1.8.1-gpu-a100",
             "tags": [
              "0.0.82"
             ],
             "title": null,
             "type": "default"
            },
            {
             "description": null,
             "icon_key": null,
             "name": "cr.msk.sbercloud.ru/aicloud-jupyter/jupyter-cuda11.1-pt1.9.1-gpu-a100",
             "tags": [
              "0.0.82-1"
             ],
             "title": null,
             "type": "default"
            },
            {
             "description": null,
             "icon_key": null,
             "name": "cr.msk.sbercloud.ru/aicloud-jupyter/jupyter-cuda10.0-tf1.15.0-pt1.3.0-mlspace",
             "tags": [
              "0.0.80"
             ],
             "title": null,
             "type": "default"
            },
            {
             "description": null,
             "icon_key": null,
             "name": "cr.msk.sbercloud.ru/aicloud-jupyter/jupyter-cuda11.2-tf2.5.0-gpu-a100",
             "tags": [
              "0.0.82"
             ],
             "title": null,
             "type": "default"
            },
            {
             "description": null,
             "icon_key": null,
             "name": "cr.msk.sbercloud.ru/aicloud-jupyter/jupyter-cuda11.2-tf2.6.0-gpu-a100",
             "tags": [
              "0.0.82"
             ],
             "title": null,
             "type": "default"
            }
           ],
           "key": "a100.8gpu",
           "name": "8 GPU Tesla A100 80GB, 128 CPU-cores, 1944 Gb RAM",
           "resource": {
            "limits": {
             "cpu": "128",
             "memory": "1944Gi",
             "nvidia.com/gpu": "8"
            },
            "requests": {
             "cpu": "128",
             "memory": "1944Gi",
             "nvidia.com/gpu": "8"
            }
           }
          }
         ],
         "key": "A100-MT",
         "name": "Christofari.A100",
         "nfsName": "NFS Christofari.A100",
         "ssh": {
          "port": "2222",
          "url": "ssh-a100-jupyter.aicloud.sbercloud.ru"
         }
        },
        {
         "description": "Cloud.Region.A100",
         "instances_types": [
          {
           "images": [
            {
             "description": null,
             "icon_key": null,
             "name": "cr.msk.sbercloud.ru/aicloud-jupyter/jupyter-cuda11.0-tf2.4.0-pt1.7.1-gpu-a100",
             "tags": [
              "0.0.82-1"
             ],
             "title": null,
             "type": "default"
            }
           ],
           "key": "free.0gpu",
           "name": "Free(0 GPU, 0.5 vCPU, 3GB RAM)",
           "resource": {
            "limits": {
             "cpu": "0.5",
             "memory": "3Gi",
             "nvidia.com/gpu": "0"
            },
            "requests": {
             "cpu": "0",
             "memory": "64Mi",
             "nvidia.com/gpu": "0"
            }
           }
          },
          {
           "images": [
            {
             "description": null,
             "icon_key": null,
             "name": "cr.msk.sbercloud.ru/aicloud-jupyter/jupyter-cuda11.2-tf2.5.0-gpu-a100",
             "tags": [
              "0.0.82-1"
             ],
             "title": null,
             "type": "default"
            },
            {
             "description": null,
             "icon_key": null,
             "name": "cr.msk.sbercloud.ru/aicloud-jupyter/jupyter-cuda11.0-tf2.4.0-pt1.7.1-gpu-a100",
             "tags": [
              "0.0.82-1"
             ],
             "title": null,
             "type": "default"
            },
            {
             "description": null,
             "icon_key": null,
             "name": "cr.msk.sbercloud.ru/aicloud-jupyter/jupyter-cuda11.1-pt1.8.1-gpu-a100",
             "tags": [
              "0.0.82-1"
             ],
             "title": null,
             "type": "default"
            },
            {
             "description": null,
             "icon_key": null,
             "name": "cr.msk.sbercloud.ru/aicloud-jupyter/jupyter-cuda11.2-tf2.6.0-gpu-a100",
             "tags": [
              "0.0.82-1"
             ],
             "title": null,
             "type": "default"
            }
           ],
           "key": "a100.1gpu.40",
           "name": "1 GPU A100 40 GB, 12 CPU, 230 Gb RAM",
           "resource": {
            "limits": {
             "cpu": "12",
             "memory": "230Gi",
             "nvidia.com/gpu": "1"
            },
            "requests": {
             "cpu": "12",
             "memory": "230Gi",
             "nvidia.com/gpu": "1"
            }
           }
          },
          {
           "images": [
            {
             "description": null,
             "icon_key": null,
             "name": "cr.msk.sbercloud.ru/aicloud-jupyter/jupyter-cuda11.1-pt1.8.1-gpu-a100",
             "tags": [
              "0.0.82-1"
             ],
             "title": null,
             "type": "default"
            },
            {
             "description": null,
             "icon_key": null,
             "name": "cr.msk.sbercloud.ru/aicloud-jupyter/jupyter-cuda11.2-tf2.5.0-gpu-a100",
             "tags": [
              "0.0.82-1"
             ],
             "title": null,
             "type": "default"
            },
            {
             "description": null,
             "icon_key": null,
             "name": "cr.msk.sbercloud.ru/aicloud-jupyter/jupyter-cuda11.2-tf2.6.0-gpu-a100",
             "tags": [
              "0.0.82-1"
             ],
             "title": null,
             "type": "default"
            },
            {
             "description": null,
             "icon_key": null,
             "name": "cr.msk.sbercloud.ru/aicloud-jupyter/jupyter-cuda11.0-tf2.4.0-pt1.7.1-gpu-a100",
             "tags": [
              "0.0.82-1"
             ],
             "title": null,
             "type": "default"
            }
           ],
           "key": "a100.2gpu.40",
           "name": "2 GPU A100 40 GB, 24 CPU, 460 Gb RAM",
           "resource": {
            "limits": {
             "cpu": "24",
             "memory": "460Gi",
             "nvidia.com/gpu": "2"
            },
            "requests": {
             "cpu": "24",
             "memory": "460Gi",
             "nvidia.com/gpu": "2"
            }
           }
          },
          {
           "images": [
            {
             "description": null,
             "icon_key": null,
             "name": "cr.msk.sbercloud.ru/aicloud-jupyter/jupyter-cuda11.2-tf2.5.0-gpu-a100",
             "tags": [
              "0.0.82-1"
             ],
             "title": null,
             "type": "default"
            },
            {
             "description": null,
             "icon_key": null,
             "name": "cr.msk.sbercloud.ru/aicloud-jupyter/jupyter-cuda11.1-pt1.8.1-gpu-a100",
             "tags": [
              "0.0.82-1"
             ],
             "title": null,
             "type": "default"
            },
            {
             "description": null,
             "icon_key": null,
             "name": "cr.msk.sbercloud.ru/aicloud-jupyter/jupyter-cuda11.0-tf2.4.0-pt1.7.1-gpu-a100",
             "tags": [
              "0.0.82-1"
             ],
             "title": null,
             "type": "default"
            },
            {
             "description": null,
             "icon_key": null,
             "name": "cr.msk.sbercloud.ru/aicloud-jupyter/jupyter-cuda11.2-tf2.6.0-gpu-a100",
             "tags": [
              "0.0.82-1"
             ],
             "title": null,
             "type": "default"
            }
           ],
           "key": "a100.3gpu.40",
           "name": "3 GPU A100 40 GB, 36 CPU, 690 Gb RAM",
           "resource": {
            "limits": {
             "cpu": "36",
             "memory": "690Gi",
             "nvidia.com/gpu": "3"
            },
            "requests": {
             "cpu": "36",
             "memory": "690Gi",
             "nvidia.com/gpu": "3"
            }
           }
          },
          {
           "images": [
            {
             "description": null,
             "icon_key": null,
             "name": "cr.msk.sbercloud.ru/aicloud-jupyter/jupyter-cuda11.0-tf2.4.0-pt1.7.1-gpu-a100",
             "tags": [
              "0.0.82-1"
             ],
             "title": null,
             "type": "default"
            },
            {
             "description": null,
             "icon_key": null,
             "name": "cr.msk.sbercloud.ru/aicloud-jupyter/jupyter-cuda11.1-pt1.8.1-gpu-a100",
             "tags": [
              "0.0.82-1"
             ],
             "title": null,
             "type": "default"
            },
            {
             "description": null,
             "icon_key": null,
             "name": "cr.msk.sbercloud.ru/aicloud-jupyter/jupyter-cuda11.2-tf2.5.0-gpu-a100",
             "tags": [
              "0.0.82-1"
             ],
             "title": null,
             "type": "default"
            },
            {
             "description": null,
             "icon_key": null,
             "name": "cr.msk.sbercloud.ru/aicloud-jupyter/jupyter-cuda11.2-tf2.6.0-gpu-a100",
             "tags": [
              "0.0.82-1"
             ],
             "title": null,
             "type": "default"
            }
           ],
           "key": "a100.4gpu.40",
           "name": "4 GPU A100 40 GB, 48 CPU, 920 Gb RAM",
           "resource": {
            "limits": {
             "cpu": "48",
             "memory": "920Gi",
             "nvidia.com/gpu": "4"
            },
            "requests": {
             "cpu": "48",
             "memory": "920Gi",
             "nvidia.com/gpu": "4"
            }
           }
          },
          {
           "images": [
            {
             "description": null,
             "icon_key": null,
             "name": "cr.msk.sbercloud.ru/aicloud-jupyter/jupyter-cuda11.0-tf2.4.0-pt1.7.1-gpu-a100",
             "tags": [
              "0.0.82-1"
             ],
             "title": null,
             "type": "default"
            },
            {
             "description": null,
             "icon_key": null,
             "name": "cr.msk.sbercloud.ru/aicloud-jupyter/jupyter-cuda11.1-pt1.8.1-gpu-a100",
             "tags": [
              "0.0.82-1"
             ],
             "title": null,
             "type": "default"
            },
            {
             "description": null,
             "icon_key": null,
             "name": "cr.msk.sbercloud.ru/aicloud-jupyter/jupyter-cuda11.2-tf2.5.0-gpu-a100",
             "tags": [
              "0.0.82-1"
             ],
             "title": null,
             "type": "default"
            },
            {
             "description": null,
             "icon_key": null,
             "name": "cr.msk.sbercloud.ru/aicloud-jupyter/jupyter-cuda11.2-tf2.6.0-gpu-a100",
             "tags": [
              "0.0.82-1"
             ],
             "title": null,
             "type": "default"
            }
           ],
           "key": "a100.1gpu.80vG.12C.96G",
           "name": "1 GPU A100 80 GB, 12 CPU, 96 Gb RAM",
           "resource": {
            "limits": {
             "cpu": "10",
             "memory": "80Gi",
             "nvidia.com/gpu": "1"
            },
            "requests": {
             "cpu": "10",
             "memory": "80Gi",
             "nvidia.com/gpu": "1"
            }
           }
          },
          {
           "images": [
            {
             "description": null,
             "icon_key": null,
             "name": "cr.msk.sbercloud.ru/aicloud-jupyter/jupyter-cuda11.1-pt1.8.1-gpu-a100",
             "tags": [
              "0.0.82-1"
             ],
             "title": null,
             "type": "default"
            },
            {
             "description": null,
             "icon_key": null,
             "name": "cr.msk.sbercloud.ru/aicloud-jupyter/jupyter-cuda11.0-tf2.4.0-pt1.7.1-gpu-a100",
             "tags": [
              "0.0.82-1"
             ],
             "title": null,
             "type": "default"
            },
            {
             "description": null,
             "icon_key": null,
             "name": "cr.msk.sbercloud.ru/aicloud-jupyter/jupyter-cuda11.2-tf2.5.0-gpu-a100",
             "tags": [
              "0.0.82-1"
             ],
             "title": null,
             "type": "default"
            },
            {
             "description": null,
             "icon_key": null,
             "name": "cr.msk.sbercloud.ru/aicloud-jupyter/jupyter-cuda11.2-tf2.6.0-gpu-a100",
             "tags": [
              "0.0.82-1"
             ],
             "title": null,
             "type": "default"
            }
           ],
           "key": "a100.2gpu.80vG.24C.192G",
           "name": "2 GPU A100 80 GB, 24 CPU, 192 Gb RAM",
           "resource": {
            "limits": {
             "cpu": "20",
             "memory": "160Gi",
             "nvidia.com/gpu": "2"
            },
            "requests": {
             "cpu": "20",
             "memory": "160Gi",
             "nvidia.com/gpu": "2"
            }
           }
          },
          {
           "images": [
            {
             "description": null,
             "icon_key": null,
             "name": "cr.msk.sbercloud.ru/aicloud-jupyter/jupyter-cuda11.0-tf2.4.0-pt1.7.1-gpu-a100",
             "tags": [
              "0.0.82-1"
             ],
             "title": null,
             "type": "default"
            },
            {
             "description": null,
             "icon_key": null,
             "name": "cr.msk.sbercloud.ru/aicloud-jupyter/jupyter-cuda11.1-pt1.8.1-gpu-a100",
             "tags": [
              "0.0.82-1"
             ],
             "title": null,
             "type": "default"
            },
            {
             "description": null,
             "icon_key": null,
             "name": "cr.msk.sbercloud.ru/aicloud-jupyter/jupyter-cuda11.2-tf2.5.0-gpu-a100",
             "tags": [
              "0.0.82-1"
             ],
             "title": null,
             "type": "default"
            },
            {
             "description": null,
             "icon_key": null,
             "name": "cr.msk.sbercloud.ru/aicloud-jupyter/jupyter-cuda11.2-tf2.6.0-gpu-a100",
             "tags": [
              "0.0.82-1"
             ],
             "title": null,
             "type": "default"
            }
           ],
           "key": "a100.3gpu.80vG.36C.288G",
           "name": "3 GPU A100 80 GB, 36 CPU, 288 Gb RAM",
           "resource": {
            "limits": {
             "cpu": "30",
             "memory": "240Gi",
             "nvidia.com/gpu": "3"
            },
            "requests": {
             "cpu": "30",
             "memory": "240Gi",
             "nvidia.com/gpu": "3"
            }
           }
          },
          {
           "images": [
            {
             "description": null,
             "icon_key": null,
             "name": "cr.msk.sbercloud.ru/aicloud-jupyter/jupyter-cuda11.0-tf2.4.0-pt1.7.1-gpu-a100",
             "tags": [
              "0.0.82-1"
             ],
             "title": null,
             "type": "default"
            },
            {
             "description": null,
             "icon_key": null,
             "name": "cr.msk.sbercloud.ru/aicloud-jupyter/jupyter-cuda11.1-pt1.8.1-gpu-a100",
             "tags": [
              "0.0.82-1"
             ],
             "title": null,
             "type": "default"
            },
            {
             "description": null,
             "icon_key": null,
             "name": "cr.msk.sbercloud.ru/aicloud-jupyter/jupyter-cuda11.2-tf2.5.0-gpu-a100",
             "tags": [
              "0.0.82-1"
             ],
             "title": null,
             "type": "default"
            },
            {
             "description": null,
             "icon_key": null,
             "name": "cr.msk.sbercloud.ru/aicloud-jupyter/jupyter-cuda11.2-tf2.6.0-gpu-a100",
             "tags": [
              "0.0.82-1"
             ],
             "title": null,
             "type": "default"
            }
           ],
           "key": "a100.4gpu.80vG.48C.384G",
           "name": "4 GPU A100 80 GB, 48 CPU, 384 Gb RAM",
           "resource": {
            "limits": {
             "cpu": "40",
             "memory": "320Gi",
             "nvidia.com/gpu": "4"
            },
            "requests": {
             "cpu": "40",
             "memory": "320Gi",
             "nvidia.com/gpu": "4"
            }
           }
          },
          {
           "images": [
            {
             "description": null,
             "icon_key": null,
             "name": "cr.msk.sbercloud.ru/aicloud-jupyter/jupyter-cuda11.0-tf2.4.0-pt1.7.1-gpu-a100",
             "tags": [
              "0.0.82-1"
             ],
             "title": null,
             "type": "default"
            },
            {
             "description": null,
             "icon_key": null,
             "name": "cr.msk.sbercloud.ru/aicloud-jupyter/jupyter-cuda11.1-pt1.8.1-gpu-a100",
             "tags": [
              "0.0.82-1"
             ],
             "title": null,
             "type": "default"
            },
            {
             "description": null,
             "icon_key": null,
             "name": "cr.msk.sbercloud.ru/aicloud-jupyter/jupyter-cuda11.2-tf2.5.0-gpu-a100",
             "tags": [
              "0.0.82-1"
             ],
             "title": null,
             "type": "default"
            },
            {
             "description": null,
             "icon_key": null,
             "name": "cr.msk.sbercloud.ru/aicloud-jupyter/jupyter-cuda11.2-tf2.6.0-gpu-a100",
             "tags": [
              "0.0.82-1"
             ],
             "title": null,
             "type": "default"
            }
           ],
           "key": "a100.5gpu.80vG.60C.480G",
           "name": "5 GPU A100 80 GB, 60 CPU, 480 Gb RAM",
           "resource": {
            "limits": {
             "cpu": "50",
             "memory": "400Gi",
             "nvidia.com/gpu": "5"
            },
            "requests": {
             "cpu": "50",
             "memory": "400Gi",
             "nvidia.com/gpu": "5"
            }
           }
          },
          {
           "images": [
            {
             "description": null,
             "icon_key": null,
             "name": "cr.msk.sbercloud.ru/aicloud-jupyter/jupyter-cuda11.0-tf2.4.0-pt1.7.1-gpu-a100",
             "tags": [
              "0.0.82-1"
             ],
             "title": null,
             "type": "default"
            },
            {
             "description": null,
             "icon_key": null,
             "name": "cr.msk.sbercloud.ru/aicloud-jupyter/jupyter-cuda11.1-pt1.8.1-gpu-a100",
             "tags": [
              "0.0.82-1"
             ],
             "title": null,
             "type": "default"
            },
            {
             "description": null,
             "icon_key": null,
             "name": "cr.msk.sbercloud.ru/aicloud-jupyter/jupyter-cuda11.2-tf2.5.0-gpu-a100",
             "tags": [
              "0.0.82-1"
             ],
             "title": null,
             "type": "default"
            },
            {
             "description": null,
             "icon_key": null,
             "name": "cr.msk.sbercloud.ru/aicloud-jupyter/jupyter-cuda11.2-tf2.6.0-gpu-a100",
             "tags": [
              "0.0.82-1"
             ],
             "title": null,
             "type": "default"
            }
           ],
           "key": "a100.6gpu.80vG.72C.576G",
           "name": "6 GPU A100 80 GB, 72 CPU, 576 Gb RAM",
           "resource": {
            "limits": {
             "cpu": "60",
             "memory": "480Gi",
             "nvidia.com/gpu": "6"
            },
            "requests": {
             "cpu": "60",
             "memory": "480Gi",
             "nvidia.com/gpu": "6"
            }
           }
          },
          {
           "images": [
            {
             "description": null,
             "icon_key": null,
             "name": "cr.msk.sbercloud.ru/aicloud-jupyter/jupyter-cuda11.0-tf2.4.0-pt1.7.1-gpu-a100",
             "tags": [
              "0.0.82-1"
             ],
             "title": null,
             "type": "default"
            },
            {
             "description": null,
             "icon_key": null,
             "name": "cr.msk.sbercloud.ru/aicloud-jupyter/jupyter-cuda11.1-pt1.8.1-gpu-a100",
             "tags": [
              "0.0.82-1"
             ],
             "title": null,
             "type": "default"
            },
            {
             "description": null,
             "icon_key": null,
             "name": "cr.msk.sbercloud.ru/aicloud-jupyter/jupyter-cuda11.2-tf2.5.0-gpu-a100",
             "tags": [
              "0.0.82-1"
             ],
             "title": null,
             "type": "default"
            },
            {
             "description": null,
             "icon_key": null,
             "name": "cr.msk.sbercloud.ru/aicloud-jupyter/jupyter-cuda11.2-tf2.6.0-gpu-a100",
             "tags": [
              "0.0.82-1"
             ],
             "title": null,
             "type": "default"
            }
           ],
           "key": "a100.7gpu.80vG.84C.672G",
           "name": "7 GPU A100 80 GB, 84 CPU, 672 Gb RAM",
           "resource": {
            "limits": {
             "cpu": "70",
             "memory": "560Gi",
             "nvidia.com/gpu": "7"
            },
            "requests": {
             "cpu": "70",
             "memory": "560Gi",
             "nvidia.com/gpu": "7"
            }
           }
          },
          {
           "images": [
            {
             "description": null,
             "icon_key": null,
             "name": "cr.msk.sbercloud.ru/aicloud-jupyter/jupyter-cuda11.0-tf2.4.0-pt1.7.1-gpu-a100",
             "tags": [
              "0.0.82-1"
             ],
             "title": null,
             "type": "default"
            },
            {
             "description": null,
             "icon_key": null,
             "name": "cr.msk.sbercloud.ru/aicloud-jupyter/jupyter-cuda11.1-pt1.8.1-gpu-a100",
             "tags": [
              "0.0.82-1"
             ],
             "title": null,
             "type": "default"
            },
            {
             "description": null,
             "icon_key": null,
             "name": "cr.msk.sbercloud.ru/aicloud-jupyter/jupyter-cuda11.2-tf2.5.0-gpu-a100",
             "tags": [
              "0.0.82-1"
             ],
             "title": null,
             "type": "default"
            },
            {
             "description": null,
             "icon_key": null,
             "name": "cr.msk.sbercloud.ru/aicloud-jupyter/jupyter-cuda11.2-tf2.6.0-gpu-a100",
             "tags": [
              "0.0.82-1"
             ],
             "title": null,
             "type": "default"
            }
           ],
           "key": "a100.8gpu.80vG.96C.768G",
           "name": "8 GPU A100 80 GB, 96 CPU, 768 Gb RAM",
           "resource": {
            "limits": {
             "cpu": "80",
             "memory": "640Gi",
             "nvidia.com/gpu": "8"
            },
            "requests": {
             "cpu": "80",
             "memory": "640Gi",
             "nvidia.com/gpu": "8"
            }
           }
          }
         ],
         "key": "SR002-MT",
         "name": "Cloud.Region.A100",
         "nfsName": "NFS Cloud.Region.A100",
         "ssh": {
          "port": "2222",
          "url": "ssh-sr002-jupyter.aicloud.sbercloud.ru"
         }
        },
        {
         "description": "SR.01 (CPU, V100)",
         "instances_types": [
          {
           "images": [
            {
             "description": null,
             "icon_key": null,
             "name": "cr.msk.sbercloud.ru/aicloud-jupyter/jupyter-cuda11.2-tf2.6.0-gpu",
             "tags": [
              "0.0.82"
             ],
             "title": null,
             "type": "default"
            },
            {
             "description": null,
             "icon_key": null,
             "name": "cr.msk.sbercloud.ru/aicloud-jupyter/jupyter-cuda11.2-tf2.5.0-gpu",
             "tags": [
              "0.0.82"
             ],
             "title": null,
             "type": "default"
            },
            {
             "description": null,
             "icon_key": null,
             "name": "cr.msk.sbercloud.ru/aicloud-jupyter/jupyter-cuda10.1-tf2.3.0-pt1.6.0-gpu",
             "tags": [
              "0.0.82"
             ],
             "title": null,
             "type": "default"
            },
            {
             "description": null,
             "icon_key": null,
             "name": "cr.msk.sbercloud.ru/aicloud-jupyter/jupyter-cuda10.0-tf1.15.0-pt1.3.0-gpu",
             "tags": [
              "0.0.82"
             ],
             "title": null,
             "type": "default"
            },
            {
             "description": null,
             "icon_key": null,
             "name": "cr.msk.sbercloud.ru/aicloud-jupyter/jupyter-cuda11.0-tf2.4.0-pt1.7.1-gpu",
             "tags": [
              "0.0.82"
             ],
             "title": null,
             "type": "default"
            },
            {
             "description": null,
             "icon_key": null,
             "name": "cr.msk.sbercloud.ru/aicloud-jupyter/jupyter-cuda11.1-pt1.8.1-gpu",
             "tags": [
              "0.0.82"
             ],
             "title": null,
             "type": "default"
            },
            {
             "description": null,
             "icon_key": null,
             "name": "cr.msk.sbercloud.ru/aicloud-jupyter/jupyter-cuda10.1-tf2.2.0-pt1.5.0-gpu",
             "tags": [
              "0.0.82"
             ],
             "title": null,
             "type": "default"
            },
            {
             "description": null,
             "icon_key": null,
             "name": "cr.msk.sbercloud.ru/aicloud-jupyter/jupyter-cuda10.0-tf1.15.0-pt1.3.0-mlspace",
             "tags": [
              "0.0.80"
             ],
             "title": null,
             "type": "default"
            },
            {
             "description": null,
             "icon_key": null,
             "name": "cr.msk.sbercloud.ru/aicloud-jupyter/jupyter-cuda11.1-pt1.9.1-gpu-a100",
             "tags": [
              "0.0.82-1"
             ],
             "title": null,
             "type": "default"
            },
            {
             "description": null,
             "icon_key": null,
             "name": "cr.msk.sbercloud.ru/aicloud-jupyter/jupyter-cuda11.1-pt1.8.1-gpu-a100",
             "tags": [
              "0.0.82"
             ],
             "title": null,
             "type": "default"
            },
            {
             "description": null,
             "icon_key": null,
             "name": "cr.msk.sbercloud.ru/aicloud-jupyter/jupyter-cuda11.0-tf2.4.0-pt1.7.1-gpu-a100",
             "tags": [
              "0.0.82"
             ],
             "title": null,
             "type": "default"
            },
            {
             "description": null,
             "icon_key": null,
             "name": "cr.msk.sbercloud.ru/aicloud-jupyter/jupyter-enot",
             "tags": [
              "0.0.1"
             ],
             "title": null,
             "type": "default"
            },
            {
             "description": null,
             "icon_key": null,
             "name": "cr.msk.sbercloud.ru/aicloud-jupyter/jupyter-openvino",
             "tags": [
              "0.0.2"
             ],
             "title": null,
             "type": "default"
            },
            {
             "description": null,
             "icon_key": null,
             "name": "cr.msk.sbercloud.ru/aicloud-jupyter/jupyter-cuda10.1-tf2.3.0-pt1.6.0-gpu-mlspace",
             "tags": [
              "0.0.80"
             ],
             "title": null,
             "type": "default"
            },
            {
             "description": null,
             "icon_key": null,
             "name": "cr.msk.sbercloud.ru/aicloud-jupyter/jupyter-cuda10.1-tf2.2.0-pt1.5.0-gpu-mlspace",
             "tags": [
              "0.0.80"
             ],
             "title": null,
             "type": "default"
            },
            {
             "description": null,
             "icon_key": null,
             "name": "cr.msk.sbercloud.ru/aicloud-jupyter/jupyter-cuda10.0-tf1.15.0-pt1.3.0-gpu-mlspace",
             "tags": [
              "0.0.80"
             ],
             "title": null,
             "type": "default"
            },
            {
             "description": null,
             "icon_key": null,
             "name": "cr.msk.sbercloud.ru/aicloud-jupyter/jupyter-cuda10.1-tf2.3.0-pt1.6.0-automl",
             "tags": [
              "0.0.80"
             ],
             "title": null,
             "type": "default"
            }
           ],
           "key": "cpu.2C.8G",
           "name": "0 GPU, 2 vCPU-cores, 8 Gb RAM",
           "resource": {
            "limits": {
             "cpu": "1.5",
             "memory": "7Gi",
             "nvidia.com/gpu": "0"
            },
            "requests": {
             "cpu": "1.5",
             "memory": "7Gi",
             "nvidia.com/gpu": "0"
            }
           }
          },
          {
           "images": [
            {
             "description": null,
             "icon_key": null,
             "name": "cr.msk.sbercloud.ru/aicloud-jupyter/jupyter-cuda11.2-tf2.6.0-gpu",
             "tags": [
              "0.0.82"
             ],
             "title": null,
             "type": "default"
            },
            {
             "description": null,
             "icon_key": null,
             "name": "cr.msk.sbercloud.ru/aicloud-jupyter/jupyter-cuda11.2-tf2.5.0-gpu",
             "tags": [
              "0.0.82"
             ],
             "title": null,
             "type": "default"
            },
            {
             "description": null,
             "icon_key": null,
             "name": "cr.msk.sbercloud.ru/aicloud-jupyter/jupyter-cuda10.1-tf2.3.0-pt1.6.0-gpu",
             "tags": [
              "0.0.82"
             ],
             "title": null,
             "type": "default"
            },
            {
             "description": null,
             "icon_key": null,
             "name": "cr.msk.sbercloud.ru/aicloud-jupyter/jupyter-cuda10.0-tf1.15.0-pt1.3.0-gpu",
             "tags": [
              "0.0.82"
             ],
             "title": null,
             "type": "default"
            },
            {
             "description": null,
             "icon_key": null,
             "name": "cr.msk.sbercloud.ru/aicloud-jupyter/jupyter-cuda11.0-tf2.4.0-pt1.7.1-gpu",
             "tags": [
              "0.0.82"
             ],
             "title": null,
             "type": "default"
            },
            {
             "description": null,
             "icon_key": null,
             "name": "cr.msk.sbercloud.ru/aicloud-jupyter/jupyter-cuda11.1-pt1.8.1-gpu",
             "tags": [
              "0.0.82"
             ],
             "title": null,
             "type": "default"
            },
            {
             "description": null,
             "icon_key": null,
             "name": "cr.msk.sbercloud.ru/aicloud-jupyter/jupyter-cuda10.1-tf2.2.0-pt1.5.0-gpu",
             "tags": [
              "0.0.82"
             ],
             "title": null,
             "type": "default"
            },
            {
             "description": null,
             "icon_key": null,
             "name": "cr.msk.sbercloud.ru/aicloud-jupyter/jupyter-cuda10.0-tf1.15.0-pt1.3.0-mlspace",
             "tags": [
              "0.0.80"
             ],
             "title": null,
             "type": "default"
            },
            {
             "description": null,
             "icon_key": null,
             "name": "cr.msk.sbercloud.ru/aicloud-jupyter/jupyter-cuda11.1-pt1.9.1-gpu-a100",
             "tags": [
              "0.0.82-1"
             ],
             "title": null,
             "type": "default"
            },
            {
             "description": null,
             "icon_key": null,
             "name": "cr.msk.sbercloud.ru/aicloud-jupyter/jupyter-cuda11.1-pt1.8.1-gpu-a100",
             "tags": [
              "0.0.82"
             ],
             "title": null,
             "type": "default"
            },
            {
             "description": null,
             "icon_key": null,
             "name": "cr.msk.sbercloud.ru/aicloud-jupyter/jupyter-cuda11.0-tf2.4.0-pt1.7.1-gpu-a100",
             "tags": [
              "0.0.82"
             ],
             "title": null,
             "type": "default"
            },
            {
             "description": null,
             "icon_key": null,
             "name": "cr.msk.sbercloud.ru/aicloud-jupyter/jupyter-enot",
             "tags": [
              "0.0.1"
             ],
             "title": null,
             "type": "default"
            },
            {
             "description": null,
             "icon_key": null,
             "name": "cr.msk.sbercloud.ru/aicloud-jupyter/jupyter-openvino",
             "tags": [
              "0.0.2"
             ],
             "title": null,
             "type": "default"
            },
            {
             "description": null,
             "icon_key": null,
             "name": "cr.msk.sbercloud.ru/aicloud-jupyter/jupyter-cuda10.1-tf2.3.0-pt1.6.0-gpu-mlspace",
             "tags": [
              "0.0.80"
             ],
             "title": null,
             "type": "default"
            },
            {
             "description": null,
             "icon_key": null,
             "name": "cr.msk.sbercloud.ru/aicloud-jupyter/jupyter-cuda10.1-tf2.2.0-pt1.5.0-gpu-mlspace",
             "tags": [
              "0.0.80"
             ],
             "title": null,
             "type": "default"
            },
            {
             "description": null,
             "icon_key": null,
             "name": "cr.msk.sbercloud.ru/aicloud-jupyter/jupyter-cuda10.0-tf1.15.0-pt1.3.0-gpu-mlspace",
             "tags": [
              "0.0.80"
             ],
             "title": null,
             "type": "default"
            },
            {
             "description": null,
             "icon_key": null,
             "name": "cr.msk.sbercloud.ru/aicloud-jupyter/jupyter-cuda10.1-tf2.3.0-pt1.6.0-automl",
             "tags": [
              "0.0.80"
             ],
             "title": null,
             "type": "default"
            }
           ],
           "key": "cpu.8C.32G",
           "name": "0 GPU, 8 vCPU-cores, 32 Gb RAM",
           "resource": {
            "limits": {
             "cpu": "7.5",
             "memory": "31Gi",
             "nvidia.com/gpu": "0"
            },
            "requests": {
             "cpu": "7.5",
             "memory": "31Gi",
             "nvidia.com/gpu": "0"
            }
           }
          },
          {
           "images": [
            {
             "description": null,
             "icon_key": null,
             "name": "cr.msk.sbercloud.ru/aicloud-jupyter/jupyter-cuda11.1-pt1.8.1-gpu-a100",
             "tags": [
              "0.0.82"
             ],
             "title": null,
             "type": "default"
            },
            {
             "description": null,
             "icon_key": null,
             "name": "cr.msk.sbercloud.ru/aicloud-jupyter/jupyter-cuda10.1-tf2.2.0-pt1.5.0-gpu-mlspace",
             "tags": [
              "0.0.80"
             ],
             "title": null,
             "type": "default"
            },
            {
             "description": null,
             "icon_key": null,
             "name": "cr.msk.sbercloud.ru/aicloud-jupyter/jupyter-cuda10.1-tf2.3.0-pt1.6.0-gpu-mlspace",
             "tags": [
              "0.0.80"
             ],
             "title": null,
             "type": "default"
            },
            {
             "description": null,
             "icon_key": null,
             "name": "cr.msk.sbercloud.ru/aicloud-jupyter/jupyter-openvino",
             "tags": [
              "0.0.2"
             ],
             "title": null,
             "type": "default"
            },
            {
             "description": null,
             "icon_key": null,
             "name": "cr.msk.sbercloud.ru/aicloud-jupyter/jupyter-enot",
             "tags": [
              "0.0.1"
             ],
             "title": null,
             "type": "default"
            },
            {
             "description": null,
             "icon_key": null,
             "name": "cr.msk.sbercloud.ru/aicloud-jupyter/jupyter-cuda11.0-tf2.4.0-pt1.7.1-gpu-a100",
             "tags": [
              "0.0.82"
             ],
             "title": null,
             "type": "default"
            },
            {
             "description": null,
             "icon_key": null,
             "name": "cr.msk.sbercloud.ru/aicloud-jupyter/jupyter-cuda10.0-tf1.15.0-pt1.3.0-gpu-mlspace",
             "tags": [
              "0.0.80"
             ],
             "title": null,
             "type": "default"
            },
            {
             "description": null,
             "icon_key": null,
             "name": "cr.msk.sbercloud.ru/aicloud-jupyter/jupyter-cuda11.1-pt1.9.1-gpu-a100",
             "tags": [
              "0.0.82-1"
             ],
             "title": null,
             "type": "default"
            },
            {
             "description": null,
             "icon_key": null,
             "name": "cr.msk.sbercloud.ru/aicloud-jupyter/jupyter-cuda10.0-tf1.15.0-pt1.3.0-mlspace",
             "tags": [
              "0.0.80"
             ],
             "title": null,
             "type": "default"
            },
            {
             "description": null,
             "icon_key": null,
             "name": "cr.msk.sbercloud.ru/aicloud-jupyter/jupyter-cuda10.1-tf2.2.0-pt1.5.0-gpu",
             "tags": [
              "0.0.82"
             ],
             "title": null,
             "type": "default"
            },
            {
             "description": null,
             "icon_key": null,
             "name": "cr.msk.sbercloud.ru/aicloud-jupyter/jupyter-cuda11.1-pt1.8.1-gpu",
             "tags": [
              "0.0.82"
             ],
             "title": null,
             "type": "default"
            },
            {
             "description": null,
             "icon_key": null,
             "name": "cr.msk.sbercloud.ru/aicloud-jupyter/jupyter-cuda11.0-tf2.4.0-pt1.7.1-gpu",
             "tags": [
              "0.0.82"
             ],
             "title": null,
             "type": "default"
            },
            {
             "description": null,
             "icon_key": null,
             "name": "cr.msk.sbercloud.ru/aicloud-jupyter/jupyter-cuda10.0-tf1.15.0-pt1.3.0-gpu",
             "tags": [
              "0.0.82"
             ],
             "title": null,
             "type": "default"
            },
            {
             "description": null,
             "icon_key": null,
             "name": "cr.msk.sbercloud.ru/aicloud-jupyter/jupyter-cuda10.1-tf2.3.0-pt1.6.0-gpu",
             "tags": [
              "0.0.82"
             ],
             "title": null,
             "type": "default"
            },
            {
             "description": null,
             "icon_key": null,
             "name": "cr.msk.sbercloud.ru/aicloud-jupyter/jupyter-cuda11.2-tf2.5.0-gpu",
             "tags": [
              "0.0.82"
             ],
             "title": null,
             "type": "default"
            },
            {
             "description": null,
             "icon_key": null,
             "name": "cr.msk.sbercloud.ru/aicloud-jupyter/jupyter-cuda11.2-tf2.6.0-gpu",
             "tags": [
              "0.0.82"
             ],
             "title": null,
             "type": "default"
            },
            {
             "description": null,
             "icon_key": null,
             "name": "cr.msk.sbercloud.ru/aicloud-jupyter/jupyter-cuda10.1-tf2.3.0-pt1.6.0-automl",
             "tags": [
              "0.0.80"
             ],
             "title": null,
             "type": "default"
            }
           ],
           "key": "cpu.12C.48G",
           "name": "0 GPU, 12 vCPU-cores, 48 Gb RAM",
           "resource": {
            "limits": {
             "cpu": "11.5",
             "memory": "47Gi",
             "nvidia.com/gpu": "0"
            },
            "requests": {
             "cpu": "11.5",
             "memory": "47Gi",
             "nvidia.com/gpu": "0"
            }
           }
          },
          {
           "images": [
            {
             "description": null,
             "icon_key": null,
             "name": "cr.msk.sbercloud.ru/aicloud-jupyter/jupyter-cuda10.0-tf1.15.0-pt1.3.0-gpu-mlspace",
             "tags": [
              "0.0.80"
             ],
             "title": null,
             "type": "default"
            },
            {
             "description": null,
             "icon_key": null,
             "name": "cr.msk.sbercloud.ru/aicloud-jupyter/jupyter-cuda11.2-tf2.6.0-gpu",
             "tags": [
              "0.0.82"
             ],
             "title": null,
             "type": "default"
            },
            {
             "description": null,
             "icon_key": null,
             "name": "cr.msk.sbercloud.ru/aicloud-jupyter/jupyter-cuda11.2-tf2.5.0-gpu",
             "tags": [
              "0.0.82"
             ],
             "title": null,
             "type": "default"
            },
            {
             "description": null,
             "icon_key": null,
             "name": "cr.msk.sbercloud.ru/aicloud-jupyter/jupyter-cuda10.1-tf2.3.0-pt1.6.0-gpu",
             "tags": [
              "0.0.82"
             ],
             "title": null,
             "type": "default"
            },
            {
             "description": null,
             "icon_key": null,
             "name": "cr.msk.sbercloud.ru/aicloud-jupyter/jupyter-cuda10.0-tf1.15.0-pt1.3.0-gpu",
             "tags": [
              "0.0.82"
             ],
             "title": null,
             "type": "default"
            },
            {
             "description": null,
             "icon_key": null,
             "name": "cr.msk.sbercloud.ru/aicloud-jupyter/jupyter-cuda11.0-tf2.4.0-pt1.7.1-gpu",
             "tags": [
              "0.0.82"
             ],
             "title": null,
             "type": "default"
            },
            {
             "description": null,
             "icon_key": null,
             "name": "cr.msk.sbercloud.ru/aicloud-jupyter/jupyter-cuda11.1-pt1.8.1-gpu",
             "tags": [
              "0.0.82"
             ],
             "title": null,
             "type": "default"
            },
            {
             "description": null,
             "icon_key": null,
             "name": "cr.msk.sbercloud.ru/aicloud-jupyter/jupyter-cuda10.1-tf2.2.0-pt1.5.0-gpu",
             "tags": [
              "0.0.82"
             ],
             "title": null,
             "type": "default"
            },
            {
             "description": null,
             "icon_key": null,
             "name": "cr.msk.sbercloud.ru/aicloud-jupyter/jupyter-cuda10.0-tf1.15.0-pt1.3.0-mlspace",
             "tags": [
              "0.0.80"
             ],
             "title": null,
             "type": "default"
            },
            {
             "description": null,
             "icon_key": null,
             "name": "cr.msk.sbercloud.ru/aicloud-jupyter/jupyter-cuda11.1-pt1.9.1-gpu-a100",
             "tags": [
              "0.0.82-1"
             ],
             "title": null,
             "type": "default"
            },
            {
             "description": null,
             "icon_key": null,
             "name": "cr.msk.sbercloud.ru/aicloud-jupyter/jupyter-cuda11.1-pt1.8.1-gpu-a100",
             "tags": [
              "0.0.82"
             ],
             "title": null,
             "type": "default"
            },
            {
             "description": null,
             "icon_key": null,
             "name": "cr.msk.sbercloud.ru/aicloud-jupyter/jupyter-cuda11.0-tf2.4.0-pt1.7.1-gpu-a100",
             "tags": [
              "0.0.82"
             ],
             "title": null,
             "type": "default"
            },
            {
             "description": null,
             "icon_key": null,
             "name": "cr.msk.sbercloud.ru/aicloud-jupyter/jupyter-enot",
             "tags": [
              "0.0.1"
             ],
             "title": null,
             "type": "default"
            },
            {
             "description": null,
             "icon_key": null,
             "name": "cr.msk.sbercloud.ru/aicloud-jupyter/jupyter-openvino",
             "tags": [
              "0.0.2"
             ],
             "title": null,
             "type": "default"
            },
            {
             "description": null,
             "icon_key": null,
             "name": "cr.msk.sbercloud.ru/aicloud-jupyter/jupyter-cuda10.1-tf2.3.0-pt1.6.0-gpu-mlspace",
             "tags": [
              "0.0.80"
             ],
             "title": null,
             "type": "default"
            },
            {
             "description": null,
             "icon_key": null,
             "name": "cr.msk.sbercloud.ru/aicloud-jupyter/jupyter-cuda10.1-tf2.2.0-pt1.5.0-gpu-mlspace",
             "tags": [
              "0.0.80"
             ],
             "title": null,
             "type": "default"
            },
            {
             "description": null,
             "icon_key": null,
             "name": "cr.msk.sbercloud.ru/aicloud-jupyter/jupyter-cuda10.1-tf2.3.0-pt1.6.0-automl",
             "tags": [
              "0.0.80"
             ],
             "title": null,
             "type": "default"
            }
           ],
           "key": "cpu.16C.64G",
           "name": "0 GPU, 16 vCPU-cores, 64 Gb RAM",
           "resource": {
            "limits": {
             "cpu": "15.5",
             "memory": "63Gi",
             "nvidia.com/gpu": "0"
            },
            "requests": {
             "cpu": "15.5",
             "memory": "63Gi",
             "nvidia.com/gpu": "0"
            }
           }
          },
          {
           "images": [
            {
             "description": null,
             "icon_key": null,
             "name": "cr.msk.sbercloud.ru/aicloud-jupyter/jupyter-cuda10.1-tf2.3.0-pt1.6.0-automl",
             "tags": [
              "0.0.80"
             ],
             "title": null,
             "type": "default"
            },
            {
             "description": null,
             "icon_key": null,
             "name": "cr.msk.sbercloud.ru/aicloud-jupyter/jupyter-cuda10.0-tf1.15.0-pt1.3.0-gpu-mlspace",
             "tags": [
              "0.0.80"
             ],
             "title": null,
             "type": "default"
            },
            {
             "description": null,
             "icon_key": null,
             "name": "cr.msk.sbercloud.ru/aicloud-jupyter/jupyter-cuda10.1-tf2.2.0-pt1.5.0-gpu-mlspace",
             "tags": [
              "0.0.80"
             ],
             "title": null,
             "type": "default"
            },
            {
             "description": null,
             "icon_key": null,
             "name": "cr.msk.sbercloud.ru/aicloud-jupyter/jupyter-cuda10.1-tf2.3.0-pt1.6.0-gpu-mlspace",
             "tags": [
              "0.0.80"
             ],
             "title": null,
             "type": "default"
            },
            {
             "description": null,
             "icon_key": null,
             "name": "cr.msk.sbercloud.ru/aicloud-jupyter/jupyter-openvino",
             "tags": [
              "0.0.2"
             ],
             "title": null,
             "type": "default"
            },
            {
             "description": null,
             "icon_key": null,
             "name": "cr.msk.sbercloud.ru/aicloud-jupyter/jupyter-enot",
             "tags": [
              "0.0.1"
             ],
             "title": null,
             "type": "default"
            },
            {
             "description": null,
             "icon_key": null,
             "name": "cr.msk.sbercloud.ru/aicloud-jupyter/jupyter-cuda11.0-tf2.4.0-pt1.7.1-gpu-a100",
             "tags": [
              "0.0.82"
             ],
             "title": null,
             "type": "default"
            },
            {
             "description": null,
             "icon_key": null,
             "name": "cr.msk.sbercloud.ru/aicloud-jupyter/jupyter-cuda11.1-pt1.8.1-gpu-a100",
             "tags": [
              "0.0.82"
             ],
             "title": null,
             "type": "default"
            },
            {
             "description": null,
             "icon_key": null,
             "name": "cr.msk.sbercloud.ru/aicloud-jupyter/jupyter-cuda11.1-pt1.9.1-gpu-a100",
             "tags": [
              "0.0.82-1"
             ],
             "title": null,
             "type": "default"
            },
            {
             "description": null,
             "icon_key": null,
             "name": "cr.msk.sbercloud.ru/aicloud-jupyter/jupyter-cuda10.0-tf1.15.0-pt1.3.0-mlspace",
             "tags": [
              "0.0.80"
             ],
             "title": null,
             "type": "default"
            },
            {
             "description": null,
             "icon_key": null,
             "name": "cr.msk.sbercloud.ru/aicloud-jupyter/jupyter-cuda10.1-tf2.2.0-pt1.5.0-gpu",
             "tags": [
              "0.0.82"
             ],
             "title": null,
             "type": "default"
            },
            {
             "description": null,
             "icon_key": null,
             "name": "cr.msk.sbercloud.ru/aicloud-jupyter/jupyter-cuda11.1-pt1.8.1-gpu",
             "tags": [
              "0.0.82"
             ],
             "title": null,
             "type": "default"
            },
            {
             "description": null,
             "icon_key": null,
             "name": "cr.msk.sbercloud.ru/aicloud-jupyter/jupyter-cuda11.0-tf2.4.0-pt1.7.1-gpu",
             "tags": [
              "0.0.82"
             ],
             "title": null,
             "type": "default"
            },
            {
             "description": null,
             "icon_key": null,
             "name": "cr.msk.sbercloud.ru/aicloud-jupyter/jupyter-cuda10.0-tf1.15.0-pt1.3.0-gpu",
             "tags": [
              "0.0.82"
             ],
             "title": null,
             "type": "default"
            },
            {
             "description": null,
             "icon_key": null,
             "name": "cr.msk.sbercloud.ru/aicloud-jupyter/jupyter-cuda10.1-tf2.3.0-pt1.6.0-gpu",
             "tags": [
              "0.0.82"
             ],
             "title": null,
             "type": "default"
            },
            {
             "description": null,
             "icon_key": null,
             "name": "cr.msk.sbercloud.ru/aicloud-jupyter/jupyter-cuda11.2-tf2.5.0-gpu",
             "tags": [
              "0.0.82"
             ],
             "title": null,
             "type": "default"
            },
            {
             "description": null,
             "icon_key": null,
             "name": "cr.msk.sbercloud.ru/aicloud-jupyter/jupyter-cuda11.2-tf2.6.0-gpu",
             "tags": [
              "0.0.82"
             ],
             "title": null,
             "type": "default"
            }
           ],
           "key": "m3.large.8.linux",
           "name": "0 GPU, 2 vCPU-cores, 16 Gb RAM",
           "resource": {
            "limits": {
             "cpu": "1.5",
             "memory": "12.5Gi",
             "nvidia.com/gpu": "0"
            },
            "requests": {
             "cpu": "1.5",
             "memory": "12.5Gi",
             "nvidia.com/gpu": "0"
            }
           }
          },
          {
           "images": [
            {
             "description": null,
             "icon_key": null,
             "name": "cr.msk.sbercloud.ru/aicloud-jupyter/jupyter-cuda10.1-tf2.3.0-pt1.6.0-automl",
             "tags": [
              "0.0.80"
             ],
             "title": null,
             "type": "default"
            },
            {
             "description": null,
             "icon_key": null,
             "name": "cr.msk.sbercloud.ru/aicloud-jupyter/jupyter-cuda11.2-tf2.6.0-gpu",
             "tags": [
              "0.0.82"
             ],
             "title": null,
             "type": "default"
            },
            {
             "description": null,
             "icon_key": null,
             "name": "cr.msk.sbercloud.ru/aicloud-jupyter/jupyter-cuda10.0-tf1.15.0-pt1.3.0-gpu-mlspace",
             "tags": [
              "0.0.80"
             ],
             "title": null,
             "type": "default"
            },
            {
             "description": null,
             "icon_key": null,
             "name": "cr.msk.sbercloud.ru/aicloud-jupyter/jupyter-cuda10.1-tf2.2.0-pt1.5.0-gpu-mlspace",
             "tags": [
              "0.0.80"
             ],
             "title": null,
             "type": "default"
            },
            {
             "description": null,
             "icon_key": null,
             "name": "cr.msk.sbercloud.ru/aicloud-jupyter/jupyter-cuda10.1-tf2.3.0-pt1.6.0-gpu-mlspace",
             "tags": [
              "0.0.80"
             ],
             "title": null,
             "type": "default"
            },
            {
             "description": null,
             "icon_key": null,
             "name": "cr.msk.sbercloud.ru/aicloud-jupyter/jupyter-openvino",
             "tags": [
              "0.0.2"
             ],
             "title": null,
             "type": "default"
            },
            {
             "description": null,
             "icon_key": null,
             "name": "cr.msk.sbercloud.ru/aicloud-jupyter/jupyter-enot",
             "tags": [
              "0.0.1"
             ],
             "title": null,
             "type": "default"
            },
            {
             "description": null,
             "icon_key": null,
             "name": "cr.msk.sbercloud.ru/aicloud-jupyter/jupyter-cuda11.0-tf2.4.0-pt1.7.1-gpu-a100",
             "tags": [
              "0.0.82"
             ],
             "title": null,
             "type": "default"
            },
            {
             "description": null,
             "icon_key": null,
             "name": "cr.msk.sbercloud.ru/aicloud-jupyter/jupyter-cuda11.1-pt1.8.1-gpu-a100",
             "tags": [
              "0.0.82"
             ],
             "title": null,
             "type": "default"
            },
            {
             "description": null,
             "icon_key": null,
             "name": "cr.msk.sbercloud.ru/aicloud-jupyter/jupyter-cuda11.1-pt1.9.1-gpu-a100",
             "tags": [
              "0.0.82-1"
             ],
             "title": null,
             "type": "default"
            },
            {
             "description": null,
             "icon_key": null,
             "name": "cr.msk.sbercloud.ru/aicloud-jupyter/jupyter-cuda10.0-tf1.15.0-pt1.3.0-mlspace",
             "tags": [
              "0.0.80"
             ],
             "title": null,
             "type": "default"
            },
            {
             "description": null,
             "icon_key": null,
             "name": "cr.msk.sbercloud.ru/aicloud-jupyter/jupyter-cuda10.1-tf2.2.0-pt1.5.0-gpu",
             "tags": [
              "0.0.82"
             ],
             "title": null,
             "type": "default"
            },
            {
             "description": null,
             "icon_key": null,
             "name": "cr.msk.sbercloud.ru/aicloud-jupyter/jupyter-cuda11.1-pt1.8.1-gpu",
             "tags": [
              "0.0.82"
             ],
             "title": null,
             "type": "default"
            },
            {
             "description": null,
             "icon_key": null,
             "name": "cr.msk.sbercloud.ru/aicloud-jupyter/jupyter-cuda11.0-tf2.4.0-pt1.7.1-gpu",
             "tags": [
              "0.0.82"
             ],
             "title": null,
             "type": "default"
            },
            {
             "description": null,
             "icon_key": null,
             "name": "cr.msk.sbercloud.ru/aicloud-jupyter/jupyter-cuda10.0-tf1.15.0-pt1.3.0-gpu",
             "tags": [
              "0.0.82"
             ],
             "title": null,
             "type": "default"
            },
            {
             "description": null,
             "icon_key": null,
             "name": "cr.msk.sbercloud.ru/aicloud-jupyter/jupyter-cuda10.1-tf2.3.0-pt1.6.0-gpu",
             "tags": [
              "0.0.82"
             ],
             "title": null,
             "type": "default"
            },
            {
             "description": null,
             "icon_key": null,
             "name": "cr.msk.sbercloud.ru/aicloud-jupyter/jupyter-cuda11.2-tf2.5.0-gpu",
             "tags": [
              "0.0.82"
             ],
             "title": null,
             "type": "default"
            }
           ],
           "key": "m3.2xlarge.8.linux",
           "name": "0 GPU, 8 vCPU-cores, 64 Gb RAM",
           "resource": {
            "limits": {
             "cpu": "7.5",
             "memory": "57Gi",
             "nvidia.com/gpu": "0"
            },
            "requests": {
             "cpu": "7.5",
             "memory": "57Gi",
             "nvidia.com/gpu": "0"
            }
           }
          },
          {
           "images": [
            {
             "description": null,
             "icon_key": null,
             "name": "cr.msk.sbercloud.ru/aicloud-jupyter/jupyter-cuda10.0-tf1.15.0-pt1.3.0-gpu-mlspace",
             "tags": [
              "0.0.80"
             ],
             "title": null,
             "type": "default"
            },
            {
             "description": null,
             "icon_key": null,
             "name": "cr.msk.sbercloud.ru/aicloud-jupyter/jupyter-cuda10.1-tf2.3.0-pt1.6.0-automl",
             "tags": [
              "0.0.80"
             ],
             "title": null,
             "type": "default"
            },
            {
             "description": null,
             "icon_key": null,
             "name": "cr.msk.sbercloud.ru/aicloud-jupyter/jupyter-cuda11.2-tf2.6.0-gpu",
             "tags": [
              "0.0.82"
             ],
             "title": null,
             "type": "default"
            },
            {
             "description": null,
             "icon_key": null,
             "name": "cr.msk.sbercloud.ru/aicloud-jupyter/jupyter-cuda11.2-tf2.5.0-gpu",
             "tags": [
              "0.0.82"
             ],
             "title": null,
             "type": "default"
            },
            {
             "description": null,
             "icon_key": null,
             "name": "cr.msk.sbercloud.ru/aicloud-jupyter/jupyter-cuda10.1-tf2.3.0-pt1.6.0-gpu",
             "tags": [
              "0.0.82"
             ],
             "title": null,
             "type": "default"
            },
            {
             "description": null,
             "icon_key": null,
             "name": "cr.msk.sbercloud.ru/aicloud-jupyter/jupyter-cuda10.0-tf1.15.0-pt1.3.0-gpu",
             "tags": [
              "0.0.82"
             ],
             "title": null,
             "type": "default"
            },
            {
             "description": null,
             "icon_key": null,
             "name": "cr.msk.sbercloud.ru/aicloud-jupyter/jupyter-cuda11.0-tf2.4.0-pt1.7.1-gpu",
             "tags": [
              "0.0.82"
             ],
             "title": null,
             "type": "default"
            },
            {
             "description": null,
             "icon_key": null,
             "name": "cr.msk.sbercloud.ru/aicloud-jupyter/jupyter-cuda11.1-pt1.8.1-gpu",
             "tags": [
              "0.0.82"
             ],
             "title": null,
             "type": "default"
            },
            {
             "description": null,
             "icon_key": null,
             "name": "cr.msk.sbercloud.ru/aicloud-jupyter/jupyter-cuda10.1-tf2.2.0-pt1.5.0-gpu",
             "tags": [
              "0.0.82"
             ],
             "title": null,
             "type": "default"
            },
            {
             "description": null,
             "icon_key": null,
             "name": "cr.msk.sbercloud.ru/aicloud-jupyter/jupyter-cuda10.0-tf1.15.0-pt1.3.0-mlspace",
             "tags": [
              "0.0.80"
             ],
             "title": null,
             "type": "default"
            },
            {
             "description": null,
             "icon_key": null,
             "name": "cr.msk.sbercloud.ru/aicloud-jupyter/jupyter-cuda11.1-pt1.9.1-gpu-a100",
             "tags": [
              "0.0.82-1"
             ],
             "title": null,
             "type": "default"
            },
            {
             "description": null,
             "icon_key": null,
             "name": "cr.msk.sbercloud.ru/aicloud-jupyter/jupyter-cuda11.1-pt1.8.1-gpu-a100",
             "tags": [
              "0.0.82"
             ],
             "title": null,
             "type": "default"
            },
            {
             "description": null,
             "icon_key": null,
             "name": "cr.msk.sbercloud.ru/aicloud-jupyter/jupyter-cuda11.0-tf2.4.0-pt1.7.1-gpu-a100",
             "tags": [
              "0.0.82"
             ],
             "title": null,
             "type": "default"
            },
            {
             "description": null,
             "icon_key": null,
             "name": "cr.msk.sbercloud.ru/aicloud-jupyter/jupyter-enot",
             "tags": [
              "0.0.1"
             ],
             "title": null,
             "type": "default"
            },
            {
             "description": null,
             "icon_key": null,
             "name": "cr.msk.sbercloud.ru/aicloud-jupyter/jupyter-openvino",
             "tags": [
              "0.0.2"
             ],
             "title": null,
             "type": "default"
            },
            {
             "description": null,
             "icon_key": null,
             "name": "cr.msk.sbercloud.ru/aicloud-jupyter/jupyter-cuda10.1-tf2.3.0-pt1.6.0-gpu-mlspace",
             "tags": [
              "0.0.80"
             ],
             "title": null,
             "type": "default"
            },
            {
             "description": null,
             "icon_key": null,
             "name": "cr.msk.sbercloud.ru/aicloud-jupyter/jupyter-cuda10.1-tf2.2.0-pt1.5.0-gpu-mlspace",
             "tags": [
              "0.0.80"
             ],
             "title": null,
             "type": "default"
            }
           ],
           "key": "m3.3xlarge.8.linux",
           "name": "0 GPU, 12 vCPU-cores, 96 Gb RAM",
           "resource": {
            "limits": {
             "cpu": "11.5",
             "memory": "86Gi",
             "nvidia.com/gpu": "0"
            },
            "requests": {
             "cpu": "11.5",
             "memory": "86Gi",
             "nvidia.com/gpu": "0"
            }
           }
          },
          {
           "images": [
            {
             "description": null,
             "icon_key": null,
             "name": "cr.msk.sbercloud.ru/aicloud-jupyter/jupyter-cuda11.2-tf2.5.0-gpu",
             "tags": [
              "0.0.82"
             ],
             "title": null,
             "type": "default"
            },
            {
             "description": null,
             "icon_key": null,
             "name": "cr.msk.sbercloud.ru/aicloud-jupyter/jupyter-cuda11.2-tf2.6.0-gpu",
             "tags": [
              "0.0.82"
             ],
             "title": null,
             "type": "default"
            },
            {
             "description": null,
             "icon_key": null,
             "name": "cr.msk.sbercloud.ru/aicloud-jupyter/jupyter-cuda10.1-tf2.3.0-pt1.6.0-automl",
             "tags": [
              "0.0.80"
             ],
             "title": null,
             "type": "default"
            },
            {
             "description": null,
             "icon_key": null,
             "name": "cr.msk.sbercloud.ru/aicloud-jupyter/jupyter-cuda10.0-tf1.15.0-pt1.3.0-gpu-mlspace",
             "tags": [
              "0.0.80"
             ],
             "title": null,
             "type": "default"
            },
            {
             "description": null,
             "icon_key": null,
             "name": "cr.msk.sbercloud.ru/aicloud-jupyter/jupyter-cuda10.1-tf2.2.0-pt1.5.0-gpu-mlspace",
             "tags": [
              "0.0.80"
             ],
             "title": null,
             "type": "default"
            },
            {
             "description": null,
             "icon_key": null,
             "name": "cr.msk.sbercloud.ru/aicloud-jupyter/jupyter-cuda10.1-tf2.3.0-pt1.6.0-gpu-mlspace",
             "tags": [
              "0.0.80"
             ],
             "title": null,
             "type": "default"
            },
            {
             "description": null,
             "icon_key": null,
             "name": "cr.msk.sbercloud.ru/aicloud-jupyter/jupyter-openvino",
             "tags": [
              "0.0.2"
             ],
             "title": null,
             "type": "default"
            },
            {
             "description": null,
             "icon_key": null,
             "name": "cr.msk.sbercloud.ru/aicloud-jupyter/jupyter-enot",
             "tags": [
              "0.0.1"
             ],
             "title": null,
             "type": "default"
            },
            {
             "description": null,
             "icon_key": null,
             "name": "cr.msk.sbercloud.ru/aicloud-jupyter/jupyter-cuda11.0-tf2.4.0-pt1.7.1-gpu-a100",
             "tags": [
              "0.0.82"
             ],
             "title": null,
             "type": "default"
            },
            {
             "description": null,
             "icon_key": null,
             "name": "cr.msk.sbercloud.ru/aicloud-jupyter/jupyter-cuda11.1-pt1.8.1-gpu-a100",
             "tags": [
              "0.0.82"
             ],
             "title": null,
             "type": "default"
            },
            {
             "description": null,
             "icon_key": null,
             "name": "cr.msk.sbercloud.ru/aicloud-jupyter/jupyter-cuda11.1-pt1.9.1-gpu-a100",
             "tags": [
              "0.0.82-1"
             ],
             "title": null,
             "type": "default"
            },
            {
             "description": null,
             "icon_key": null,
             "name": "cr.msk.sbercloud.ru/aicloud-jupyter/jupyter-cuda10.0-tf1.15.0-pt1.3.0-mlspace",
             "tags": [
              "0.0.80"
             ],
             "title": null,
             "type": "default"
            },
            {
             "description": null,
             "icon_key": null,
             "name": "cr.msk.sbercloud.ru/aicloud-jupyter/jupyter-cuda10.1-tf2.2.0-pt1.5.0-gpu",
             "tags": [
              "0.0.82"
             ],
             "title": null,
             "type": "default"
            },
            {
             "description": null,
             "icon_key": null,
             "name": "cr.msk.sbercloud.ru/aicloud-jupyter/jupyter-cuda11.1-pt1.8.1-gpu",
             "tags": [
              "0.0.82"
             ],
             "title": null,
             "type": "default"
            },
            {
             "description": null,
             "icon_key": null,
             "name": "cr.msk.sbercloud.ru/aicloud-jupyter/jupyter-cuda11.0-tf2.4.0-pt1.7.1-gpu",
             "tags": [
              "0.0.82"
             ],
             "title": null,
             "type": "default"
            },
            {
             "description": null,
             "icon_key": null,
             "name": "cr.msk.sbercloud.ru/aicloud-jupyter/jupyter-cuda10.0-tf1.15.0-pt1.3.0-gpu",
             "tags": [
              "0.0.82"
             ],
             "title": null,
             "type": "default"
            },
            {
             "description": null,
             "icon_key": null,
             "name": "cr.msk.sbercloud.ru/aicloud-jupyter/jupyter-cuda10.1-tf2.3.0-pt1.6.0-gpu",
             "tags": [
              "0.0.82"
             ],
             "title": null,
             "type": "default"
            }
           ],
           "key": "m3.4xlarge.8.linux",
           "name": "0 GPU, 16 vCPU-cores, 128 Gb RAM",
           "resource": {
            "limits": {
             "cpu": "15.5",
             "memory": "116Gi",
             "nvidia.com/gpu": "0"
            },
            "requests": {
             "cpu": "15.5",
             "memory": "116Gi",
             "nvidia.com/gpu": "0"
            }
           }
          }
         ],
         "key": "CCE-MT",
         "name": "SR.01 (CPU, V100)",
         "nfsName": "NFS SR.01",
         "ssh": {
          "port": "2222",
          "url": "ssh-sr01-jupyter.aicloud.sbercloud.ru"
         }
        },
        {
         "description": "Christofari.V100",
         "instances_types": [
          {
           "images": [
            {
             "description": null,
             "icon_key": null,
             "name": "cr.msk.sbercloud.ru/aicloud-jupyter/jupyter-cuda10.1-tf2.3.0-pt1.6.0-automl",
             "tags": [
              "0.0.80"
             ],
             "title": null,
             "type": "default"
            },
            {
             "description": null,
             "icon_key": null,
             "name": "cr.msk.sbercloud.ru/aicloud-jupyter/jupyter-cuda10.1-tf2.3.0-pt1.6.0-gpu",
             "tags": [
              "0.0.82"
             ],
             "title": null,
             "type": "default"
            }
           ],
           "key": "free.0gpu",
           "name": "Free(0 GPU, 0.5 vCPU, 3GB RAM)",
           "resource": {
            "limits": {
             "cpu": "0.5",
             "memory": "3Gi",
             "nvidia.com/gpu": "0"
            },
            "requests": {
             "cpu": "0",
             "memory": "64Mi",
             "nvidia.com/gpu": "0"
            }
           }
          },
          {
           "images": [
            {
             "description": null,
             "icon_key": null,
             "name": "cr.msk.sbercloud.ru/aicloud-jupyter/jupyter-cuda10.0-tf1.15.0-pt1.3.0-gpu",
             "tags": [
              "0.0.82"
             ],
             "title": null,
             "type": "default"
            },
            {
             "description": null,
             "icon_key": null,
             "name": "cr.msk.sbercloud.ru/aicloud-jupyter/jupyter-cuda10.1-tf2.3.0-pt1.6.0-automl",
             "tags": [
              "0.0.80"
             ],
             "title": null,
             "type": "default"
            },
            {
             "description": null,
             "icon_key": null,
             "name": "cr.msk.sbercloud.ru/aicloud-jupyter/jupyter-openvino",
             "tags": [
              "0.0.2"
             ],
             "title": null,
             "type": "default"
            },
            {
             "description": null,
             "icon_key": null,
             "name": "cr.msk.sbercloud.ru/aicloud-jupyter/jupyter-enot",
             "tags": [
              "0.0.1"
             ],
             "title": null,
             "type": "default"
            },
            {
             "description": null,
             "icon_key": null,
             "name": "cr.msk.sbercloud.ru/aicloud-jupyter/jupyter-cuda10.1-tf2.2.0-pt1.5.0-gpu",
             "tags": [
              "0.0.82"
             ],
             "title": null,
             "type": "default"
            },
            {
             "description": null,
             "icon_key": null,
             "name": "cr.msk.sbercloud.ru/aicloud-jupyter/jupyter-cuda10.1-tf2.3.0-pt1.6.0-gpu",
             "tags": [
              "0.0.82"
             ],
             "title": null,
             "type": "default"
            }
           ],
           "key": "v100.1gpu",
           "name": "1 GPU Tesla V100 32GB, 3 CPU-cores, 92 Gb RAM",
           "resource": {
            "limits": {
             "cpu": "3",
             "memory": "92Gi",
             "nvidia.com/gpu": "1"
            },
            "requests": {
             "cpu": "3",
             "memory": "92Gi",
             "nvidia.com/gpu": "1"
            }
           }
          },
          {
           "images": [
            {
             "description": null,
             "icon_key": null,
             "name": "cr.msk.sbercloud.ru/aicloud-jupyter/jupyter-cuda10.1-tf2.3.0-pt1.6.0-automl",
             "tags": [
              "0.0.80"
             ],
             "title": null,
             "type": "default"
            },
            {
             "description": null,
             "icon_key": null,
             "name": "cr.msk.sbercloud.ru/aicloud-jupyter/jupyter-openvino",
             "tags": [
              "0.0.2"
             ],
             "title": null,
             "type": "default"
            },
            {
             "description": null,
             "icon_key": null,
             "name": "cr.msk.sbercloud.ru/aicloud-jupyter/jupyter-enot",
             "tags": [
              "0.0.1"
             ],
             "title": null,
             "type": "default"
            },
            {
             "description": null,
             "icon_key": null,
             "name": "cr.msk.sbercloud.ru/aicloud-jupyter/jupyter-cuda10.1-tf2.2.0-pt1.5.0-gpu",
             "tags": [
              "0.0.82"
             ],
             "title": null,
             "type": "default"
            },
            {
             "description": null,
             "icon_key": null,
             "name": "cr.msk.sbercloud.ru/aicloud-jupyter/jupyter-cuda10.0-tf1.15.0-pt1.3.0-gpu",
             "tags": [
              "0.0.82"
             ],
             "title": null,
             "type": "default"
            },
            {
             "description": null,
             "icon_key": null,
             "name": "cr.msk.sbercloud.ru/aicloud-jupyter/jupyter-cuda10.1-tf2.3.0-pt1.6.0-gpu",
             "tags": [
              "0.0.82"
             ],
             "title": null,
             "type": "default"
            }
           ],
           "key": "v100.2gpu",
           "name": "2 GPU Tesla V100 32GB, 6 CPU-cores, 184 Gb RAM",
           "resource": {
            "limits": {
             "cpu": "6",
             "memory": "184Gi",
             "nvidia.com/gpu": "2"
            },
            "requests": {
             "cpu": "6",
             "memory": "184Gi",
             "nvidia.com/gpu": "2"
            }
           }
          },
          {
           "images": [
            {
             "description": null,
             "icon_key": null,
             "name": "cr.msk.sbercloud.ru/aicloud-jupyter/jupyter-openvino",
             "tags": [
              "0.0.2"
             ],
             "title": null,
             "type": "default"
            },
            {
             "description": null,
             "icon_key": null,
             "name": "cr.msk.sbercloud.ru/aicloud-jupyter/jupyter-cuda10.1-tf2.3.0-pt1.6.0-gpu",
             "tags": [
              "0.0.82"
             ],
             "title": null,
             "type": "default"
            },
            {
             "description": null,
             "icon_key": null,
             "name": "cr.msk.sbercloud.ru/aicloud-jupyter/jupyter-cuda10.0-tf1.15.0-pt1.3.0-gpu",
             "tags": [
              "0.0.82"
             ],
             "title": null,
             "type": "default"
            },
            {
             "description": null,
             "icon_key": null,
             "name": "cr.msk.sbercloud.ru/aicloud-jupyter/jupyter-cuda10.1-tf2.2.0-pt1.5.0-gpu",
             "tags": [
              "0.0.82"
             ],
             "title": null,
             "type": "default"
            },
            {
             "description": null,
             "icon_key": null,
             "name": "cr.msk.sbercloud.ru/aicloud-jupyter/jupyter-cuda10.1-tf2.3.0-pt1.6.0-automl",
             "tags": [
              "0.0.80"
             ],
             "title": null,
             "type": "default"
            },
            {
             "description": null,
             "icon_key": null,
             "name": "cr.msk.sbercloud.ru/aicloud-jupyter/jupyter-enot",
             "tags": [
              "0.0.1"
             ],
             "title": null,
             "type": "default"
            }
           ],
           "key": "v100.3gpu",
           "name": "3 GPU Tesla V100 32GB, 9 CPU-cores, 276 Gb RAM",
           "resource": {
            "limits": {
             "cpu": "9",
             "memory": "276Gi",
             "nvidia.com/gpu": "3"
            },
            "requests": {
             "cpu": "9",
             "memory": "276Gi",
             "nvidia.com/gpu": "3"
            }
           }
          },
          {
           "images": [
            {
             "description": null,
             "icon_key": null,
             "name": "cr.msk.sbercloud.ru/aicloud-jupyter/jupyter-cuda10.1-tf2.3.0-pt1.6.0-gpu",
             "tags": [
              "0.0.82"
             ],
             "title": null,
             "type": "default"
            },
            {
             "description": null,
             "icon_key": null,
             "name": "cr.msk.sbercloud.ru/aicloud-jupyter/jupyter-cuda10.1-tf2.3.0-pt1.6.0-automl",
             "tags": [
              "0.0.80"
             ],
             "title": null,
             "type": "default"
            },
            {
             "description": null,
             "icon_key": null,
             "name": "cr.msk.sbercloud.ru/aicloud-jupyter/jupyter-openvino",
             "tags": [
              "0.0.2"
             ],
             "title": null,
             "type": "default"
            },
            {
             "description": null,
             "icon_key": null,
             "name": "cr.msk.sbercloud.ru/aicloud-jupyter/jupyter-enot",
             "tags": [
              "0.0.1"
             ],
             "title": null,
             "type": "default"
            },
            {
             "description": null,
             "icon_key": null,
             "name": "cr.msk.sbercloud.ru/aicloud-jupyter/jupyter-cuda10.1-tf2.2.0-pt1.5.0-gpu",
             "tags": [
              "0.0.82"
             ],
             "title": null,
             "type": "default"
            },
            {
             "description": null,
             "icon_key": null,
             "name": "cr.msk.sbercloud.ru/aicloud-jupyter/jupyter-cuda10.0-tf1.15.0-pt1.3.0-gpu",
             "tags": [
              "0.0.82"
             ],
             "title": null,
             "type": "default"
            }
           ],
           "key": "v100.4gpu",
           "name": "4 GPU Tesla V100 32GB, 12 CPU-cores, 368 Gb RAM",
           "resource": {
            "limits": {
             "cpu": "12",
             "memory": "368Gi",
             "nvidia.com/gpu": "4"
            },
            "requests": {
             "cpu": "12",
             "memory": "368Gi",
             "nvidia.com/gpu": "4"
            }
           }
          },
          {
           "images": [
            {
             "description": null,
             "icon_key": null,
             "name": "cr.msk.sbercloud.ru/aicloud-jupyter/jupyter-openvino",
             "tags": [
              "0.0.2"
             ],
             "title": null,
             "type": "default"
            },
            {
             "description": null,
             "icon_key": null,
             "name": "cr.msk.sbercloud.ru/aicloud-jupyter/jupyter-cuda10.1-tf2.3.0-pt1.6.0-automl",
             "tags": [
              "0.0.80"
             ],
             "title": null,
             "type": "default"
            },
            {
             "description": null,
             "icon_key": null,
             "name": "cr.msk.sbercloud.ru/aicloud-jupyter/jupyter-enot",
             "tags": [
              "0.0.1"
             ],
             "title": null,
             "type": "default"
            },
            {
             "description": null,
             "icon_key": null,
             "name": "cr.msk.sbercloud.ru/aicloud-jupyter/jupyter-cuda10.1-tf2.2.0-pt1.5.0-gpu",
             "tags": [
              "0.0.82"
             ],
             "title": null,
             "type": "default"
            },
            {
             "description": null,
             "icon_key": null,
             "name": "cr.msk.sbercloud.ru/aicloud-jupyter/jupyter-cuda10.0-tf1.15.0-pt1.3.0-gpu",
             "tags": [
              "0.0.82"
             ],
             "title": null,
             "type": "default"
            },
            {
             "description": null,
             "icon_key": null,
             "name": "cr.msk.sbercloud.ru/aicloud-jupyter/jupyter-cuda10.1-tf2.3.0-pt1.6.0-gpu",
             "tags": [
              "0.0.82"
             ],
             "title": null,
             "type": "default"
            }
           ],
           "key": "v100.5gpu",
           "name": "5 GPU Tesla V100 32GB, 15 CPU-cores, 460 Gb RAM",
           "resource": {
            "limits": {
             "cpu": "15",
             "memory": "460Gi",
             "nvidia.com/gpu": "5"
            },
            "requests": {
             "cpu": "15",
             "memory": "460Gi",
             "nvidia.com/gpu": "5"
            }
           }
          },
          {
           "images": [
            {
             "description": null,
             "icon_key": null,
             "name": "cr.msk.sbercloud.ru/aicloud-jupyter/jupyter-enot",
             "tags": [
              "0.0.1"
             ],
             "title": null,
             "type": "default"
            },
            {
             "description": null,
             "icon_key": null,
             "name": "cr.msk.sbercloud.ru/aicloud-jupyter/jupyter-cuda10.1-tf2.2.0-pt1.5.0-gpu",
             "tags": [
              "0.0.82"
             ],
             "title": null,
             "type": "default"
            },
            {
             "description": null,
             "icon_key": null,
             "name": "cr.msk.sbercloud.ru/aicloud-jupyter/jupyter-cuda10.0-tf1.15.0-pt1.3.0-gpu",
             "tags": [
              "0.0.82"
             ],
             "title": null,
             "type": "default"
            },
            {
             "description": null,
             "icon_key": null,
             "name": "cr.msk.sbercloud.ru/aicloud-jupyter/jupyter-cuda10.1-tf2.3.0-pt1.6.0-gpu",
             "tags": [
              "0.0.82"
             ],
             "title": null,
             "type": "default"
            },
            {
             "description": null,
             "icon_key": null,
             "name": "cr.msk.sbercloud.ru/aicloud-jupyter/jupyter-openvino",
             "tags": [
              "0.0.2"
             ],
             "title": null,
             "type": "default"
            },
            {
             "description": null,
             "icon_key": null,
             "name": "cr.msk.sbercloud.ru/aicloud-jupyter/jupyter-cuda10.1-tf2.3.0-pt1.6.0-automl",
             "tags": [
              "0.0.80"
             ],
             "title": null,
             "type": "default"
            }
           ],
           "key": "v100.6gpu",
           "name": "6 GPU Tesla V100 32GB, 18 CPU-cores, 552 Gb RAM",
           "resource": {
            "limits": {
             "cpu": "18",
             "memory": "552Gi",
             "nvidia.com/gpu": "6"
            },
            "requests": {
             "cpu": "18",
             "memory": "552Gi",
             "nvidia.com/gpu": "6"
            }
           }
          },
          {
           "images": [
            {
             "description": null,
             "icon_key": null,
             "name": "cr.msk.sbercloud.ru/aicloud-jupyter/jupyter-cuda10.1-tf2.3.0-pt1.6.0-gpu",
             "tags": [
              "0.0.82"
             ],
             "title": null,
             "type": "default"
            },
            {
             "description": null,
             "icon_key": null,
             "name": "cr.msk.sbercloud.ru/aicloud-jupyter/jupyter-cuda10.0-tf1.15.0-pt1.3.0-gpu",
             "tags": [
              "0.0.82"
             ],
             "title": null,
             "type": "default"
            },
            {
             "description": null,
             "icon_key": null,
             "name": "cr.msk.sbercloud.ru/aicloud-jupyter/jupyter-cuda10.1-tf2.2.0-pt1.5.0-gpu",
             "tags": [
              "0.0.82"
             ],
             "title": null,
             "type": "default"
            },
            {
             "description": null,
             "icon_key": null,
             "name": "cr.msk.sbercloud.ru/aicloud-jupyter/jupyter-openvino",
             "tags": [
              "0.0.2"
             ],
             "title": null,
             "type": "default"
            },
            {
             "description": null,
             "icon_key": null,
             "name": "cr.msk.sbercloud.ru/aicloud-jupyter/jupyter-cuda10.1-tf2.3.0-pt1.6.0-automl",
             "tags": [
              "0.0.80"
             ],
             "title": null,
             "type": "default"
            },
            {
             "description": null,
             "icon_key": null,
             "name": "cr.msk.sbercloud.ru/aicloud-jupyter/jupyter-enot",
             "tags": [
              "0.0.1"
             ],
             "title": null,
             "type": "default"
            }
           ],
           "key": "v100.7gpu",
           "name": "7 GPU Tesla V100 32GB, 21 CPU-cores, 644 Gb RAM",
           "resource": {
            "limits": {
             "cpu": "21",
             "memory": "644Gi",
             "nvidia.com/gpu": "7"
            },
            "requests": {
             "cpu": "21",
             "memory": "644Gi",
             "nvidia.com/gpu": "7"
            }
           }
          },
          {
           "images": [
            {
             "description": null,
             "icon_key": null,
             "name": "cr.msk.sbercloud.ru/aicloud-jupyter/jupyter-enot",
             "tags": [
              "0.0.1"
             ],
             "title": null,
             "type": "default"
            },
            {
             "description": null,
             "icon_key": null,
             "name": "cr.msk.sbercloud.ru/aicloud-jupyter/jupyter-cuda10.1-tf2.3.0-pt1.6.0-gpu",
             "tags": [
              "0.0.82"
             ],
             "title": null,
             "type": "default"
            },
            {
             "description": null,
             "icon_key": null,
             "name": "cr.msk.sbercloud.ru/aicloud-jupyter/jupyter-cuda10.0-tf1.15.0-pt1.3.0-gpu",
             "tags": [
              "0.0.82"
             ],
             "title": null,
             "type": "default"
            },
            {
             "description": null,
             "icon_key": null,
             "name": "cr.msk.sbercloud.ru/aicloud-jupyter/jupyter-cuda10.1-tf2.2.0-pt1.5.0-gpu",
             "tags": [
              "0.0.82"
             ],
             "title": null,
             "type": "default"
            },
            {
             "description": null,
             "icon_key": null,
             "name": "cr.msk.sbercloud.ru/aicloud-jupyter/jupyter-cuda10.1-tf2.3.0-pt1.6.0-automl",
             "tags": [
              "0.0.80"
             ],
             "title": null,
             "type": "default"
            },
            {
             "description": null,
             "icon_key": null,
             "name": "cr.msk.sbercloud.ru/aicloud-jupyter/jupyter-openvino",
             "tags": [
              "0.0.2"
             ],
             "title": null,
             "type": "default"
            }
           ],
           "key": "v100.8gpu",
           "name": "8 GPU Tesla V100 32GB, 24 CPU-cores, 736 Gb RAM",
           "resource": {
            "limits": {
             "cpu": "24",
             "memory": "736Gi",
             "nvidia.com/gpu": "8"
            },
            "requests": {
             "cpu": "24",
             "memory": "736Gi",
             "nvidia.com/gpu": "8"
            }
           }
          },
          {
           "images": [
            {
             "description": null,
             "icon_key": null,
             "name": "cr.msk.sbercloud.ru/aicloud-jupyter/jupyter-cuda10.1-tf2.3.0-pt1.6.0-automl",
             "tags": [
              "0.0.80"
             ],
             "title": null,
             "type": "default"
            },
            {
             "description": null,
             "icon_key": null,
             "name": "cr.msk.sbercloud.ru/aicloud-jupyter/jupyter-openvino",
             "tags": [
              "0.0.2"
             ],
             "title": null,
             "type": "default"
            },
            {
             "description": null,
             "icon_key": null,
             "name": "cr.msk.sbercloud.ru/aicloud-jupyter/jupyter-enot",
             "tags": [
              "0.0.1"
             ],
             "title": null,
             "type": "default"
            },
            {
             "description": null,
             "icon_key": null,
             "name": "cr.msk.sbercloud.ru/aicloud-jupyter/jupyter-cuda10.1-tf2.2.0-pt1.5.0-gpu",
             "tags": [
              "0.0.82"
             ],
             "title": null,
             "type": "default"
            },
            {
             "description": null,
             "icon_key": null,
             "name": "cr.msk.sbercloud.ru/aicloud-jupyter/jupyter-cuda10.0-tf1.15.0-pt1.3.0-gpu",
             "tags": [
              "0.0.82"
             ],
             "title": null,
             "type": "default"
            },
            {
             "description": null,
             "icon_key": null,
             "name": "cr.msk.sbercloud.ru/aicloud-jupyter/jupyter-cuda10.1-tf2.3.0-pt1.6.0-gpu",
             "tags": [
              "0.0.82"
             ],
             "title": null,
             "type": "default"
            }
           ],
           "key": "v100.9gpu",
           "name": "9 GPU Tesla V100 32GB, 27 CPU-cores, 828 Gb RAM",
           "resource": {
            "limits": {
             "cpu": "27",
             "memory": "828Gi",
             "nvidia.com/gpu": "9"
            },
            "requests": {
             "cpu": "27",
             "memory": "828Gi",
             "nvidia.com/gpu": "9"
            }
           }
          },
          {
           "images": [
            {
             "description": null,
             "icon_key": null,
             "name": "cr.msk.sbercloud.ru/aicloud-jupyter/jupyter-cuda10.1-tf2.3.0-pt1.6.0-automl",
             "tags": [
              "0.0.80"
             ],
             "title": null,
             "type": "default"
            },
            {
             "description": null,
             "icon_key": null,
             "name": "cr.msk.sbercloud.ru/aicloud-jupyter/jupyter-cuda10.1-tf2.3.0-pt1.6.0-gpu",
             "tags": [
              "0.0.82"
             ],
             "title": null,
             "type": "default"
            },
            {
             "description": null,
             "icon_key": null,
             "name": "cr.msk.sbercloud.ru/aicloud-jupyter/jupyter-cuda10.0-tf1.15.0-pt1.3.0-gpu",
             "tags": [
              "0.0.82"
             ],
             "title": null,
             "type": "default"
            },
            {
             "description": null,
             "icon_key": null,
             "name": "cr.msk.sbercloud.ru/aicloud-jupyter/jupyter-cuda10.1-tf2.2.0-pt1.5.0-gpu",
             "tags": [
              "0.0.82"
             ],
             "title": null,
             "type": "default"
            },
            {
             "description": null,
             "icon_key": null,
             "name": "cr.msk.sbercloud.ru/aicloud-jupyter/jupyter-enot",
             "tags": [
              "0.0.1"
             ],
             "title": null,
             "type": "default"
            },
            {
             "description": null,
             "icon_key": null,
             "name": "cr.msk.sbercloud.ru/aicloud-jupyter/jupyter-openvino",
             "tags": [
              "0.0.2"
             ],
             "title": null,
             "type": "default"
            }
           ],
           "key": "v100.10gpu",
           "name": "10 GPU Tesla V100 32GB, 30 CPU-cores, 920 Gb RAM",
           "resource": {
            "limits": {
             "cpu": "30",
             "memory": "920Gi",
             "nvidia.com/gpu": "10"
            },
            "requests": {
             "cpu": "30",
             "memory": "920Gi",
             "nvidia.com/gpu": "10"
            }
           }
          },
          {
           "images": [
            {
             "description": null,
             "icon_key": null,
             "name": "cr.msk.sbercloud.ru/aicloud-jupyter/jupyter-cuda10.1-tf2.3.0-pt1.6.0-automl",
             "tags": [
              "0.0.80"
             ],
             "title": null,
             "type": "default"
            },
            {
             "description": null,
             "icon_key": null,
             "name": "cr.msk.sbercloud.ru/aicloud-jupyter/jupyter-cuda10.1-tf2.3.0-pt1.6.0-gpu",
             "tags": [
              "0.0.82"
             ],
             "title": null,
             "type": "default"
            },
            {
             "description": null,
             "icon_key": null,
             "name": "cr.msk.sbercloud.ru/aicloud-jupyter/jupyter-cuda10.0-tf1.15.0-pt1.3.0-gpu",
             "tags": [
              "0.0.82"
             ],
             "title": null,
             "type": "default"
            },
            {
             "description": null,
             "icon_key": null,
             "name": "cr.msk.sbercloud.ru/aicloud-jupyter/jupyter-cuda10.1-tf2.2.0-pt1.5.0-gpu",
             "tags": [
              "0.0.82"
             ],
             "title": null,
             "type": "default"
            },
            {
             "description": null,
             "icon_key": null,
             "name": "cr.msk.sbercloud.ru/aicloud-jupyter/jupyter-enot",
             "tags": [
              "0.0.1"
             ],
             "title": null,
             "type": "default"
            },
            {
             "description": null,
             "icon_key": null,
             "name": "cr.msk.sbercloud.ru/aicloud-jupyter/jupyter-openvino",
             "tags": [
              "0.0.2"
             ],
             "title": null,
             "type": "default"
            }
           ],
           "key": "v100.11gpu",
           "name": "11 GPU Tesla V100 32GB, 33 CPU-cores, 1012 Gb RAM",
           "resource": {
            "limits": {
             "cpu": "33",
             "memory": "1012Gi",
             "nvidia.com/gpu": "11"
            },
            "requests": {
             "cpu": "33",
             "memory": "1012Gi",
             "nvidia.com/gpu": "11"
            }
           }
          },
          {
           "images": [
            {
             "description": null,
             "icon_key": null,
             "name": "cr.msk.sbercloud.ru/aicloud-jupyter/jupyter-cuda10.1-tf2.3.0-pt1.6.0-automl",
             "tags": [
              "0.0.80"
             ],
             "title": null,
             "type": "default"
            },
            {
             "description": null,
             "icon_key": null,
             "name": "cr.msk.sbercloud.ru/aicloud-jupyter/jupyter-cuda10.1-tf2.3.0-pt1.6.0-gpu",
             "tags": [
              "0.0.82"
             ],
             "title": null,
             "type": "default"
            },
            {
             "description": null,
             "icon_key": null,
             "name": "cr.msk.sbercloud.ru/aicloud-jupyter/jupyter-cuda10.0-tf1.15.0-pt1.3.0-gpu",
             "tags": [
              "0.0.82"
             ],
             "title": null,
             "type": "default"
            },
            {
             "description": null,
             "icon_key": null,
             "name": "cr.msk.sbercloud.ru/aicloud-jupyter/jupyter-cuda10.1-tf2.2.0-pt1.5.0-gpu",
             "tags": [
              "0.0.82"
             ],
             "title": null,
             "type": "default"
            },
            {
             "description": null,
             "icon_key": null,
             "name": "cr.msk.sbercloud.ru/aicloud-jupyter/jupyter-enot",
             "tags": [
              "0.0.1"
             ],
             "title": null,
             "type": "default"
            },
            {
             "description": null,
             "icon_key": null,
             "name": "cr.msk.sbercloud.ru/aicloud-jupyter/jupyter-openvino",
             "tags": [
              "0.0.2"
             ],
             "title": null,
             "type": "default"
            }
           ],
           "key": "v100.12gpu",
           "name": "12 GPU Tesla V100 32GB, 36 CPU-cores, 1104 Gb RAM",
           "resource": {
            "limits": {
             "cpu": "36",
             "memory": "1104Gi",
             "nvidia.com/gpu": "12"
            },
            "requests": {
             "cpu": "36",
             "memory": "1104Gi",
             "nvidia.com/gpu": "12"
            }
           }
          },
          {
           "images": [
            {
             "description": null,
             "icon_key": null,
             "name": "cr.msk.sbercloud.ru/aicloud-jupyter/jupyter-cuda10.1-tf2.3.0-pt1.6.0-automl",
             "tags": [
              "0.0.80"
             ],
             "title": null,
             "type": "default"
            },
            {
             "description": null,
             "icon_key": null,
             "name": "cr.msk.sbercloud.ru/aicloud-jupyter/jupyter-openvino",
             "tags": [
              "0.0.2"
             ],
             "title": null,
             "type": "default"
            },
            {
             "description": null,
             "icon_key": null,
             "name": "cr.msk.sbercloud.ru/aicloud-jupyter/jupyter-enot",
             "tags": [
              "0.0.1"
             ],
             "title": null,
             "type": "default"
            },
            {
             "description": null,
             "icon_key": null,
             "name": "cr.msk.sbercloud.ru/aicloud-jupyter/jupyter-cuda10.1-tf2.3.0-pt1.6.0-gpu",
             "tags": [
              "0.0.82"
             ],
             "title": null,
             "type": "default"
            },
            {
             "description": null,
             "icon_key": null,
             "name": "cr.msk.sbercloud.ru/aicloud-jupyter/jupyter-cuda10.0-tf1.15.0-pt1.3.0-gpu",
             "tags": [
              "0.0.82"
             ],
             "title": null,
             "type": "default"
            },
            {
             "description": null,
             "icon_key": null,
             "name": "cr.msk.sbercloud.ru/aicloud-jupyter/jupyter-cuda10.1-tf2.2.0-pt1.5.0-gpu",
             "tags": [
              "0.0.82"
             ],
             "title": null,
             "type": "default"
            }
           ],
           "key": "v100.13gpu",
           "name": "13 GPU Tesla V100 32GB, 39 CPU-cores, 1196 Gb RAM",
           "resource": {
            "limits": {
             "cpu": "39",
             "memory": "1196Gi",
             "nvidia.com/gpu": "13"
            },
            "requests": {
             "cpu": "39",
             "memory": "1196Gi",
             "nvidia.com/gpu": "13"
            }
           }
          },
          {
           "images": [
            {
             "description": null,
             "icon_key": null,
             "name": "cr.msk.sbercloud.ru/aicloud-jupyter/jupyter-cuda10.1-tf2.3.0-pt1.6.0-automl",
             "tags": [
              "0.0.80"
             ],
             "title": null,
             "type": "default"
            },
            {
             "description": null,
             "icon_key": null,
             "name": "cr.msk.sbercloud.ru/aicloud-jupyter/jupyter-openvino",
             "tags": [
              "0.0.2"
             ],
             "title": null,
             "type": "default"
            },
            {
             "description": null,
             "icon_key": null,
             "name": "cr.msk.sbercloud.ru/aicloud-jupyter/jupyter-enot",
             "tags": [
              "0.0.1"
             ],
             "title": null,
             "type": "default"
            },
            {
             "description": null,
             "icon_key": null,
             "name": "cr.msk.sbercloud.ru/aicloud-jupyter/jupyter-cuda10.1-tf2.2.0-pt1.5.0-gpu",
             "tags": [
              "0.0.82"
             ],
             "title": null,
             "type": "default"
            },
            {
             "description": null,
             "icon_key": null,
             "name": "cr.msk.sbercloud.ru/aicloud-jupyter/jupyter-cuda10.0-tf1.15.0-pt1.3.0-gpu",
             "tags": [
              "0.0.82"
             ],
             "title": null,
             "type": "default"
            },
            {
             "description": null,
             "icon_key": null,
             "name": "cr.msk.sbercloud.ru/aicloud-jupyter/jupyter-cuda10.1-tf2.3.0-pt1.6.0-gpu",
             "tags": [
              "0.0.82"
             ],
             "title": null,
             "type": "default"
            }
           ],
           "key": "v100.14gpu",
           "name": "14 GPU Tesla V100 32GB, 42 CPU-cores, 1288 Gb RAM",
           "resource": {
            "limits": {
             "cpu": "42",
             "memory": "1288Gi",
             "nvidia.com/gpu": "14"
            },
            "requests": {
             "cpu": "42",
             "memory": "1288Gi",
             "nvidia.com/gpu": "14"
            }
           }
          },
          {
           "images": [
            {
             "description": null,
             "icon_key": null,
             "name": "cr.msk.sbercloud.ru/aicloud-jupyter/jupyter-cuda10.1-tf2.2.0-pt1.5.0-gpu",
             "tags": [
              "0.0.82"
             ],
             "title": null,
             "type": "default"
            },
            {
             "description": null,
             "icon_key": null,
             "name": "cr.msk.sbercloud.ru/aicloud-jupyter/jupyter-cuda10.0-tf1.15.0-pt1.3.0-gpu",
             "tags": [
              "0.0.82"
             ],
             "title": null,
             "type": "default"
            },
            {
             "description": null,
             "icon_key": null,
             "name": "cr.msk.sbercloud.ru/aicloud-jupyter/jupyter-cuda10.1-tf2.3.0-pt1.6.0-gpu",
             "tags": [
              "0.0.82"
             ],
             "title": null,
             "type": "default"
            },
            {
             "description": null,
             "icon_key": null,
             "name": "cr.msk.sbercloud.ru/aicloud-jupyter/jupyter-enot",
             "tags": [
              "0.0.1"
             ],
             "title": null,
             "type": "default"
            },
            {
             "description": null,
             "icon_key": null,
             "name": "cr.msk.sbercloud.ru/aicloud-jupyter/jupyter-openvino",
             "tags": [
              "0.0.2"
             ],
             "title": null,
             "type": "default"
            },
            {
             "description": null,
             "icon_key": null,
             "name": "cr.msk.sbercloud.ru/aicloud-jupyter/jupyter-cuda10.1-tf2.3.0-pt1.6.0-automl",
             "tags": [
              "0.0.80"
             ],
             "title": null,
             "type": "default"
            }
           ],
           "key": "v100.15gpu",
           "name": "15 GPU Tesla V100 32GB, 45 CPU-cores, 1380 Gb RAM",
           "resource": {
            "limits": {
             "cpu": "45",
             "memory": "1380Gi",
             "nvidia.com/gpu": "15"
            },
            "requests": {
             "cpu": "45",
             "memory": "1380Gi",
             "nvidia.com/gpu": "15"
            }
           }
          },
          {
           "images": [
            {
             "description": null,
             "icon_key": null,
             "name": "cr.msk.sbercloud.ru/aicloud-jupyter/jupyter-openvino",
             "tags": [
              "0.0.2"
             ],
             "title": null,
             "type": "default"
            },
            {
             "description": null,
             "icon_key": null,
             "name": "cr.msk.sbercloud.ru/aicloud-jupyter/jupyter-enot",
             "tags": [
              "0.0.1"
             ],
             "title": null,
             "type": "default"
            },
            {
             "description": null,
             "icon_key": null,
             "name": "cr.msk.sbercloud.ru/aicloud-jupyter/jupyter-cuda10.1-tf2.2.0-pt1.5.0-gpu",
             "tags": [
              "0.0.82"
             ],
             "title": null,
             "type": "default"
            },
            {
             "description": null,
             "icon_key": null,
             "name": "cr.msk.sbercloud.ru/aicloud-jupyter/jupyter-cuda10.0-tf1.15.0-pt1.3.0-gpu",
             "tags": [
              "0.0.82"
             ],
             "title": null,
             "type": "default"
            },
            {
             "description": null,
             "icon_key": null,
             "name": "cr.msk.sbercloud.ru/aicloud-jupyter/jupyter-cuda10.1-tf2.3.0-pt1.6.0-gpu",
             "tags": [
              "0.0.82"
             ],
             "title": null,
             "type": "default"
            },
            {
             "description": null,
             "icon_key": null,
             "name": "cr.msk.sbercloud.ru/aicloud-jupyter/jupyter-cuda10.1-tf2.3.0-pt1.6.0-automl",
             "tags": [
              "0.0.80"
             ],
             "title": null,
             "type": "default"
            }
           ],
           "key": "v100.16gpu",
           "name": "16 GPU Tesla V100 32GB, 48 CPU-cores, 1472 Gb RAM",
           "resource": {
            "limits": {
             "cpu": "48",
             "memory": "1472Gi",
             "nvidia.com/gpu": "16"
            },
            "requests": {
             "cpu": "48",
             "memory": "1472Gi",
             "nvidia.com/gpu": "16"
            }
           }
          }
         ],
         "key": "DGX2-MT",
         "name": "Christofari.V100",
         "nfsName": "NFS Christofari.V100",
         "ssh": {
          "port": "2222",
          "url": "ssh-jupyter.aicloud.sbercloud.ru"
         }
        }
       ]
      },
      "text/plain": [
       "<IPython.core.display.JSON object>"
      ]
     },
     "execution_count": 48,
     "metadata": {
      "application/json": {
       "expanded": false,
       "root": "root"
      }
     },
     "output_type": "execute_result"
    }
   ],
   "source": [
    "JSON(job_response_json)"
   ]
  },
  {
   "cell_type": "markdown",
   "metadata": {},
   "source": [
    "## Получение доступных spark конфигураций ([содержание](#toc))<a class=\"anchor\" id=\"jobs-spark-config\"></a>"
   ]
  },
  {
   "attachments": {},
   "cell_type": "markdown",
   "metadata": {},
   "source": [
    "Подробнее в [документации](https://cloud.ru/ru/docs/aicloud/mlspace/concepts/api.html#instances-types) "
   ]
  },
  {
   "cell_type": "code",
   "execution_count": 49,
   "metadata": {},
   "outputs": [
    {
     "data": {
      "text/plain": [
       "'https://api.aicloud.sbercloud.ru/public/v2/configs/spark'"
      ]
     },
     "execution_count": 49,
     "metadata": {},
     "output_type": "execute_result"
    }
   ],
   "source": [
    "endpoint = \"configs/spark\"     \n",
    "\n",
    "headers = {\n",
    "    \"x-api-key\": credentials_dict[\"workspaces\"][0][\"x-api-key\"],\n",
    "    \"authorization\": auth_response_json[\"token\"][\"access_token\"],\n",
    "    \"x-workspace-id\": credentials_dict[\"workspaces\"][0][\"id\"]\n",
    "}\n",
    "\n",
    "url = rest_call_template.format(host, endpoint)\n",
    "url"
   ]
  },
  {
   "cell_type": "code",
   "execution_count": 50,
   "metadata": {},
   "outputs": [],
   "source": [
    "response = requests.request(\n",
    "    \"GET\",\n",
    "    url,\n",
    "    headers=headers\n",
    ")\n",
    "job_response_json = json.loads(response.text)"
   ]
  },
  {
   "cell_type": "code",
   "execution_count": 51,
   "metadata": {},
   "outputs": [
    {
     "data": {
      "application/json": {
       "driver_resources": [
        {
         "cpu": 4,
         "description": "cpu-ai-small (4 vCPU, 16 GB)",
         "id": "cpu_0",
         "memory": "16Gi",
         "type": "cpu"
        },
        {
         "cpu": 8,
         "description": "cpu-ai-middle (8 vCPU, 32 GB)",
         "id": "cpu_1",
         "memory": "32Gi",
         "type": "cpu"
        },
        {
         "cpu": 12,
         "description": "cpu-ai-large (12 vCPU, 48 GB)",
         "id": "cpu_2",
         "memory": "48Gi",
         "type": "cpu"
        },
        {
         "cpu": 24,
         "description": "cpu-ai-giant (24 vCPU, 96 GB)",
         "id": "cpu_3",
         "memory": "96Gi",
         "type": "cpu"
        }
       ],
       "executor": {
        "max": 10,
        "min": 1
       },
       "executor_resources": [
        {
         "cpu": 4,
         "description": "cpu-ai-small (4 vCPU, 16 GB)",
         "id": "cpu_0",
         "memory": "16Gi",
         "type": "cpu"
        },
        {
         "cpu": 8,
         "description": "cpu-ai-middle (8 vCPU, 32 GB)",
         "id": "cpu_1",
         "memory": "32Gi",
         "type": "cpu"
        },
        {
         "cpu": 12,
         "description": "cpu-ai-large (12 vCPU, 48 GB)",
         "id": "cpu_2",
         "memory": "48Gi",
         "type": "cpu"
        },
        {
         "cpu": 24,
         "description": "cpu-ai-giant (24 vCPU, 96 GB)",
         "id": "cpu_3",
         "memory": "96Gi",
         "type": "cpu"
        }
       ],
       "jupyter_server_images": [
        "registry.aicloud.sbcp.ru/jupyter-cuda10.1-tf2.3.0-mlspace:0.0.70"
       ],
       "spark_images": [
        {
         "image": "registry.aicloud.sbcp.ru/spark-3.0.1:0.0.1",
         "spark-version": "3.0.1",
         "type": "cpu"
        }
       ]
      },
      "text/plain": [
       "<IPython.core.display.JSON object>"
      ]
     },
     "execution_count": 51,
     "metadata": {
      "application/json": {
       "expanded": false,
       "root": "root"
      }
     },
     "output_type": "execute_result"
    }
   ],
   "source": [
    "JSON(job_response_json)"
   ]
  },
  {
   "cell_type": "markdown",
   "metadata": {},
   "source": [
    "# Inference-методы ([содержание](#toc))<a class=\"anchor\" id=\"inference\"></a>"
   ]
  },
  {
   "cell_type": "markdown",
   "metadata": {},
   "source": [
    "## Получить список сервисов ([содержание](#toc))<a class=\"anchor\" id=\"inference-get-services-list\"></a>"
   ]
  },
  {
   "cell_type": "code",
   "execution_count": null,
   "metadata": {},
   "outputs": [],
   "source": [
    "endpoint = \"inference/v1/\"\n",
    "\n",
    "headers = {\n",
    "    \"x-api-key\": credentials_dict[\"workspaces\"][0][\"x-api-key\"],\n",
    "    \"authorization\": auth_response_json[\"token\"][\"access_token\"],\n",
    "    \"x-workspace-id\": credentials_dict[\"workspaces\"][0][\"id\"]\n",
    "}\n",
    "\n",
    "url = rest_call_template.format(host, endpoint)\n",
    "url"
   ]
  },
  {
   "cell_type": "code",
   "execution_count": null,
   "metadata": {},
   "outputs": [],
   "source": [
    "response = requests.request(\n",
    "    \"GET\",\n",
    "    url,\n",
    "    headers=headers\n",
    ")"
   ]
  },
  {
   "cell_type": "code",
   "execution_count": null,
   "metadata": {},
   "outputs": [],
   "source": [
    "response_json = json.loads(response.text)"
   ]
  },
  {
   "cell_type": "code",
   "execution_count": null,
   "metadata": {},
   "outputs": [],
   "source": [
    "response_json = {\n",
    "    \"services\": response_json\n",
    "}"
   ]
  },
  {
   "cell_type": "code",
   "execution_count": null,
   "metadata": {},
   "outputs": [],
   "source": [
    "JSON(response_json)"
   ]
  },
  {
   "cell_type": "markdown",
   "metadata": {},
   "source": [
    "## Получить информацию по сервису ([содержание](#toc))<a class=\"anchor\" id=\"inference-get-service-info\"></a>"
   ]
  },
  {
   "cell_type": "code",
   "execution_count": null,
   "metadata": {},
   "outputs": [],
   "source": [
    "endpoint = \"inference/v1/{}\".format(response_json[\"services\"][2][\"name\"])\n",
    "\n",
    "headers = {\n",
    "    \"x-api-key\": credentials_dict[\"workspaces\"][0][\"x-api-key\"],\n",
    "    \"authorization\": auth_response_json[\"token\"][\"access_token\"],\n",
    "    \"x-workspace-id\": credentials_dict[\"workspaces\"][0][\"id\"]\n",
    "}\n",
    "\n",
    "url = rest_call_template.format(host, endpoint)\n",
    "url"
   ]
  },
  {
   "cell_type": "code",
   "execution_count": null,
   "metadata": {},
   "outputs": [],
   "source": [
    "response = requests.request(\n",
    "    \"GET\",\n",
    "    url,\n",
    "    headers=headers\n",
    ")"
   ]
  },
  {
   "cell_type": "code",
   "execution_count": null,
   "metadata": {},
   "outputs": [],
   "source": [
    "response_json = json.loads(response.text)"
   ]
  },
  {
   "cell_type": "code",
   "execution_count": null,
   "metadata": {},
   "outputs": [],
   "source": [
    "response_json = {\n",
    "    \"service\": response_json\n",
    "}"
   ]
  },
  {
   "cell_type": "code",
   "execution_count": null,
   "metadata": {},
   "outputs": [],
   "source": [
    "JSON(response_json)"
   ]
  },
  {
   "cell_type": "markdown",
   "metadata": {},
   "source": [
    "## Создать образ для инференс-сервиса ([содержание](#toc))<a class=\"anchor\" id=\"inference-create-an-image\"></a>"
   ]
  },
  {
   "cell_type": "code",
   "execution_count": null,
   "metadata": {},
   "outputs": [],
   "source": [
    "s3.upload_file(\n",
    "    \"/home/jovyan/requirements.txt\",\n",
    "    credentials_dict[\"workspaces\"][0][\"bucket_name\"],\n",
    "    \"inference_folder/requirements.txt\",\n",
    ")"
   ]
  },
  {
   "cell_type": "code",
   "execution_count": null,
   "metadata": {},
   "outputs": [],
   "source": [
    "s3.upload_file(\n",
    "    \"/home/jovyan/dummy_mirror_serving_script.py\",\n",
    "    credentials_dict[\"workspaces\"][0][\"bucket_name\"],\n",
    "    \"inference_folder/dummy_mirror_serving_script.py\",\n",
    ")"
   ]
  },
  {
   "cell_type": "code",
   "execution_count": null,
   "metadata": {},
   "outputs": [],
   "source": [
    "endpoint = \"inference/build/v1/\"\n",
    "\n",
    "headers = {\n",
    "    \"x-api-key\": credentials_dict[\"workspaces\"][0][\"x-api-key\"],\n",
    "    \"authorization\": auth_response_json[\"token\"][\"access_token\"],\n",
    "    \"x-workspace-id\": credentials_dict[\"workspaces\"][0][\"id\"],\n",
    "    \"Content-Type\": \"application/json\",\n",
    "    \"Accept\": \"application/json\"\n",
    "}\n",
    "\n",
    "json_body = {\n",
    "    \"base_image\": \"registry.aicloud.sbcp.ru/base/horovod-cuda10.0-tf1.15.0\",\n",
    "    \"run_script\": \"dummy_mirror_serving_script.py\",\n",
    "    \"requirements_path\": \"requirements.txt\",\n",
    "    \"artifacts_directory\": \"{}/inference_folder/\".format(credentials_dict[\"workspaces\"][0][\"bucket_name\"]),\n",
    "    \"AWS_ACCESS_KEY_ID\": credentials_dict[\"workspaces\"][0][\"access_key_id\"],\n",
    "    \"AWS_SECRET_ACCESS_KEY\": credentials_dict[\"workspaces\"][0][\"secret_access_key\"],\n",
    "    \"S3_ENDPOINT\": credentials_dict[\"workspaces\"][0][\"endpoint_url\"]\n",
    "}\n",
    "\n",
    "url = rest_call_template.format(host, endpoint)\n",
    "url"
   ]
  },
  {
   "cell_type": "code",
   "execution_count": null,
   "metadata": {},
   "outputs": [],
   "source": [
    "response = requests.request(\n",
    "    \"POST\",\n",
    "    url,\n",
    "    headers=headers,\n",
    "    json=json_body\n",
    ")"
   ]
  },
  {
   "cell_type": "code",
   "execution_count": null,
   "metadata": {},
   "outputs": [],
   "source": [
    "response_json = json.loads(response.text)"
   ]
  },
  {
   "cell_type": "code",
   "execution_count": null,
   "metadata": {},
   "outputs": [],
   "source": [
    "JSON(response_json)"
   ]
  },
  {
   "cell_type": "markdown",
   "metadata": {},
   "source": [
    "## Просмотреть статус сборки образа для инференс-сервиса ([содержание](#toc))<a class=\"anchor\" id=\"inference-image-creation-status\"></a>"
   ]
  },
  {
   "cell_type": "code",
   "execution_count": null,
   "metadata": {},
   "outputs": [],
   "source": [
    "endpoint = \"service/jobs\"\n",
    "\n",
    "headers = {\n",
    "    \"x-api-key\": credentials_dict[\"workspaces\"][0][\"x-api-key\"],\n",
    "    \"authorization\": auth_response_json[\"token\"][\"access_token\"],\n",
    "    \"x-workspace-id\": credentials_dict[\"workspaces\"][0][\"id\"]\n",
    "}\n",
    "\n",
    "url = rest_call_template.format(host, endpoint)\n",
    "url"
   ]
  },
  {
   "cell_type": "code",
   "execution_count": null,
   "metadata": {},
   "outputs": [],
   "source": [
    "response = requests.request(\n",
    "    \"GET\",\n",
    "    url,\n",
    "    headers=headers\n",
    ")"
   ]
  },
  {
   "cell_type": "code",
   "execution_count": null,
   "metadata": {},
   "outputs": [],
   "source": [
    "JSON(json.loads(response.text))"
   ]
  },
  {
   "cell_type": "markdown",
   "metadata": {},
   "source": [
    "## Просмотреть логи сборки образа для инференс-сервиса ([содержание](#toc))<a class=\"anchor\" id=\"inference-image-creation-logs\"></a>"
   ]
  },
  {
   "cell_type": "code",
   "execution_count": null,
   "metadata": {},
   "outputs": [],
   "source": [
    "endpoint = \"service/jobs/{}/logs\".format(response_json[\"job_name\"])\n",
    "\n",
    "headers = {\n",
    "    \"x-api-key\": credentials_dict[\"workspaces\"][0][\"x-api-key\"],\n",
    "    \"authorization\": auth_response_json[\"token\"][\"access_token\"],\n",
    "    \"x-workspace-id\": credentials_dict[\"workspaces\"][0][\"id\"]\n",
    "}\n",
    "\n",
    "url = rest_call_template.format(host, endpoint)\n",
    "url"
   ]
  },
  {
   "cell_type": "code",
   "execution_count": null,
   "metadata": {},
   "outputs": [],
   "source": [
    "response = requests.request(\n",
    "    \"GET\",\n",
    "    url,\n",
    "    headers=headers\n",
    ")\n",
    "\n",
    "print(response.text)"
   ]
  },
  {
   "cell_type": "markdown",
   "metadata": {},
   "source": [
    "## Создать деплой на основе собранного образа ([содержание](#toc))<a class=\"anchor\" id=\"inference-create-service\"></a>"
   ]
  },
  {
   "cell_type": "code",
   "execution_count": null,
   "metadata": {},
   "outputs": [],
   "source": [
    "endpoint = \"inference/v1/\"\n",
    "\n",
    "headers = {\n",
    "    \"x-api-key\": credentials_dict[\"workspaces\"][0][\"x-api-key\"],\n",
    "    \"authorization\": auth_response_json[\"token\"][\"access_token\"],\n",
    "    \"x-workspace-id\": credentials_dict[\"workspaces\"][0][\"id\"],\n",
    "    \"Content-Type\": \"application/json\",\n",
    "    \"Accept\": \"application/json\"\n",
    "}\n",
    "\n",
    "json_body = {\n",
    "    \"image\": response_json[\"image\"],\n",
    "    \"resources\": {\n",
    "        \"cpu\": 1,\n",
    "        \"memory\": 10,\n",
    "        \"gpu\": \"1\"\n",
    "    },\n",
    "    \"replicas\": {\n",
    "        \"min\": 1,\n",
    "        \"max\": 2\n",
    "    }\n",
    "}\n",
    "\n",
    "url = rest_call_template.format(host, endpoint)\n",
    "url"
   ]
  },
  {
   "cell_type": "code",
   "execution_count": null,
   "metadata": {},
   "outputs": [],
   "source": [
    "response = requests.request(\n",
    "    \"POST\",\n",
    "    url,\n",
    "    headers=headers,\n",
    "    json=json_body\n",
    ")"
   ]
  },
  {
   "cell_type": "code",
   "execution_count": null,
   "metadata": {},
   "outputs": [],
   "source": [
    "response_json = json.loads(response.text)"
   ]
  },
  {
   "cell_type": "code",
   "execution_count": null,
   "metadata": {},
   "outputs": [],
   "source": [
    "print(response_json[\"metadata\"][\"name\"])"
   ]
  },
  {
   "cell_type": "markdown",
   "metadata": {},
   "source": [
    "## Отправить запрос к созданному сервису ([содержание](#toc))<a class=\"anchor\" id=\"inference-get-a-response-from-service\"></a>"
   ]
  },
  {
   "cell_type": "code",
   "execution_count": null,
   "metadata": {},
   "outputs": [],
   "source": [
    "endpoint = \"inference/v1/predict/{}/{}/\".format(response_json[\"metadata\"][\"name\"], response_json[\"metadata\"][\"name\"])\n",
    "\n",
    "headers = {\n",
    "    \"x-api-key\": credentials_dict[\"workspaces\"][0][\"x-api-key\"],\n",
    "    \"authorization\": auth_response_json[\"token\"][\"access_token\"],\n",
    "    \"x-workspace-id\": credentials_dict[\"workspaces\"][0][\"id\"],\n",
    "    \"Content-Type\": \"application/json\",\n",
    "    \"Accept\": \"application/json\"\n",
    "}\n",
    "\n",
    "json_body = {\n",
    "    \"instances\": [\n",
    "        {\n",
    "            \"image_link\": \"1.jpg\"\n",
    "        },\n",
    "        {\n",
    "            \"image_link\": \"2.jpg\"\n",
    "        },\n",
    "        {\n",
    "            \"image_link\": \"3.jpg\"\n",
    "        }\n",
    "    ]\n",
    "}\n",
    "\n",
    "url = rest_call_template.format(host, endpoint)\n",
    "url"
   ]
  },
  {
   "cell_type": "code",
   "execution_count": null,
   "metadata": {},
   "outputs": [],
   "source": [
    "response = requests.request(\n",
    "    \"POST\",\n",
    "    url,\n",
    "    headers=headers,\n",
    "    json=json_body\n",
    ")"
   ]
  },
  {
   "cell_type": "code",
   "execution_count": null,
   "metadata": {},
   "outputs": [],
   "source": [
    "JSON(json.loads(response.text))"
   ]
  },
  {
   "cell_type": "code",
   "execution_count": null,
   "metadata": {},
   "outputs": [],
   "source": []
  }
 ],
 "metadata": {
  "kernelspec": {
   "display_name": "Python 3 (ipykernel)",
   "language": "python",
   "name": "python3"
  },
  "language_info": {
   "codemirror_mode": {
    "name": "ipython",
    "version": 3
   },
   "file_extension": ".py",
   "mimetype": "text/x-python",
   "name": "python",
   "nbconvert_exporter": "python",
   "pygments_lexer": "ipython3",
   "version": "3.8.6"
  }
 },
 "nbformat": 4,
 "nbformat_minor": 4
}
